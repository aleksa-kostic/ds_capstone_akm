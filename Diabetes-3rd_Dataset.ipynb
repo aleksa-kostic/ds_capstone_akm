{
 "cells": [
  {
   "cell_type": "code",
   "execution_count": 1,
   "id": "29534e93-714e-4ccf-95d7-7994edf0c159",
   "metadata": {},
   "outputs": [
    {
     "name": "stdout",
     "output_type": "stream",
     "text": [
      "Requirement already satisfied: ucimlrepo in /Users/marlenearredondo/opt/anaconda3/lib/python3.9/site-packages (0.0.3)\n",
      "Note: you may need to restart the kernel to use updated packages.\n"
     ]
    }
   ],
   "source": [
    "pip install ucimlrepo"
   ]
  },
  {
   "cell_type": "code",
   "execution_count": 2,
   "id": "8541d65c-42bb-4803-b354-11e66e79a084",
   "metadata": {},
   "outputs": [
    {
     "name": "stdout",
     "output_type": "stream",
     "text": [
      "{'uci_id': 296, 'name': 'Diabetes 130-US hospitals for years 1999-2008', 'repository_url': 'https://archive.ics.uci.edu/dataset/296/diabetes+130-us+hospitals+for+years+1999-2008', 'data_url': 'https://archive.ics.uci.edu/static/public/296/data.csv', 'abstract': 'The dataset represents ten years (1999-2008) of clinical care at 130 US hospitals and integrated delivery networks. Each row concerns hospital records of patients diagnosed with diabetes, who underwent laboratory, medications, and stayed up to 14 days. The goal is to determine the early readmission of the patient within 30 days of discharge.\\nThe problem is important for the following reasons. Despite high-quality evidence showing improved clinical outcomes for diabetic patients who receive various preventive and therapeutic interventions, many patients do not receive them. This can be partially attributed to arbitrary diabetes management in hospital environments, which fail to attend to glycemic control. Failure to provide proper diabetes care not only increases the managing costs for the hospitals (as the patients are readmitted) but also impacts the morbidity and mortality of the patients, who may face complications associated with diabetes.\\n', 'area': 'Health and Medicine', 'tasks': ['Classification', 'Clustering'], 'characteristics': ['Multivariate'], 'num_instances': 101766, 'num_features': 47, 'feature_types': ['Categorical', 'Integer'], 'demographics': ['Race', 'Gender', 'Age'], 'target_col': ['readmitted'], 'index_col': ['encounter_id', 'patient_nbr'], 'has_missing_values': 'yes', 'missing_values_symbol': 'NaN', 'year_of_dataset_creation': 2014, 'last_updated': 'Fri Nov 03 2023', 'dataset_doi': '10.24432/C5230J', 'creators': ['John Clore', 'Krzysztof Cios', 'Jon DeShazo', 'Beata Strack'], 'intro_paper': {'title': 'Impact of HbA1c Measurement on Hospital Readmission Rates: Analysis of 70,000 Clinical Database Patient Record', 'authors': 'Beata Strack, Jonathan DeShazo, Chris Gennings, Juan Olmo, Sebastian Ventura, Krzysztof Cios, John Clore', 'published_in': 'BioMed Research International, vol. 2014', 'year': 2014, 'url': 'https://www.hindawi.com/journals/bmri/2014/781670/', 'doi': None}, 'additional_info': {'summary': 'The dataset represents ten years (1999-2008) of clinical care at 130 US hospitals and integrated delivery networks. It includes over 50 features representing patient and hospital outcomes. Information was extracted from the database for encounters that satisfied the following criteria.\\n(1)\\tIt is an inpatient encounter (a hospital admission).\\n(2)\\tIt is a diabetic encounter, that is, one during which any kind of diabetes was entered into the system as a diagnosis.\\n(3)\\tThe length of stay was at least 1 day and at most 14 days.\\n(4)\\tLaboratory tests were performed during the encounter.\\n(5)\\tMedications were administered during the encounter.\\n\\nThe data contains such attributes as patient number, race, gender, age, admission type, time in hospital, medical specialty of admitting physician, number of lab tests performed, HbA1c test result, diagnosis, number of medications, diabetic medications, number of outpatient, inpatient, and emergency visits in the year before the hospitalization, etc.', 'purpose': None, 'funded_by': None, 'instances_represent': 'The instances represent hospitalized patient records diagnosed with diabetes.', 'recommended_data_splits': 'No recommendation. The standard train-test split could be used. Can use three-way holdout split (i.e., train-validation-test) when doing model selection.', 'sensitive_data': 'Yes. The dataset contains information about the age, gender, and race of the patients.', 'preprocessing_description': None, 'variable_info': 'Detailed description of all the atrributes is provided in Table 1 Beata Strack, Jonathan P. DeShazo, Chris Gennings,  Juan L. Olmo, Sebastian Ventura,  Krzysztof J. Cios, and John N. Clore, “Impact of HbA1c Measurement on Hospital Readmission Rates: Analysis of 70,000 Clinical Database Patient Records,” BioMed Research International, vol. 2014, Article ID 781670, 11 pages, 2014.\\n\\nhttp://www.hindawi.com/journals/bmri/2014/781670/', 'citation': 'Please cite:\\nBeata Strack, Jonathan P. DeShazo, Chris Gennings, Juan L. Olmo, Sebastian Ventura, Krzysztof J. Cios, and John N. Clore, “Impact of HbA1c Measurement on Hospital Readmission Rates: Analysis of 70,000 Clinical Database Patient Records,” BioMed Research International, vol. 2014, Article ID 781670, 11 pages, 2014.'}}\n",
      "                        name     role         type demographic  \\\n",
      "0               encounter_id       ID                     None   \n",
      "1                patient_nbr       ID                     None   \n",
      "2                       race  Feature  Categorical        Race   \n",
      "3                     gender  Feature  Categorical      Gender   \n",
      "4                        age  Feature  Categorical         Age   \n",
      "5                     weight  Feature  Categorical        None   \n",
      "6          admission_type_id  Feature  Categorical        None   \n",
      "7   discharge_disposition_id  Feature  Categorical        None   \n",
      "8        admission_source_id  Feature  Categorical        None   \n",
      "9           time_in_hospital  Feature      Integer        None   \n",
      "10                payer_code  Feature  Categorical        None   \n",
      "11         medical_specialty  Feature  Categorical        None   \n",
      "12        num_lab_procedures  Feature      Integer        None   \n",
      "13            num_procedures  Feature      Integer        None   \n",
      "14           num_medications  Feature      Integer        None   \n",
      "15         number_outpatient  Feature      Integer        None   \n",
      "16          number_emergency  Feature      Integer        None   \n",
      "17          number_inpatient  Feature      Integer        None   \n",
      "18                    diag_1  Feature  Categorical        None   \n",
      "19                    diag_2  Feature  Categorical        None   \n",
      "20                    diag_3  Feature  Categorical        None   \n",
      "21          number_diagnoses  Feature      Integer        None   \n",
      "22             max_glu_serum  Feature  Categorical        None   \n",
      "23                 A1Cresult  Feature  Categorical        None   \n",
      "24                 metformin  Feature  Categorical        None   \n",
      "25               repaglinide  Feature  Categorical        None   \n",
      "26               nateglinide  Feature  Categorical        None   \n",
      "27            chlorpropamide  Feature  Categorical        None   \n",
      "28               glimepiride  Feature  Categorical        None   \n",
      "29             acetohexamide  Feature  Categorical        None   \n",
      "30                 glipizide  Feature  Categorical        None   \n",
      "31                 glyburide  Feature  Categorical        None   \n",
      "32               tolbutamide  Feature  Categorical        None   \n",
      "33              pioglitazone  Feature  Categorical        None   \n",
      "34             rosiglitazone  Feature  Categorical        None   \n",
      "35                  acarbose  Feature  Categorical        None   \n",
      "36                  miglitol  Feature  Categorical        None   \n",
      "37              troglitazone  Feature  Categorical        None   \n",
      "38                tolazamide  Feature  Categorical        None   \n",
      "39                   examide  Feature  Categorical        None   \n",
      "40               citoglipton  Feature  Categorical        None   \n",
      "41                   insulin  Feature  Categorical        None   \n",
      "42       glyburide-metformin  Feature  Categorical        None   \n",
      "43       glipizide-metformin  Feature  Categorical        None   \n",
      "44  glimepiride-pioglitazone  Feature  Categorical        None   \n",
      "45   metformin-rosiglitazone  Feature  Categorical        None   \n",
      "46    metformin-pioglitazone  Feature  Categorical        None   \n",
      "47                    change  Feature  Categorical        None   \n",
      "48               diabetesMed  Feature  Categorical        None   \n",
      "49                readmitted   Target  Categorical        None   \n",
      "\n",
      "                                          description units missing_values  \n",
      "0                   Unique identifier of an encounter  None             no  \n",
      "1                      Unique identifier of a patient  None             no  \n",
      "2   Values: Caucasian, Asian, African American, Hi...  None            yes  \n",
      "3           Values: male, female, and unknown/invalid  None             no  \n",
      "4   Grouped in 10-year intervals: [0, 10), [10, 20...  None             no  \n",
      "5                                   Weight in pounds.  None            yes  \n",
      "6   Integer identifier corresponding to 9 distinct...  None             no  \n",
      "7   Integer identifier corresponding to 29 distinc...  None             no  \n",
      "8   Integer identifier corresponding to 21 distinc...  None             no  \n",
      "9   Integer number of days between admission and d...  None             no  \n",
      "10  Integer identifier corresponding to 23 distinc...  None            yes  \n",
      "11  Integer identifier of a specialty of the admit...  None            yes  \n",
      "12  Number of lab tests performed during the encou...  None             no  \n",
      "13  Number of procedures (other than lab tests) pe...  None             no  \n",
      "14  Number of distinct generic names administered ...  None             no  \n",
      "15  Number of outpatient visits of the patient in ...  None             no  \n",
      "16  Number of emergency visits of the patient in t...  None             no  \n",
      "17  Number of inpatient visits of the patient in t...  None             no  \n",
      "18  The primary diagnosis (coded as first three di...  None            yes  \n",
      "19  Secondary diagnosis (coded as first three digi...  None            yes  \n",
      "20  Additional secondary diagnosis (coded as first...  None            yes  \n",
      "21          Number of diagnoses entered to the system  None             no  \n",
      "22  Indicates the range of the result or if the te...  None             no  \n",
      "23  Indicates the range of the result or if the te...  None             no  \n",
      "24  The feature indicates whether the drug was pre...  None             no  \n",
      "25  The feature indicates whether the drug was pre...  None             no  \n",
      "26  The feature indicates whether the drug was pre...  None             no  \n",
      "27  The feature indicates whether the drug was pre...  None             no  \n",
      "28  The feature indicates whether the drug was pre...  None             no  \n",
      "29  The feature indicates whether the drug was pre...  None             no  \n",
      "30  The feature indicates whether the drug was pre...  None             no  \n",
      "31  The feature indicates whether the drug was pre...  None             no  \n",
      "32  The feature indicates whether the drug was pre...  None             no  \n",
      "33  The feature indicates whether the drug was pre...  None             no  \n",
      "34  The feature indicates whether the drug was pre...  None             no  \n",
      "35  The feature indicates whether the drug was pre...  None             no  \n",
      "36  The feature indicates whether the drug was pre...  None             no  \n",
      "37  The feature indicates whether the drug was pre...  None             no  \n",
      "38  The feature indicates whether the drug was pre...  None             no  \n",
      "39  The feature indicates whether the drug was pre...  None             no  \n",
      "40  The feature indicates whether the drug was pre...  None             no  \n",
      "41  The feature indicates whether the drug was pre...  None             no  \n",
      "42  The feature indicates whether the drug was pre...  None             no  \n",
      "43  The feature indicates whether the drug was pre...  None             no  \n",
      "44  The feature indicates whether the drug was pre...  None             no  \n",
      "45  The feature indicates whether the drug was pre...  None             no  \n",
      "46  The feature indicates whether the drug was pre...  None             no  \n",
      "47  Indicates if there was a change in diabetic me...  None             no  \n",
      "48  Indicates if there was any diabetic medication...  None             no  \n",
      "49  Days to inpatient readmission. Values: <30 if ...  None             no  \n"
     ]
    },
    {
     "name": "stderr",
     "output_type": "stream",
     "text": [
      "/Users/marlenearredondo/opt/anaconda3/lib/python3.9/site-packages/ucimlrepo/fetch.py:97: DtypeWarning: Columns (10) have mixed types. Specify dtype option on import or set low_memory=False.\n",
      "  df = pd.read_csv(data_url)\n"
     ]
    }
   ],
   "source": [
    "from ucimlrepo import fetch_ucirepo \n",
    "  \n",
    "# fetch dataset \n",
    "diabetes_130_us_hospitals_for_years_1999_2008 = fetch_ucirepo(id=296) \n",
    "  \n",
    "# data (as pandas dataframes) \n",
    "X = diabetes_130_us_hospitals_for_years_1999_2008.data.features \n",
    "y = diabetes_130_us_hospitals_for_years_1999_2008.data.targets \n",
    "  \n",
    "# metadata \n",
    "print(diabetes_130_us_hospitals_for_years_1999_2008.metadata) \n",
    "  \n",
    "# variable information \n",
    "print(diabetes_130_us_hospitals_for_years_1999_2008.variables) "
   ]
  },
  {
   "cell_type": "markdown",
   "id": "fd7b141a-892c-4416-9613-bb3618b3db5d",
   "metadata": {},
   "source": [
    "### Pre-Processing"
   ]
  },
  {
   "cell_type": "code",
   "execution_count": 3,
   "id": "fbba1297-5fc5-42eb-bf26-07ca70c9994b",
   "metadata": {},
   "outputs": [
    {
     "name": "stderr",
     "output_type": "stream",
     "text": [
      "/Users/marlenearredondo/opt/anaconda3/lib/python3.9/site-packages/scipy/__init__.py:155: UserWarning: A NumPy version >=1.18.5 and <1.25.0 is required for this version of SciPy (detected version 1.26.2\n",
      "  warnings.warn(f\"A NumPy version >={np_minversion} and <{np_maxversion}\"\n"
     ]
    }
   ],
   "source": [
    "import numpy as np\n",
    "import pandas as pd\n",
    "import seaborn as sns\n",
    "import matplotlib.pyplot as plt\n",
    "from sklearn.utils import resample\n",
    "from sklearn.preprocessing import normalize\n",
    "import matplotlib.pyplot as plt\n",
    "from mpl_toolkits.mplot3d import Axes3D, proj3d\n",
    "from sklearn.decomposition import PCA\n",
    "from sklearn.decomposition import TruncatedSVD\n",
    "from sklearn.model_selection import train_test_split\n",
    "from sklearn.linear_model import LogisticRegression\n",
    "from sklearn.metrics import accuracy_score\n",
    "from sklearn.preprocessing import StandardScaler\n",
    "from sklearn import svm\n",
    "from sklearn.metrics import precision_score, f1_score\n",
    "from sklearn.naive_bayes import GaussianNB\n",
    "from sklearn.metrics import classification_report\n",
    "from sklearn.metrics import recall_score"
   ]
  },
  {
   "cell_type": "code",
   "execution_count": 4,
   "id": "ac2e818d-ebc3-4fce-9e9c-76ba36676ccf",
   "metadata": {},
   "outputs": [
    {
     "data": {
      "text/html": [
       "<div>\n",
       "<style scoped>\n",
       "    .dataframe tbody tr th:only-of-type {\n",
       "        vertical-align: middle;\n",
       "    }\n",
       "\n",
       "    .dataframe tbody tr th {\n",
       "        vertical-align: top;\n",
       "    }\n",
       "\n",
       "    .dataframe thead th {\n",
       "        text-align: right;\n",
       "    }\n",
       "</style>\n",
       "<table border=\"1\" class=\"dataframe\">\n",
       "  <thead>\n",
       "    <tr style=\"text-align: right;\">\n",
       "      <th></th>\n",
       "      <th>race</th>\n",
       "      <th>gender</th>\n",
       "      <th>age</th>\n",
       "      <th>weight</th>\n",
       "      <th>admission_type_id</th>\n",
       "      <th>discharge_disposition_id</th>\n",
       "      <th>admission_source_id</th>\n",
       "      <th>time_in_hospital</th>\n",
       "      <th>payer_code</th>\n",
       "      <th>medical_specialty</th>\n",
       "      <th>...</th>\n",
       "      <th>examide</th>\n",
       "      <th>citoglipton</th>\n",
       "      <th>insulin</th>\n",
       "      <th>glyburide-metformin</th>\n",
       "      <th>glipizide-metformin</th>\n",
       "      <th>glimepiride-pioglitazone</th>\n",
       "      <th>metformin-rosiglitazone</th>\n",
       "      <th>metformin-pioglitazone</th>\n",
       "      <th>change</th>\n",
       "      <th>diabetesMed</th>\n",
       "    </tr>\n",
       "  </thead>\n",
       "  <tbody>\n",
       "    <tr>\n",
       "      <th>0</th>\n",
       "      <td>Caucasian</td>\n",
       "      <td>Female</td>\n",
       "      <td>[0-10)</td>\n",
       "      <td>NaN</td>\n",
       "      <td>6</td>\n",
       "      <td>25</td>\n",
       "      <td>1</td>\n",
       "      <td>1</td>\n",
       "      <td>NaN</td>\n",
       "      <td>Pediatrics-Endocrinology</td>\n",
       "      <td>...</td>\n",
       "      <td>No</td>\n",
       "      <td>No</td>\n",
       "      <td>No</td>\n",
       "      <td>No</td>\n",
       "      <td>No</td>\n",
       "      <td>No</td>\n",
       "      <td>No</td>\n",
       "      <td>No</td>\n",
       "      <td>No</td>\n",
       "      <td>No</td>\n",
       "    </tr>\n",
       "    <tr>\n",
       "      <th>1</th>\n",
       "      <td>Caucasian</td>\n",
       "      <td>Female</td>\n",
       "      <td>[10-20)</td>\n",
       "      <td>NaN</td>\n",
       "      <td>1</td>\n",
       "      <td>1</td>\n",
       "      <td>7</td>\n",
       "      <td>3</td>\n",
       "      <td>NaN</td>\n",
       "      <td>NaN</td>\n",
       "      <td>...</td>\n",
       "      <td>No</td>\n",
       "      <td>No</td>\n",
       "      <td>Up</td>\n",
       "      <td>No</td>\n",
       "      <td>No</td>\n",
       "      <td>No</td>\n",
       "      <td>No</td>\n",
       "      <td>No</td>\n",
       "      <td>Ch</td>\n",
       "      <td>Yes</td>\n",
       "    </tr>\n",
       "    <tr>\n",
       "      <th>2</th>\n",
       "      <td>AfricanAmerican</td>\n",
       "      <td>Female</td>\n",
       "      <td>[20-30)</td>\n",
       "      <td>NaN</td>\n",
       "      <td>1</td>\n",
       "      <td>1</td>\n",
       "      <td>7</td>\n",
       "      <td>2</td>\n",
       "      <td>NaN</td>\n",
       "      <td>NaN</td>\n",
       "      <td>...</td>\n",
       "      <td>No</td>\n",
       "      <td>No</td>\n",
       "      <td>No</td>\n",
       "      <td>No</td>\n",
       "      <td>No</td>\n",
       "      <td>No</td>\n",
       "      <td>No</td>\n",
       "      <td>No</td>\n",
       "      <td>No</td>\n",
       "      <td>Yes</td>\n",
       "    </tr>\n",
       "    <tr>\n",
       "      <th>3</th>\n",
       "      <td>Caucasian</td>\n",
       "      <td>Male</td>\n",
       "      <td>[30-40)</td>\n",
       "      <td>NaN</td>\n",
       "      <td>1</td>\n",
       "      <td>1</td>\n",
       "      <td>7</td>\n",
       "      <td>2</td>\n",
       "      <td>NaN</td>\n",
       "      <td>NaN</td>\n",
       "      <td>...</td>\n",
       "      <td>No</td>\n",
       "      <td>No</td>\n",
       "      <td>Up</td>\n",
       "      <td>No</td>\n",
       "      <td>No</td>\n",
       "      <td>No</td>\n",
       "      <td>No</td>\n",
       "      <td>No</td>\n",
       "      <td>Ch</td>\n",
       "      <td>Yes</td>\n",
       "    </tr>\n",
       "    <tr>\n",
       "      <th>4</th>\n",
       "      <td>Caucasian</td>\n",
       "      <td>Male</td>\n",
       "      <td>[40-50)</td>\n",
       "      <td>NaN</td>\n",
       "      <td>1</td>\n",
       "      <td>1</td>\n",
       "      <td>7</td>\n",
       "      <td>1</td>\n",
       "      <td>NaN</td>\n",
       "      <td>NaN</td>\n",
       "      <td>...</td>\n",
       "      <td>No</td>\n",
       "      <td>No</td>\n",
       "      <td>Steady</td>\n",
       "      <td>No</td>\n",
       "      <td>No</td>\n",
       "      <td>No</td>\n",
       "      <td>No</td>\n",
       "      <td>No</td>\n",
       "      <td>Ch</td>\n",
       "      <td>Yes</td>\n",
       "    </tr>\n",
       "    <tr>\n",
       "      <th>...</th>\n",
       "      <td>...</td>\n",
       "      <td>...</td>\n",
       "      <td>...</td>\n",
       "      <td>...</td>\n",
       "      <td>...</td>\n",
       "      <td>...</td>\n",
       "      <td>...</td>\n",
       "      <td>...</td>\n",
       "      <td>...</td>\n",
       "      <td>...</td>\n",
       "      <td>...</td>\n",
       "      <td>...</td>\n",
       "      <td>...</td>\n",
       "      <td>...</td>\n",
       "      <td>...</td>\n",
       "      <td>...</td>\n",
       "      <td>...</td>\n",
       "      <td>...</td>\n",
       "      <td>...</td>\n",
       "      <td>...</td>\n",
       "      <td>...</td>\n",
       "    </tr>\n",
       "    <tr>\n",
       "      <th>101761</th>\n",
       "      <td>AfricanAmerican</td>\n",
       "      <td>Male</td>\n",
       "      <td>[70-80)</td>\n",
       "      <td>NaN</td>\n",
       "      <td>1</td>\n",
       "      <td>3</td>\n",
       "      <td>7</td>\n",
       "      <td>3</td>\n",
       "      <td>MC</td>\n",
       "      <td>NaN</td>\n",
       "      <td>...</td>\n",
       "      <td>No</td>\n",
       "      <td>No</td>\n",
       "      <td>Down</td>\n",
       "      <td>No</td>\n",
       "      <td>No</td>\n",
       "      <td>No</td>\n",
       "      <td>No</td>\n",
       "      <td>No</td>\n",
       "      <td>Ch</td>\n",
       "      <td>Yes</td>\n",
       "    </tr>\n",
       "    <tr>\n",
       "      <th>101762</th>\n",
       "      <td>AfricanAmerican</td>\n",
       "      <td>Female</td>\n",
       "      <td>[80-90)</td>\n",
       "      <td>NaN</td>\n",
       "      <td>1</td>\n",
       "      <td>4</td>\n",
       "      <td>5</td>\n",
       "      <td>5</td>\n",
       "      <td>MC</td>\n",
       "      <td>NaN</td>\n",
       "      <td>...</td>\n",
       "      <td>No</td>\n",
       "      <td>No</td>\n",
       "      <td>Steady</td>\n",
       "      <td>No</td>\n",
       "      <td>No</td>\n",
       "      <td>No</td>\n",
       "      <td>No</td>\n",
       "      <td>No</td>\n",
       "      <td>No</td>\n",
       "      <td>Yes</td>\n",
       "    </tr>\n",
       "    <tr>\n",
       "      <th>101763</th>\n",
       "      <td>Caucasian</td>\n",
       "      <td>Male</td>\n",
       "      <td>[70-80)</td>\n",
       "      <td>NaN</td>\n",
       "      <td>1</td>\n",
       "      <td>1</td>\n",
       "      <td>7</td>\n",
       "      <td>1</td>\n",
       "      <td>MC</td>\n",
       "      <td>NaN</td>\n",
       "      <td>...</td>\n",
       "      <td>No</td>\n",
       "      <td>No</td>\n",
       "      <td>Down</td>\n",
       "      <td>No</td>\n",
       "      <td>No</td>\n",
       "      <td>No</td>\n",
       "      <td>No</td>\n",
       "      <td>No</td>\n",
       "      <td>Ch</td>\n",
       "      <td>Yes</td>\n",
       "    </tr>\n",
       "    <tr>\n",
       "      <th>101764</th>\n",
       "      <td>Caucasian</td>\n",
       "      <td>Female</td>\n",
       "      <td>[80-90)</td>\n",
       "      <td>NaN</td>\n",
       "      <td>2</td>\n",
       "      <td>3</td>\n",
       "      <td>7</td>\n",
       "      <td>10</td>\n",
       "      <td>MC</td>\n",
       "      <td>Surgery-General</td>\n",
       "      <td>...</td>\n",
       "      <td>No</td>\n",
       "      <td>No</td>\n",
       "      <td>Up</td>\n",
       "      <td>No</td>\n",
       "      <td>No</td>\n",
       "      <td>No</td>\n",
       "      <td>No</td>\n",
       "      <td>No</td>\n",
       "      <td>Ch</td>\n",
       "      <td>Yes</td>\n",
       "    </tr>\n",
       "    <tr>\n",
       "      <th>101765</th>\n",
       "      <td>Caucasian</td>\n",
       "      <td>Male</td>\n",
       "      <td>[70-80)</td>\n",
       "      <td>NaN</td>\n",
       "      <td>1</td>\n",
       "      <td>1</td>\n",
       "      <td>7</td>\n",
       "      <td>6</td>\n",
       "      <td>NaN</td>\n",
       "      <td>NaN</td>\n",
       "      <td>...</td>\n",
       "      <td>No</td>\n",
       "      <td>No</td>\n",
       "      <td>No</td>\n",
       "      <td>No</td>\n",
       "      <td>No</td>\n",
       "      <td>No</td>\n",
       "      <td>No</td>\n",
       "      <td>No</td>\n",
       "      <td>No</td>\n",
       "      <td>No</td>\n",
       "    </tr>\n",
       "  </tbody>\n",
       "</table>\n",
       "<p>101766 rows × 47 columns</p>\n",
       "</div>"
      ],
      "text/plain": [
       "                   race  gender      age weight  admission_type_id  \\\n",
       "0             Caucasian  Female   [0-10)    NaN                  6   \n",
       "1             Caucasian  Female  [10-20)    NaN                  1   \n",
       "2       AfricanAmerican  Female  [20-30)    NaN                  1   \n",
       "3             Caucasian    Male  [30-40)    NaN                  1   \n",
       "4             Caucasian    Male  [40-50)    NaN                  1   \n",
       "...                 ...     ...      ...    ...                ...   \n",
       "101761  AfricanAmerican    Male  [70-80)    NaN                  1   \n",
       "101762  AfricanAmerican  Female  [80-90)    NaN                  1   \n",
       "101763        Caucasian    Male  [70-80)    NaN                  1   \n",
       "101764        Caucasian  Female  [80-90)    NaN                  2   \n",
       "101765        Caucasian    Male  [70-80)    NaN                  1   \n",
       "\n",
       "        discharge_disposition_id  admission_source_id  time_in_hospital  \\\n",
       "0                             25                    1                 1   \n",
       "1                              1                    7                 3   \n",
       "2                              1                    7                 2   \n",
       "3                              1                    7                 2   \n",
       "4                              1                    7                 1   \n",
       "...                          ...                  ...               ...   \n",
       "101761                         3                    7                 3   \n",
       "101762                         4                    5                 5   \n",
       "101763                         1                    7                 1   \n",
       "101764                         3                    7                10   \n",
       "101765                         1                    7                 6   \n",
       "\n",
       "       payer_code         medical_specialty  ...  examide  citoglipton  \\\n",
       "0             NaN  Pediatrics-Endocrinology  ...       No           No   \n",
       "1             NaN                       NaN  ...       No           No   \n",
       "2             NaN                       NaN  ...       No           No   \n",
       "3             NaN                       NaN  ...       No           No   \n",
       "4             NaN                       NaN  ...       No           No   \n",
       "...           ...                       ...  ...      ...          ...   \n",
       "101761         MC                       NaN  ...       No           No   \n",
       "101762         MC                       NaN  ...       No           No   \n",
       "101763         MC                       NaN  ...       No           No   \n",
       "101764         MC           Surgery-General  ...       No           No   \n",
       "101765        NaN                       NaN  ...       No           No   \n",
       "\n",
       "        insulin  glyburide-metformin  glipizide-metformin  \\\n",
       "0            No                   No                   No   \n",
       "1            Up                   No                   No   \n",
       "2            No                   No                   No   \n",
       "3            Up                   No                   No   \n",
       "4        Steady                   No                   No   \n",
       "...         ...                  ...                  ...   \n",
       "101761     Down                   No                   No   \n",
       "101762   Steady                   No                   No   \n",
       "101763     Down                   No                   No   \n",
       "101764       Up                   No                   No   \n",
       "101765       No                   No                   No   \n",
       "\n",
       "        glimepiride-pioglitazone metformin-rosiglitazone  \\\n",
       "0                             No                      No   \n",
       "1                             No                      No   \n",
       "2                             No                      No   \n",
       "3                             No                      No   \n",
       "4                             No                      No   \n",
       "...                          ...                     ...   \n",
       "101761                        No                      No   \n",
       "101762                        No                      No   \n",
       "101763                        No                      No   \n",
       "101764                        No                      No   \n",
       "101765                        No                      No   \n",
       "\n",
       "       metformin-pioglitazone change  diabetesMed  \n",
       "0                          No     No           No  \n",
       "1                          No     Ch          Yes  \n",
       "2                          No     No          Yes  \n",
       "3                          No     Ch          Yes  \n",
       "4                          No     Ch          Yes  \n",
       "...                       ...    ...          ...  \n",
       "101761                     No     Ch          Yes  \n",
       "101762                     No     No          Yes  \n",
       "101763                     No     Ch          Yes  \n",
       "101764                     No     Ch          Yes  \n",
       "101765                     No     No           No  \n",
       "\n",
       "[101766 rows x 47 columns]"
      ]
     },
     "execution_count": 4,
     "metadata": {},
     "output_type": "execute_result"
    }
   ],
   "source": [
    "X"
   ]
  },
  {
   "cell_type": "code",
   "execution_count": 5,
   "id": "cfb8f84e-cf90-423f-a8c8-6276939511ed",
   "metadata": {},
   "outputs": [
    {
     "data": {
      "text/html": [
       "<div>\n",
       "<style scoped>\n",
       "    .dataframe tbody tr th:only-of-type {\n",
       "        vertical-align: middle;\n",
       "    }\n",
       "\n",
       "    .dataframe tbody tr th {\n",
       "        vertical-align: top;\n",
       "    }\n",
       "\n",
       "    .dataframe thead th {\n",
       "        text-align: right;\n",
       "    }\n",
       "</style>\n",
       "<table border=\"1\" class=\"dataframe\">\n",
       "  <thead>\n",
       "    <tr style=\"text-align: right;\">\n",
       "      <th></th>\n",
       "      <th>readmitted</th>\n",
       "    </tr>\n",
       "  </thead>\n",
       "  <tbody>\n",
       "    <tr>\n",
       "      <th>0</th>\n",
       "      <td>NO</td>\n",
       "    </tr>\n",
       "    <tr>\n",
       "      <th>1</th>\n",
       "      <td>&gt;30</td>\n",
       "    </tr>\n",
       "    <tr>\n",
       "      <th>2</th>\n",
       "      <td>NO</td>\n",
       "    </tr>\n",
       "    <tr>\n",
       "      <th>3</th>\n",
       "      <td>NO</td>\n",
       "    </tr>\n",
       "    <tr>\n",
       "      <th>4</th>\n",
       "      <td>NO</td>\n",
       "    </tr>\n",
       "    <tr>\n",
       "      <th>...</th>\n",
       "      <td>...</td>\n",
       "    </tr>\n",
       "    <tr>\n",
       "      <th>101761</th>\n",
       "      <td>&gt;30</td>\n",
       "    </tr>\n",
       "    <tr>\n",
       "      <th>101762</th>\n",
       "      <td>NO</td>\n",
       "    </tr>\n",
       "    <tr>\n",
       "      <th>101763</th>\n",
       "      <td>NO</td>\n",
       "    </tr>\n",
       "    <tr>\n",
       "      <th>101764</th>\n",
       "      <td>NO</td>\n",
       "    </tr>\n",
       "    <tr>\n",
       "      <th>101765</th>\n",
       "      <td>NO</td>\n",
       "    </tr>\n",
       "  </tbody>\n",
       "</table>\n",
       "<p>101766 rows × 1 columns</p>\n",
       "</div>"
      ],
      "text/plain": [
       "       readmitted\n",
       "0              NO\n",
       "1             >30\n",
       "2              NO\n",
       "3              NO\n",
       "4              NO\n",
       "...           ...\n",
       "101761        >30\n",
       "101762         NO\n",
       "101763         NO\n",
       "101764         NO\n",
       "101765         NO\n",
       "\n",
       "[101766 rows x 1 columns]"
      ]
     },
     "execution_count": 5,
     "metadata": {},
     "output_type": "execute_result"
    }
   ],
   "source": [
    "y"
   ]
  },
  {
   "cell_type": "code",
   "execution_count": 6,
   "id": "abb0892d-8def-461a-9deb-65bfdc66d0e5",
   "metadata": {},
   "outputs": [],
   "source": [
    "data = X.copy(deep=True)\n",
    "y = data['diabetesMed']"
   ]
  },
  {
   "cell_type": "code",
   "execution_count": 7,
   "id": "b04ccd20-5b23-47ae-838d-2e3db9a62619",
   "metadata": {
    "scrolled": true
   },
   "outputs": [
    {
     "data": {
      "text/plain": [
       "race                         2273\n",
       "gender                          0\n",
       "age                             0\n",
       "weight                      98569\n",
       "admission_type_id               0\n",
       "discharge_disposition_id        0\n",
       "admission_source_id             0\n",
       "time_in_hospital                0\n",
       "payer_code                  40256\n",
       "medical_specialty           49949\n",
       "num_lab_procedures              0\n",
       "num_procedures                  0\n",
       "num_medications                 0\n",
       "number_outpatient               0\n",
       "number_emergency                0\n",
       "number_inpatient                0\n",
       "diag_1                         21\n",
       "diag_2                        358\n",
       "diag_3                       1423\n",
       "number_diagnoses                0\n",
       "max_glu_serum                   0\n",
       "A1Cresult                       0\n",
       "metformin                       0\n",
       "repaglinide                     0\n",
       "nateglinide                     0\n",
       "chlorpropamide                  0\n",
       "glimepiride                     0\n",
       "acetohexamide                   0\n",
       "glipizide                       0\n",
       "glyburide                       0\n",
       "tolbutamide                     0\n",
       "pioglitazone                    0\n",
       "rosiglitazone                   0\n",
       "acarbose                        0\n",
       "miglitol                        0\n",
       "troglitazone                    0\n",
       "tolazamide                      0\n",
       "examide                         0\n",
       "citoglipton                     0\n",
       "insulin                         0\n",
       "glyburide-metformin             0\n",
       "glipizide-metformin             0\n",
       "glimepiride-pioglitazone        0\n",
       "metformin-rosiglitazone         0\n",
       "metformin-pioglitazone          0\n",
       "change                          0\n",
       "diabetesMed                     0\n",
       "dtype: int64"
      ]
     },
     "execution_count": 7,
     "metadata": {},
     "output_type": "execute_result"
    }
   ],
   "source": [
    "data.isnull().sum()"
   ]
  },
  {
   "cell_type": "code",
   "execution_count": 8,
   "id": "af7aaca5-5fb0-4f5d-954a-c27f3ae2420e",
   "metadata": {},
   "outputs": [
    {
     "data": {
      "text/plain": [
       "0"
      ]
     },
     "execution_count": 8,
     "metadata": {},
     "output_type": "execute_result"
    }
   ],
   "source": [
    "y.isnull().sum()"
   ]
  },
  {
   "cell_type": "code",
   "execution_count": 9,
   "id": "767a7a08-d8a4-4ec3-be4d-a51cdb84a239",
   "metadata": {},
   "outputs": [
    {
     "data": {
      "text/plain": [
       "0"
      ]
     },
     "execution_count": 9,
     "metadata": {},
     "output_type": "execute_result"
    }
   ],
   "source": [
    "data.duplicated().sum()"
   ]
  },
  {
   "cell_type": "code",
   "execution_count": 10,
   "id": "8c95a644-44c2-40a5-b799-a9b9f3fde699",
   "metadata": {},
   "outputs": [
    {
     "data": {
      "text/html": [
       "<div>\n",
       "<style scoped>\n",
       "    .dataframe tbody tr th:only-of-type {\n",
       "        vertical-align: middle;\n",
       "    }\n",
       "\n",
       "    .dataframe tbody tr th {\n",
       "        vertical-align: top;\n",
       "    }\n",
       "\n",
       "    .dataframe thead th {\n",
       "        text-align: right;\n",
       "    }\n",
       "</style>\n",
       "<table border=\"1\" class=\"dataframe\">\n",
       "  <thead>\n",
       "    <tr style=\"text-align: right;\">\n",
       "      <th></th>\n",
       "      <th>admission_type_id</th>\n",
       "      <th>discharge_disposition_id</th>\n",
       "      <th>admission_source_id</th>\n",
       "      <th>time_in_hospital</th>\n",
       "      <th>num_lab_procedures</th>\n",
       "      <th>num_procedures</th>\n",
       "      <th>num_medications</th>\n",
       "      <th>number_outpatient</th>\n",
       "      <th>number_emergency</th>\n",
       "      <th>number_inpatient</th>\n",
       "      <th>number_diagnoses</th>\n",
       "    </tr>\n",
       "  </thead>\n",
       "  <tbody>\n",
       "    <tr>\n",
       "      <th>count</th>\n",
       "      <td>101766.000000</td>\n",
       "      <td>101766.000000</td>\n",
       "      <td>101766.000000</td>\n",
       "      <td>101766.000000</td>\n",
       "      <td>101766.000000</td>\n",
       "      <td>101766.000000</td>\n",
       "      <td>101766.000000</td>\n",
       "      <td>101766.000000</td>\n",
       "      <td>101766.000000</td>\n",
       "      <td>101766.000000</td>\n",
       "      <td>101766.000000</td>\n",
       "    </tr>\n",
       "    <tr>\n",
       "      <th>mean</th>\n",
       "      <td>2.024006</td>\n",
       "      <td>3.715642</td>\n",
       "      <td>5.754437</td>\n",
       "      <td>4.395987</td>\n",
       "      <td>43.095641</td>\n",
       "      <td>1.339730</td>\n",
       "      <td>16.021844</td>\n",
       "      <td>0.369357</td>\n",
       "      <td>0.197836</td>\n",
       "      <td>0.635566</td>\n",
       "      <td>7.422607</td>\n",
       "    </tr>\n",
       "    <tr>\n",
       "      <th>std</th>\n",
       "      <td>1.445403</td>\n",
       "      <td>5.280166</td>\n",
       "      <td>4.064081</td>\n",
       "      <td>2.985108</td>\n",
       "      <td>19.674362</td>\n",
       "      <td>1.705807</td>\n",
       "      <td>8.127566</td>\n",
       "      <td>1.267265</td>\n",
       "      <td>0.930472</td>\n",
       "      <td>1.262863</td>\n",
       "      <td>1.933600</td>\n",
       "    </tr>\n",
       "    <tr>\n",
       "      <th>min</th>\n",
       "      <td>1.000000</td>\n",
       "      <td>1.000000</td>\n",
       "      <td>1.000000</td>\n",
       "      <td>1.000000</td>\n",
       "      <td>1.000000</td>\n",
       "      <td>0.000000</td>\n",
       "      <td>1.000000</td>\n",
       "      <td>0.000000</td>\n",
       "      <td>0.000000</td>\n",
       "      <td>0.000000</td>\n",
       "      <td>1.000000</td>\n",
       "    </tr>\n",
       "    <tr>\n",
       "      <th>25%</th>\n",
       "      <td>1.000000</td>\n",
       "      <td>1.000000</td>\n",
       "      <td>1.000000</td>\n",
       "      <td>2.000000</td>\n",
       "      <td>31.000000</td>\n",
       "      <td>0.000000</td>\n",
       "      <td>10.000000</td>\n",
       "      <td>0.000000</td>\n",
       "      <td>0.000000</td>\n",
       "      <td>0.000000</td>\n",
       "      <td>6.000000</td>\n",
       "    </tr>\n",
       "    <tr>\n",
       "      <th>50%</th>\n",
       "      <td>1.000000</td>\n",
       "      <td>1.000000</td>\n",
       "      <td>7.000000</td>\n",
       "      <td>4.000000</td>\n",
       "      <td>44.000000</td>\n",
       "      <td>1.000000</td>\n",
       "      <td>15.000000</td>\n",
       "      <td>0.000000</td>\n",
       "      <td>0.000000</td>\n",
       "      <td>0.000000</td>\n",
       "      <td>8.000000</td>\n",
       "    </tr>\n",
       "    <tr>\n",
       "      <th>75%</th>\n",
       "      <td>3.000000</td>\n",
       "      <td>4.000000</td>\n",
       "      <td>7.000000</td>\n",
       "      <td>6.000000</td>\n",
       "      <td>57.000000</td>\n",
       "      <td>2.000000</td>\n",
       "      <td>20.000000</td>\n",
       "      <td>0.000000</td>\n",
       "      <td>0.000000</td>\n",
       "      <td>1.000000</td>\n",
       "      <td>9.000000</td>\n",
       "    </tr>\n",
       "    <tr>\n",
       "      <th>max</th>\n",
       "      <td>8.000000</td>\n",
       "      <td>28.000000</td>\n",
       "      <td>25.000000</td>\n",
       "      <td>14.000000</td>\n",
       "      <td>132.000000</td>\n",
       "      <td>6.000000</td>\n",
       "      <td>81.000000</td>\n",
       "      <td>42.000000</td>\n",
       "      <td>76.000000</td>\n",
       "      <td>21.000000</td>\n",
       "      <td>16.000000</td>\n",
       "    </tr>\n",
       "  </tbody>\n",
       "</table>\n",
       "</div>"
      ],
      "text/plain": [
       "       admission_type_id  discharge_disposition_id  admission_source_id  \\\n",
       "count      101766.000000             101766.000000        101766.000000   \n",
       "mean            2.024006                  3.715642             5.754437   \n",
       "std             1.445403                  5.280166             4.064081   \n",
       "min             1.000000                  1.000000             1.000000   \n",
       "25%             1.000000                  1.000000             1.000000   \n",
       "50%             1.000000                  1.000000             7.000000   \n",
       "75%             3.000000                  4.000000             7.000000   \n",
       "max             8.000000                 28.000000            25.000000   \n",
       "\n",
       "       time_in_hospital  num_lab_procedures  num_procedures  num_medications  \\\n",
       "count     101766.000000       101766.000000   101766.000000    101766.000000   \n",
       "mean           4.395987           43.095641        1.339730        16.021844   \n",
       "std            2.985108           19.674362        1.705807         8.127566   \n",
       "min            1.000000            1.000000        0.000000         1.000000   \n",
       "25%            2.000000           31.000000        0.000000        10.000000   \n",
       "50%            4.000000           44.000000        1.000000        15.000000   \n",
       "75%            6.000000           57.000000        2.000000        20.000000   \n",
       "max           14.000000          132.000000        6.000000        81.000000   \n",
       "\n",
       "       number_outpatient  number_emergency  number_inpatient  number_diagnoses  \n",
       "count      101766.000000     101766.000000     101766.000000     101766.000000  \n",
       "mean            0.369357          0.197836          0.635566          7.422607  \n",
       "std             1.267265          0.930472          1.262863          1.933600  \n",
       "min             0.000000          0.000000          0.000000          1.000000  \n",
       "25%             0.000000          0.000000          0.000000          6.000000  \n",
       "50%             0.000000          0.000000          0.000000          8.000000  \n",
       "75%             0.000000          0.000000          1.000000          9.000000  \n",
       "max            42.000000         76.000000         21.000000         16.000000  "
      ]
     },
     "execution_count": 10,
     "metadata": {},
     "output_type": "execute_result"
    }
   ],
   "source": [
    "data.describe()"
   ]
  },
  {
   "cell_type": "code",
   "execution_count": 11,
   "id": "eec4380a-11f0-45c8-9568-d26b7ae5443a",
   "metadata": {},
   "outputs": [],
   "source": [
    "data = pd.get_dummies(data, columns=['race'], prefix='race')"
   ]
  },
  {
   "cell_type": "code",
   "execution_count": 12,
   "id": "c8693489-c245-4c67-b397-b1074a3b2d0f",
   "metadata": {},
   "outputs": [],
   "source": [
    "data = pd.get_dummies(data, columns=['age'], prefix='age') #sections, 0-10, 10-20, ..."
   ]
  },
  {
   "cell_type": "code",
   "execution_count": 13,
   "id": "b9c4fb57-5052-406b-b85b-d6d777d5db43",
   "metadata": {},
   "outputs": [],
   "source": [
    "data = pd.get_dummies(data, columns=['gender'], prefix='gender') #'Female', 'Male', 'Unknown/Invalid'"
   ]
  },
  {
   "cell_type": "code",
   "execution_count": 14,
   "id": "e84efed3-b0d2-46fb-a0ee-d60a65822c84",
   "metadata": {},
   "outputs": [],
   "source": [
    "data = pd.get_dummies(data, columns=['metformin'], prefix='metformin') #it was no, steady , up or down for usage "
   ]
  },
  {
   "cell_type": "code",
   "execution_count": 15,
   "id": "4bd3e339-15fb-4020-a7b8-0a01a8b2d953",
   "metadata": {},
   "outputs": [],
   "source": [
    "data = pd.get_dummies(data, columns=['A1Cresult'], prefix='A1Cresult')#measures blood sugar, none if not conducted, >8% , >7% and norm"
   ]
  },
  {
   "cell_type": "code",
   "execution_count": 16,
   "id": "d97fefe9-32a8-4d62-affb-c501ab53f65e",
   "metadata": {},
   "outputs": [],
   "source": [
    "data = pd.get_dummies(data, columns=['max_glu_serum'], prefix='max_glu_serum')#'None', '>300', 'Norm', '>200' , higher 200 diab"
   ]
  },
  {
   "cell_type": "code",
   "execution_count": 17,
   "id": "2a209322-5f14-4e2e-8fde-d2b68d39664b",
   "metadata": {},
   "outputs": [],
   "source": [
    "data = pd.get_dummies(data, columns=['weight'], prefix='weight')#nan, '[75-100)', '[50-75)', '[0-25)', ..., '>200'"
   ]
  },
  {
   "cell_type": "code",
   "execution_count": 18,
   "id": "9689edd1-ea5c-4a0c-b9d6-2f5905690fd6",
   "metadata": {},
   "outputs": [],
   "source": [
    "data = pd.get_dummies(data, columns=['repaglinide'], prefix='repaglinide') #'No', 'Up', 'Steady', 'Down'"
   ]
  },
  {
   "cell_type": "code",
   "execution_count": 19,
   "id": "bd4cd9bd-c292-4ee1-8ed6-5565ffd30bd9",
   "metadata": {},
   "outputs": [],
   "source": [
    "data = pd.get_dummies(data, columns=['nateglinide'], prefix='nateglinide') #'No', 'Up', 'Steady', 'Down'"
   ]
  },
  {
   "cell_type": "code",
   "execution_count": 20,
   "id": "3caf052b-7605-4c78-a4f2-86cce6ded17b",
   "metadata": {},
   "outputs": [],
   "source": [
    "data = pd.get_dummies(data, columns=['chlorpropamide'], prefix='chlorpropamide') #'No', 'Up', 'Steady', 'Down'"
   ]
  },
  {
   "cell_type": "code",
   "execution_count": 21,
   "id": "91366221-4e5b-4600-88cd-9b7feb4fc918",
   "metadata": {},
   "outputs": [],
   "source": [
    "data = pd.get_dummies(data, columns=['glimepiride'], prefix='glimepiride') #'No', 'Up', 'Steady', 'Down'"
   ]
  },
  {
   "cell_type": "code",
   "execution_count": 22,
   "id": "257c303b-1b19-4a25-85f8-1d61dbe67967",
   "metadata": {},
   "outputs": [],
   "source": [
    "data = pd.get_dummies(data, columns=['acetohexamide'], prefix='acetohexamide') #'No', 'Up', 'Steady', 'Down'"
   ]
  },
  {
   "cell_type": "code",
   "execution_count": 23,
   "id": "064450d1-2d82-4c0e-9b33-a4ae3f516302",
   "metadata": {},
   "outputs": [],
   "source": [
    "data = pd.get_dummies(data, columns=['glipizide'], prefix='glipizide') #'No', 'Up', 'Steady', 'Down'"
   ]
  },
  {
   "cell_type": "code",
   "execution_count": 24,
   "id": "a96f8f87-2298-4589-b86e-2b692abf2dcb",
   "metadata": {},
   "outputs": [],
   "source": [
    "data = pd.get_dummies(data, columns=['glyburide'], prefix='glyburide') #'No', 'Up', 'Steady', 'Down'"
   ]
  },
  {
   "cell_type": "code",
   "execution_count": 25,
   "id": "25e1515c-0c18-448f-905b-dbd49225917d",
   "metadata": {},
   "outputs": [],
   "source": [
    "data = pd.get_dummies(data, columns=['tolbutamide'], prefix='tolbutamide') #'No', 'Up', 'Steady', 'Down'"
   ]
  },
  {
   "cell_type": "code",
   "execution_count": 26,
   "id": "12baaa7d-5764-442b-b430-5b2a9ff30357",
   "metadata": {},
   "outputs": [],
   "source": [
    "data = pd.get_dummies(data, columns=['pioglitazone'], prefix='pioglitazone') #'No', 'Up', 'Steady', 'Down'"
   ]
  },
  {
   "cell_type": "code",
   "execution_count": 27,
   "id": "6481a5f1-73ff-4000-8185-d56e0a9bb9a8",
   "metadata": {},
   "outputs": [],
   "source": [
    "data = pd.get_dummies(data, columns=['rosiglitazone'], prefix='rosiglitazone') #'No', 'Up', 'Steady', 'Down'"
   ]
  },
  {
   "cell_type": "code",
   "execution_count": 28,
   "id": "ab032431-1969-47a8-985c-7476530a2544",
   "metadata": {},
   "outputs": [],
   "source": [
    "data = pd.get_dummies(data, columns=['acarbose'], prefix='acarbose') #'No', 'Up', 'Steady', 'Down'"
   ]
  },
  {
   "cell_type": "code",
   "execution_count": 29,
   "id": "b10e19ce-ee1b-4ab5-aff1-0660b33a01d8",
   "metadata": {},
   "outputs": [],
   "source": [
    "data = pd.get_dummies(data, columns=['miglitol'], prefix='miglitol') #'No', 'Up', 'Steady', 'Down'"
   ]
  },
  {
   "cell_type": "code",
   "execution_count": 30,
   "id": "e3c888b0-32f1-4d20-9ca7-046f4a19ef9a",
   "metadata": {},
   "outputs": [],
   "source": [
    "data = pd.get_dummies(data, columns=['troglitazone'], prefix='troglitazone') #'No', 'Up', 'Steady', 'Down'"
   ]
  },
  {
   "cell_type": "code",
   "execution_count": 31,
   "id": "2625be38-7050-4a94-9020-9bbb3bd3c8f3",
   "metadata": {},
   "outputs": [],
   "source": [
    "data = pd.get_dummies(data, columns=['tolazamide'], prefix='tolazamide') #'No', 'Up', 'Steady', 'Down'"
   ]
  },
  {
   "cell_type": "code",
   "execution_count": 32,
   "id": "6661d951-24b8-4038-a836-7a6826adc843",
   "metadata": {},
   "outputs": [],
   "source": [
    "data = pd.get_dummies(data, columns=['examide'], prefix='examide') #'No', 'Up', 'Steady', 'Down'"
   ]
  },
  {
   "cell_type": "code",
   "execution_count": 33,
   "id": "4987e517-2588-4e79-8a9f-7522a4533b08",
   "metadata": {},
   "outputs": [],
   "source": [
    "data = pd.get_dummies(data, columns=['citoglipton'], prefix='citoglipton') #'No', 'Up', 'Steady', 'Down'"
   ]
  },
  {
   "cell_type": "code",
   "execution_count": 34,
   "id": "8af7eabc-1188-4183-90dd-4db58ebba046",
   "metadata": {},
   "outputs": [],
   "source": [
    "data = pd.get_dummies(data, columns=['insulin'], prefix='insulin') #'No', 'Up', 'Steady', 'Down'"
   ]
  },
  {
   "cell_type": "code",
   "execution_count": 35,
   "id": "732491b3-0446-46fb-be01-b4ca5c1ac3ce",
   "metadata": {},
   "outputs": [],
   "source": [
    "data = pd.get_dummies(data, columns=['glyburide-metformin'], prefix='glyburide-metformin') #'No', 'Up', 'Steady', 'Down'"
   ]
  },
  {
   "cell_type": "code",
   "execution_count": 36,
   "id": "d2503cad-89a0-4763-bd90-74398dbde52b",
   "metadata": {},
   "outputs": [],
   "source": [
    "data = pd.get_dummies(data, columns=['glipizide-metformin'], prefix='glipizide-metformin') #'No', 'Up', 'Steady', 'Down'"
   ]
  },
  {
   "cell_type": "code",
   "execution_count": 37,
   "id": "5a190b3b-8446-4d39-a424-156bad6a46cb",
   "metadata": {},
   "outputs": [],
   "source": [
    "data = pd.get_dummies(data, columns=['glimepiride-pioglitazone'], prefix='glimepiride-pioglitazone') #'No', 'Up', 'Steady', 'Down'"
   ]
  },
  {
   "cell_type": "code",
   "execution_count": 38,
   "id": "d77d3f97-78a3-4c85-8737-da33c7368b69",
   "metadata": {},
   "outputs": [],
   "source": [
    "data = pd.get_dummies(data, columns=['metformin-rosiglitazone'], prefix='metformin-rosiglitazone') #'No', 'Up', '"
   ]
  },
  {
   "cell_type": "code",
   "execution_count": 39,
   "id": "4526c9b2-da8f-45ce-8447-ea60b17efac6",
   "metadata": {},
   "outputs": [],
   "source": [
    "data = pd.get_dummies(data, columns=['metformin-pioglitazone'], prefix='metformin-pioglitazone') #'No', 'Up', '"
   ]
  },
  {
   "cell_type": "code",
   "execution_count": 40,
   "id": "f8352b61-22bd-4344-a401-bea8cbe59905",
   "metadata": {},
   "outputs": [],
   "source": [
    "data = pd.get_dummies(data, columns=['change'], prefix='change') #change or no change"
   ]
  },
  {
   "cell_type": "code",
   "execution_count": 41,
   "id": "f633fe7a-a5a1-4123-8bba-1bdbfe2d979a",
   "metadata": {},
   "outputs": [],
   "source": [
    "#data = pd.get_dummies(data, columns=['readmitted'], prefix='readmitted') #'No', 'Up', '"
   ]
  },
  {
   "cell_type": "code",
   "execution_count": 42,
   "id": "f4aa7cca-818d-47cb-81bb-b17c467df1dc",
   "metadata": {},
   "outputs": [],
   "source": [
    "data = pd.get_dummies(data, columns=['diabetesMed'], prefix='diabetesMed') #'yes or no"
   ]
  },
  {
   "cell_type": "code",
   "execution_count": 43,
   "id": "f0eb3d31-d697-44d0-923b-0a16fd3d2c3f",
   "metadata": {},
   "outputs": [],
   "source": [
    "data = data.drop(['diag_1', 'diag_2', 'diag_3','admission_type_id','discharge_disposition_id','admission_source_id',\n",
    "                 'payer_code','medical_specialty'], axis=1) #unique #s that are not able to represent  "
   ]
  },
  {
   "cell_type": "code",
   "execution_count": 44,
   "id": "78baa324-1f2b-48aa-87cc-1ca3ec7d2d69",
   "metadata": {},
   "outputs": [
    {
     "name": "stderr",
     "output_type": "stream",
     "text": [
      "/Users/marlenearredondo/opt/anaconda3/lib/python3.9/site-packages/seaborn/matrix.py:256: FutureWarning: Format strings passed to MaskedConstant are ignored, but in future may error or produce different behavior\n",
      "  annotation = (\"{:\" + self.fmt + \"}\").format(val)\n"
     ]
    },
    {
     "data": {
      "image/png": "[encoded data removed]",
      "text/plain": [
       "<Figure size 1000x800 with 2 Axes>"
      ]
     },
     "metadata": {},
     "output_type": "display_data"
    }
   ],
   "source": [
    "correlation_matrix = data.corr()\n",
    "\n",
    "# Create a heatmap\n",
    "plt.figure(figsize=(10, 8))\n",
    "sns.heatmap(correlation_matrix, annot=True, cmap='coolwarm', fmt=\".2f\", linewidths=.5)\n",
    "plt.title('Correlation Map')\n",
    "plt.show()"
   ]
  },
  {
   "cell_type": "code",
   "execution_count": 45,
   "id": "e742c6f6-333b-4198-b98a-e0ec3d2c265b",
   "metadata": {},
   "outputs": [
    {
     "data": {
      "text/plain": [
       "array([0, 1], dtype=uint8)"
      ]
     },
     "execution_count": 45,
     "metadata": {},
     "output_type": "execute_result"
    }
   ],
   "source": [
    "data['diabetesMed_Yes'].unique()"
   ]
  },
  {
   "cell_type": "code",
   "execution_count": 46,
   "id": "cf916bd4-f7c2-4fce-b982-df1a3cc98f9f",
   "metadata": {},
   "outputs": [
    {
     "data": {
      "text/plain": [
       "1    78363\n",
       "0    23403\n",
       "Name: diabetesMed_Yes, dtype: int64"
      ]
     },
     "execution_count": 46,
     "metadata": {},
     "output_type": "execute_result"
    }
   ],
   "source": [
    "data['diabetesMed_Yes'].value_counts()"
   ]
  },
  {
   "cell_type": "code",
   "execution_count": 47,
   "id": "1fd28aa1-e10c-46c0-9f6f-d0f0a75ae15b",
   "metadata": {},
   "outputs": [
    {
     "name": "stdout",
     "output_type": "stream",
     "text": [
      "\n",
      "Balanced Data Class Distribution:\n",
      "1    35104\n",
      "0    23403\n",
      "Name: diabetesMed_Yes, dtype: int64\n"
     ]
    }
   ],
   "source": [
    "positive = data[data['diabetesMed_Yes'] == 1]\n",
    "negative = data[data['diabetesMed_Yes'] == 0]\n",
    "\n",
    "target_positive = int(len(negative) / 0.4 * 0.6)\n",
    "\n",
    "# Sample the entire positive class without replacement\n",
    "positive_sample = positive.sample(target_positive, replace=False)\n",
    "\n",
    "# Concatenate the sampled positive class with the negative class\n",
    "balanced_data = pd.concat([positive_sample, negative])\n",
    "\n",
    "# Shuffle the data\n",
    "balanced_data = balanced_data.sample(frac=1).reset_index(drop=True)\n",
    "\n",
    "\n",
    "print(\"\\nBalanced Data Class Distribution:\")\n",
    "print(balanced_data['diabetesMed_Yes'].value_counts())"
   ]
  },
  {
   "cell_type": "code",
   "execution_count": 48,
   "id": "f26160a3-b8bf-4053-b448-610bb3f0b1f6",
   "metadata": {},
   "outputs": [
    {
     "name": "stdout",
     "output_type": "stream",
     "text": [
      "\n",
      "Percentage of Patients With Diabetes Medication : 60.00%\n",
      "Percentage of Patients Without Diabetes Medication : 40.00%\n"
     ]
    }
   ],
   "source": [
    "percentage_positive = (balanced_data['diabetesMed_Yes'].value_counts()[1] / len(balanced_data)) * 100\n",
    "percentage_negative = (balanced_data['diabetesMed_Yes'].value_counts()[0] / len(balanced_data)) * 100\n",
    "\n",
    "print(f\"\\nPercentage of Patients With Diabetes Medication : {percentage_positive:.2f}%\")\n",
    "print(f\"Percentage of Patients Without Diabetes Medication : {percentage_negative:.2f}%\")"
   ]
  },
  {
   "cell_type": "markdown",
   "id": "d2ce7757-422f-495e-a3f9-2de1463aefa3",
   "metadata": {},
   "source": [
    "### Data Preprocessing"
   ]
  },
  {
   "cell_type": "code",
   "execution_count": 49,
   "id": "ad1eea4d-5b10-4995-9f6c-adf4810a3391",
   "metadata": {},
   "outputs": [],
   "source": [
    "X = balanced_data.drop('diabetesMed_Yes',axis=1)\n",
    "y = balanced_data['diabetesMed_Yes']"
   ]
  },
  {
   "cell_type": "code",
   "execution_count": 50,
   "id": "2d218af9-ad70-4d3e-b099-93ce488c0f22",
   "metadata": {},
   "outputs": [
    {
     "data": {
      "text/plain": [
       "array([[ 3.27532942,  1.03108993,  1.56657275, ...,  1.33762301,\n",
       "        -1.33762301, -0.8165024 ],\n",
       "       [ 0.57337502,  0.10884827,  1.56657275, ..., -0.7475948 ,\n",
       "         0.7475948 ,  1.22473615],\n",
       "       [-0.43985787, -0.86462902, -0.19978032, ..., -0.7475948 ,\n",
       "         0.7475948 , -0.8165024 ],\n",
       "       ...,\n",
       "       [-1.11534647, -0.09609431, -0.78856467, ..., -0.7475948 ,\n",
       "         0.7475948 , -0.8165024 ],\n",
       "       [-0.10211357,  1.33850381,  0.38900404, ...,  1.33762301,\n",
       "        -1.33762301, -0.8165024 ],\n",
       "       [ 1.24886362,  0.87738298,  0.97778839, ...,  1.33762301,\n",
       "        -1.33762301, -0.8165024 ]])"
      ]
     },
     "execution_count": 50,
     "metadata": {},
     "output_type": "execute_result"
    }
   ],
   "source": [
    "scaler=StandardScaler()\n",
    "x_std=scaler.fit_transform(X)\n",
    "x_std"
   ]
  },
  {
   "cell_type": "code",
   "execution_count": 51,
   "id": "c939c570-28ca-4e75-b2e0-8212647d672b",
   "metadata": {},
   "outputs": [
    {
     "name": "stdout",
     "output_type": "stream",
     "text": [
      "x_train: (43880, 117)\n",
      "x_test: (14627, 117)\n",
      "y_train: (43880,)\n",
      "y_test: (14627,)\n"
     ]
    }
   ],
   "source": [
    "x_train,x_test,y_train,y_test=train_test_split(x_std,y,test_size=0.25)\n",
    "print('x_train:',x_train.shape)\n",
    "print('x_test:',x_test.shape)\n",
    "print('y_train:',y_train.shape)\n",
    "print('y_test:',y_test.shape)"
   ]
  },
  {
   "cell_type": "markdown",
   "id": "902b8e83-c7af-460d-93a5-2262177d9c4a",
   "metadata": {},
   "source": [
    "## SVM"
   ]
  },
  {
   "cell_type": "markdown",
   "id": "27641877-f400-4140-8fd6-c96d3a47b71c",
   "metadata": {},
   "source": [
    "### Model Generation SVM - Linear"
   ]
  },
  {
   "cell_type": "code",
   "execution_count": 52,
   "id": "b5a3e9fb-5e50-47e0-a75d-9e60f203d9b5",
   "metadata": {},
   "outputs": [
    {
     "data": {
      "text/plain": [
       "SVC(kernel='linear')"
      ]
     },
     "execution_count": 52,
     "metadata": {},
     "output_type": "execute_result"
    }
   ],
   "source": [
    "classifier=svm.SVC(kernel='linear')\n",
    "classifier.fit(x_train,y_train)"
   ]
  },
  {
   "cell_type": "markdown",
   "id": "01250cb7-38dc-4b24-bce1-2e07ba31249d",
   "metadata": {},
   "source": [
    "### Model Evaluation"
   ]
  },
  {
   "cell_type": "code",
   "execution_count": 53,
   "id": "b8eb0085-fa5d-4303-8d39-f5729ef7edeb",
   "metadata": {},
   "outputs": [
    {
     "name": "stdout",
     "output_type": "stream",
     "text": [
      "Accuracy score of testing data: 100.0\n"
     ]
    }
   ],
   "source": [
    "prediction=classifier.predict(x_test)\n",
    "testing_data_accuracy =accuracy_score(prediction,y_test)\n",
    "print(\"Accuracy score of testing data:\",testing_data_accuracy*100)"
   ]
  },
  {
   "cell_type": "code",
   "execution_count": 54,
   "id": "32633ed8-0e69-4e95-af30-814fee8508c3",
   "metadata": {},
   "outputs": [
    {
     "name": "stdout",
     "output_type": "stream",
     "text": [
      "Precision: 1.0\n",
      "Recall: 1.0\n",
      "F1-Score: 1.0\n"
     ]
    }
   ],
   "source": [
    "precision = precision_score(y_test, prediction)\n",
    "recall = recall_score(y_test, prediction)\n",
    "f1 = f1_score(y_test, prediction)\n",
    "\n",
    "print(\"Precision:\", precision)\n",
    "print(\"Recall:\", recall)\n",
    "print(\"F1-Score:\", f1)"
   ]
  },
  {
   "cell_type": "markdown",
   "id": "ea6d2b57-c172-4f3d-be17-aa8cfada6ca6",
   "metadata": {},
   "source": [
    "### Model Generation SVM - Poly"
   ]
  },
  {
   "cell_type": "code",
   "execution_count": 55,
   "id": "66b9afd0-5f11-4d50-adde-b78ee325a890",
   "metadata": {},
   "outputs": [
    {
     "data": {
      "text/plain": [
       "SVC(kernel='poly')"
      ]
     },
     "execution_count": 55,
     "metadata": {},
     "output_type": "execute_result"
    }
   ],
   "source": [
    "classifier_pol=svm.SVC(kernel='poly')\n",
    "classifier_pol.fit(x_train,y_train)"
   ]
  },
  {
   "cell_type": "markdown",
   "id": "f49e72e3-62ce-4a54-8baf-8762b65499f6",
   "metadata": {},
   "source": [
    "### Model Evaluation -Poly"
   ]
  },
  {
   "cell_type": "code",
   "execution_count": 56,
   "id": "3e38b4f7-0643-4f19-a8cf-7c4816fb5cbe",
   "metadata": {},
   "outputs": [
    {
     "name": "stdout",
     "output_type": "stream",
     "text": [
      "Accuracy score of testing data: 99.97948998427566\n"
     ]
    }
   ],
   "source": [
    "prediction=classifier_pol.predict(x_test)\n",
    "testing_data_accuracy =accuracy_score(prediction,y_test)\n",
    "print(\"Accuracy score of testing data:\",testing_data_accuracy*100)"
   ]
  },
  {
   "cell_type": "code",
   "execution_count": 57,
   "id": "333fe118-9c3e-4fab-9cf6-891d55044978",
   "metadata": {},
   "outputs": [
    {
     "name": "stdout",
     "output_type": "stream",
     "text": [
      "Precision: 0.9998861307219312\n",
      "Recall: 0.9997722873733349\n",
      "F1-Score: 0.9998292058070026\n"
     ]
    }
   ],
   "source": [
    "precision = precision_score(y_test, prediction)\n",
    "recall = recall_score(y_test, prediction)\n",
    "f1 = f1_score(y_test, prediction)\n",
    "\n",
    "print(\"Precision:\", precision)\n",
    "print(\"Recall:\", recall)\n",
    "print(\"F1-Score:\", f1)"
   ]
  },
  {
   "cell_type": "markdown",
   "id": "6e7ecf94-ad7b-4bb9-8cc4-8cace715c73e",
   "metadata": {},
   "source": [
    "### Model Generation SVM - Radial Basis Funct"
   ]
  },
  {
   "cell_type": "code",
   "execution_count": 58,
   "id": "884bebb2-9671-4907-bd40-a1a397920fe5",
   "metadata": {},
   "outputs": [
    {
     "data": {
      "text/plain": [
       "SVC()"
      ]
     },
     "execution_count": 58,
     "metadata": {},
     "output_type": "execute_result"
    }
   ],
   "source": [
    "classifier_rbf=svm.SVC(kernel='rbf')\n",
    "classifier_rbf.fit(x_train,y_train)"
   ]
  },
  {
   "cell_type": "markdown",
   "id": "26a3d4d1-7706-4aa0-8527-662bcad2b28c",
   "metadata": {},
   "source": [
    "### Model Evaluation - Radial Basis Funct"
   ]
  },
  {
   "cell_type": "code",
   "execution_count": 59,
   "id": "865f3734-e801-478c-a1e2-a89225f7209a",
   "metadata": {},
   "outputs": [
    {
     "name": "stdout",
     "output_type": "stream",
     "text": [
      "Accuracy score of testing data: 99.96581664045942\n"
     ]
    }
   ],
   "source": [
    "prediction=classifier_rbf.predict(x_test)\n",
    "testing_data_accuracy =accuracy_score(prediction,y_test)\n",
    "print(\"Accuracy score of testing data:\",testing_data_accuracy*100)"
   ]
  },
  {
   "cell_type": "code",
   "execution_count": 60,
   "id": "b8024427-0491-423e-a10b-2099789ecf41",
   "metadata": {},
   "outputs": [
    {
     "name": "stdout",
     "output_type": "stream",
     "text": [
      "Precision: 0.9995447302526748\n",
      "Recall: 0.9998861436866674\n",
      "F1-Score: 0.9997154078205932\n"
     ]
    }
   ],
   "source": [
    "precision = precision_score(y_test, prediction)\n",
    "recall = recall_score(y_test, prediction)\n",
    "f1 = f1_score(y_test, prediction)\n",
    "\n",
    "print(\"Precision:\", precision)\n",
    "print(\"Recall:\", recall)\n",
    "print(\"F1-Score:\", f1)"
   ]
  },
  {
   "cell_type": "markdown",
   "id": "d25fbb06-371d-417f-b946-5dc99c613897",
   "metadata": {},
   "source": [
    "## Naive Bayes"
   ]
  },
  {
   "cell_type": "code",
   "execution_count": 61,
   "id": "10b1aa85-ab7d-44b6-8d7e-de3ffa835f9a",
   "metadata": {},
   "outputs": [
    {
     "data": {
      "text/plain": [
       "GaussianNB()"
      ]
     },
     "execution_count": 61,
     "metadata": {},
     "output_type": "execute_result"
    }
   ],
   "source": [
    "model = GaussianNB()\n",
    "model.fit(x_train, y_train)"
   ]
  },
  {
   "cell_type": "code",
   "execution_count": 62,
   "id": "d5825822-c862-4dbe-8a77-c0c90ecd38d8",
   "metadata": {},
   "outputs": [],
   "source": [
    "prediction_NB = model.predict(x_test)"
   ]
  },
  {
   "cell_type": "code",
   "execution_count": 63,
   "id": "8aa83d7d-17ba-434c-8b5f-8843f1f9c9f0",
   "metadata": {},
   "outputs": [
    {
     "name": "stdout",
     "output_type": "stream",
     "text": [
      "Accuracy score of testing data: 99.98632665618376\n"
     ]
    }
   ],
   "source": [
    "testing_data_accuracy =accuracy_score(prediction_NB,y_test)\n",
    "print(\"Accuracy score of testing data:\",testing_data_accuracy*100)"
   ]
  },
  {
   "cell_type": "code",
   "execution_count": 64,
   "id": "43426df9-5f79-400f-9e44-76e52594b8a5",
   "metadata": {},
   "outputs": [
    {
     "name": "stdout",
     "output_type": "stream",
     "text": [
      "Precision: 0.9997723392145703\n",
      "Recall: 1.0\n",
      "F1-Score: 0.9998861566484517\n"
     ]
    }
   ],
   "source": [
    "precision = precision_score(y_test, prediction_NB)\n",
    "recall = recall_score(y_test, prediction_NB)\n",
    "f1 = f1_score(y_test, prediction_NB)\n",
    "\n",
    "print(\"Precision:\", precision)\n",
    "print(\"Recall:\", recall)\n",
    "print(\"F1-Score:\", f1)"
   ]
  },
  {
   "cell_type": "markdown",
   "id": "993c0dce-d692-448a-963b-55d337601ca3",
   "metadata": {},
   "source": [
    "### PCA"
   ]
  },
  {
   "cell_type": "code",
   "execution_count": 65,
   "id": "80a00de4-d015-4f87-8621-f834a17ad021",
   "metadata": {},
   "outputs": [],
   "source": [
    "pca = PCA()\n",
    "pca.fit(balanced_data)\n",
    "cumsum = np.cumsum(pca.explained_variance_ratio_)"
   ]
  },
  {
   "cell_type": "code",
   "execution_count": 66,
   "id": "92e0bc4e-535e-4bbc-bd44-fc2f2cf4a658",
   "metadata": {},
   "outputs": [
    {
     "data": {
      "text/plain": [
       "2"
      ]
     },
     "execution_count": 66,
     "metadata": {},
     "output_type": "execute_result"
    }
   ],
   "source": [
    "d = np.argmax(cumsum >= 0.95) + 1\n",
    "d"
   ]
  },
  {
   "cell_type": "code",
   "execution_count": 67,
   "id": "58563955-3c73-4c99-b797-7e65505f8c68",
   "metadata": {},
   "outputs": [
    {
     "data": {
      "text/plain": [
       "PCA(n_components=2)"
      ]
     },
     "execution_count": 67,
     "metadata": {},
     "output_type": "execute_result"
    }
   ],
   "source": [
    "pca = PCA(n_components=d)\n",
    "pca.fit(balanced_data)"
   ]
  },
  {
   "cell_type": "code",
   "execution_count": 68,
   "id": "6da72647-9f55-4d23-8bc2-7d31a63e4fd9",
   "metadata": {},
   "outputs": [],
   "source": [
    "# Get the indices of the top features for each component\n",
    "top_feature_indices = [component.argsort()[-1::-1][:1] for component in pca.components_]\n",
    "\n",
    "# Get the feature names for the top features of each component\n",
    "feature_names = list(balanced_data.columns[:-1])  \n",
    "top_features_names = []\n",
    "\n",
    "for indices in top_feature_indices:\n",
    "    top_feature_names = [feature_names[i] for i in indices]\n",
    "    top_features_names.append(top_feature_names)"
   ]
  },
  {
   "cell_type": "code",
   "execution_count": 69,
   "id": "d391eac3-6c25-492b-8026-c15c30fc93f7",
   "metadata": {},
   "outputs": [
    {
     "data": {
      "text/plain": [
       "[['num_lab_procedures'], ['num_medications']]"
      ]
     },
     "execution_count": 69,
     "metadata": {},
     "output_type": "execute_result"
    }
   ],
   "source": [
    "top_features_names"
   ]
  },
  {
   "cell_type": "code",
   "execution_count": 70,
   "id": "b63f4b96-c720-4b71-af8f-63864a0efb79",
   "metadata": {},
   "outputs": [],
   "source": [
    "numerical_columns = balanced_data.select_dtypes(include=[np.number]).columns\n",
    "numerical_data = balanced_data[numerical_columns]"
   ]
  },
  {
   "cell_type": "markdown",
   "id": "a8e6d933-b88d-47d2-8a21-97d8f80f4197",
   "metadata": {},
   "source": [
    "### SVM"
   ]
  },
  {
   "cell_type": "code",
   "execution_count": 71,
   "id": "54e0624c-b248-449a-837d-0ca24e72f521",
   "metadata": {},
   "outputs": [],
   "source": [
    "x_pca = pca.transform(balanced_data)"
   ]
  },
  {
   "cell_type": "code",
   "execution_count": null,
   "id": "2a8d34a4-aa82-480c-90b2-ce0917ad5348",
   "metadata": {},
   "outputs": [],
   "source": [
    "x_train, x_test, y_train, y_test = train_test_split(x_pca, balanced_data['diabetesMed_Yes'], test_size=0.2)\n",
    "\n",
    "classifier = svm.SVC(kernel='linear')\n",
    "classifier.fit(x_train, y_train)\n",
    "\n",
    "y_pred = classifier.predict(x_test)"
   ]
  },
  {
   "cell_type": "code",
   "execution_count": null,
   "id": "d48e7eb9-a0ab-483b-93d7-ea14c7c02171",
   "metadata": {},
   "outputs": [],
   "source": [
    "testing_data_accuracy =accuracy_score(y_pred,y_test)\n",
    "print(\"Accuracy score of testing data:\",testing_data_accuracy*100)"
   ]
  },
  {
   "cell_type": "code",
   "execution_count": null,
   "id": "6e43ec93-2567-43f9-bbec-c80b1471425b",
   "metadata": {},
   "outputs": [],
   "source": [
    "precision = precision_score(y_test, y_pred)\n",
    "recall = recall_score(y_test, y_pred)\n",
    "f1 = f1_score(y_test, y_pred)\n",
    "\n",
    "print(\"Precision:\", precision)\n",
    "print(\"Recall:\", recall)\n",
    "print(\"F1-Score:\", f1)"
   ]
  },
  {
   "cell_type": "markdown",
   "id": "d81c4a14-aa0a-4718-9049-1a761e68155c",
   "metadata": {},
   "source": [
    "### Naive Bayes"
   ]
  },
  {
   "cell_type": "code",
   "execution_count": null,
   "id": "b1604205-4164-4333-853a-b1d5d2f5bd7a",
   "metadata": {},
   "outputs": [],
   "source": [
    "model = GaussianNB()\n",
    "model.fit(x_train, y_train)\n",
    "\n",
    "y_pred = model.predict(x_test)"
   ]
  },
  {
   "cell_type": "code",
   "execution_count": null,
   "id": "3d376a00-06b5-4ef6-b568-73cd68a009d2",
   "metadata": {},
   "outputs": [],
   "source": [
    "testing_data_accuracy =accuracy_score(y_pred,y_test)\n",
    "print(\"Accuracy score of testing data:\",testing_data_accuracy*100)"
   ]
  },
  {
   "cell_type": "code",
   "execution_count": null,
   "id": "4b60e445-033b-40bc-bf8c-fe46574d64ad",
   "metadata": {},
   "outputs": [],
   "source": [
    "precision = precision_score(y_test, y_pred)\n",
    "recall = recall_score(y_test, y_pred)\n",
    "f1 = f1_score(y_test, y_pred)\n",
    "\n",
    "print(\"Precision:\", precision)\n",
    "print(\"Recall:\", recall)\n",
    "print(\"F1-Score:\", f1)"
   ]
  },
  {
   "cell_type": "code",
   "execution_count": null,
   "id": "13176584-7932-4c9e-901a-bdee6e9b674a",
   "metadata": {},
   "outputs": [],
   "source": []
  }
 ],
 "metadata": {
  "kernelspec": {
   "display_name": "Python 3 (ipykernel)",
   "language": "python",
   "name": "python3"
  },
  "language_info": {
   "codemirror_mode": {
    "name": "ipython",
    "version": 3
   },
   "file_extension": ".py",
   "mimetype": "text/x-python",
   "name": "python",
   "nbconvert_exporter": "python",
   "pygments_lexer": "ipython3",
   "version": "3.9.13"
  }
 },
 "nbformat": 4,
 "nbformat_minor": 5
}
