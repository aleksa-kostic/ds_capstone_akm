{
 "cells": [
  {
   "cell_type": "code",
   "execution_count": 1,
   "id": "f2996b10-c803-4d6b-a025-0e7f46d1e7b3",
   "metadata": {},
   "outputs": [
    {
     "name": "stdout",
     "output_type": "stream",
     "text": [
      "Requirement already satisfied: ucimlrepo in /Users/marlenearredondo/opt/anaconda3/lib/python3.9/site-packages (0.0.3)\n",
      "\n",
      "\u001b[1m[\u001b[0m\u001b[34;49mnotice\u001b[0m\u001b[1;39;49m]\u001b[0m\u001b[39;49m A new release of pip is available: \u001b[0m\u001b[31;49m23.3.1\u001b[0m\u001b[39;49m -> \u001b[0m\u001b[32;49m23.3.2\u001b[0m\n",
      "\u001b[1m[\u001b[0m\u001b[34;49mnotice\u001b[0m\u001b[1;39;49m]\u001b[0m\u001b[39;49m To update, run: \u001b[0m\u001b[32;49mpip install --upgrade pip\u001b[0m\n"
     ]
    }
   ],
   "source": [
    "!pip3 install -U ucimlrepo "
   ]
  },
  {
   "cell_type": "code",
   "execution_count": 2,
   "id": "8541d65c-42bb-4803-b354-11e66e79a084",
   "metadata": {},
   "outputs": [
    {
     "name": "stdout",
     "output_type": "stream",
     "text": [
      "{'uci_id': 880, 'name': 'SUPPORT2', 'repository_url': 'https://archive.ics.uci.edu/dataset/880/support2', 'data_url': 'https://archive.ics.uci.edu/static/public/880/data.csv', 'abstract': \"This dataset comprises 9105 individual critically ill patients across 5 United States medical centers, accessioned throughout 1989-1991 and 1992-1994.\\nEach row concerns hospitalized patient records who met the inclusion and exclusion criteria for nine disease categories: acute respiratory failure, chronic obstructive pulmonary disease, congestive heart failure, liver disease, coma, colon cancer, lung cancer, multiple organ system failure with malignancy, and multiple organ system failure with sepsis. The goal is to determine these patients' 2- and 6-month survival rates based on several physiologic, demographics, and disease severity information. \\nIt is an important problem because it addresses the growing national concern over patients' loss of control near the end of life. It enables earlier decisions and planning to reduce the frequency of a mechanical, painful, and prolonged dying process.\", 'area': 'Health and Medicine', 'tasks': ['Classification', 'Regression', 'Other'], 'characteristics': ['Tabular', 'Multivariate'], 'num_instances': 9105, 'num_features': 42, 'feature_types': ['Real', 'Categorical', 'Integer'], 'demographics': ['Age', 'Sex', 'Education Level', 'Income', 'Race'], 'target_col': ['death', 'hospdead', 'sfdm2'], 'index_col': ['id'], 'has_missing_values': 'yes', 'missing_values_symbol': 'NaN', 'year_of_dataset_creation': 1995, 'last_updated': 'Fri Nov 03 2023', 'dataset_doi': '10.3886/ICPSR02957.v2', 'creators': ['Frank Harrel'], 'intro_paper': {'title': 'A controlled trial to improve care for seriously ill hospitalized patients. The study to understand prognoses and preferences for outcomes and risks of treatments (SUPPORT)', 'authors': 'The SUPPORT Principal Investigators', 'published_in': 'In the Journal of the American Medical Association, 274(20):1591–1598', 'year': 1995, 'url': 'https://pubmed.ncbi.nlm.nih.gov/7474243/', 'doi': None}, 'additional_info': {'summary': \"Data sources are medical records, personal interviews, and the National Death Index (NDI). For each patient administrative records data, clinical data and survey data were collected.\\nThe objective of the SUPPORT project was to improve decision-making in order to address the growing national concern over the loss of control that patients have near the end of life and to reduce the frequency of a mechanical, painful, and prolonged process of dying. SUPPORT comprised a two-year prospective observational study (Phase I) followed by a two-year controlled clinical trial (Phase II). Phase I of SUPPORT collected data from patients accessioned during 1989-1991 to characterize the care, treatment preferences, and patterns of decision-making among critically ill patients. It also served as a preliminary step for devising an intervention strategy for improving critically-ill patients' care and for the construction of statistical models for predicting patient prognosis and functional status. An intervention was implemented in Phase II of SUPPORT, which accessioned patients during 1992-1994. The Phase II intervention provided physicians with accurate predictive information on future functional ability, survival probability to six months, and patients' preferences for end-of-life care. Additionally, a skilled nurse was provided as part of the intervention to elicit patient preferences, provide prognoses, enhance understanding, enable palliative care, and facilitate advance planning. The intervention was expected to increase communication, resulting in earlier decisions to have orders against resuscitation, decrease time that patients spent in undesirable states (e.g., in the Intensive Care Unit, on a ventilator, and in a coma), increase physician understanding of patients' preferences for care, decrease patient pain, and decrease hospital resource use. Data collection in both phases of SUPPORT consisted of questionnaires administered to patients, their surrogates, and physicians, plus chart reviews for abstracting clinical, treatment, and decision information. Phase II also collected information regarding the implementation of the intervention, such as patient-specific logs maintained by nurses assigned to patients as part of the intervention. SUPPORT patients were followed for six months after inclusion in the study. Those who did not die within six months or were lost to follow-up were matched against the National Death Index to identify deaths through 1997. Patients who did not die within one year or were lost to follow-up were matched against the National Death Index to identify deaths through 1997.\\nAll patients in five United States medical centers who met inclusion and exclusion criteria for nine disease categories: acute respiratory failure, chronic obstructive pulmonary disease, congestive heart failure, liver disease, coma, colon cancer, lung cancer, multiple organ system failure with malignancy, and multiple organ system failure with sepsis. SUPPORT is a combination of patients from 2 studies, each of which lasted 2 years. The first phase concerns 4,301 patients, whereas the second phase concerns 4,804 patients. Time wise, these studies were accessioned in 1989 (June 12) through 1991 (June 11) for phase I and in 1992 (January 7) through 1994 (January 24).\", 'purpose': \"To develop and validate a prognostic model that estimates survival over a 180-day period for seriously ill hospitalized adults (phase I of SUPPORT) and to compare this model's predictions with those of an existing prognostic system and with physicians' independent estimates (SUPPORT phase II).\", 'funded_by': 'Funded by the Robert Wood Johnson Foundation\\n', 'instances_represent': 'The instances represent records of critically ill patients admitted to United States hospitals with advanced stages of serious illness.\\n', 'recommended_data_splits': 'No recommendation, standard train-test split could be used. Can use three-way holdout split (i.e., train-validation-test) when doing model selection.', 'sensitive_data': 'Yes. There is information about race, gender, income, and education level.', 'preprocessing_description': 'No.  Due to the high percentage of missing values, there are a couple of recommended imputation values:\\nAccording to the HBiostat Repository (https://hbiostat.org/data/repo/supportdesc, Professor Frank Harrell) the following default values have been found to be useful in imputing missing baseline physiologic data:\\nBaseline Variable\\tNormal Fill-in Value\\n- Serum albumin (alb)\\t3.5\\n- PaO2/FiO2 ratio (pafi) \\t333.3\\n- Bilirubin (bili)\\t1.01\\n- Creatinine (crea)\\t1.01\\n- bun\\t6.51\\n- White blood count (wblc)\\t9 (thousands)\\n- Urine output (urine)\\t2502\\nThere are 159 patients surviving 2 months for whom there were no patient or surrogate interviews. These patients have missing sfdm2.', 'variable_info': None, 'citation': 'Please acknowledge the source of this dataset as being from Vanderbilt University Department of Biostatistics, Professor Frank Harrell 2022, url: https://hbiostat.org/data/'}, 'external_url': 'https://hbiostat.org/data'}\n",
      "        name     role         type      demographic  \\\n",
      "0         id       ID      Integer             None   \n",
      "1        age  Feature   Continuous              Age   \n",
      "2      death   Target   Continuous             None   \n",
      "3        sex  Feature  Categorical              Sex   \n",
      "4   hospdead   Target       Binary             None   \n",
      "5       slos    Other   Continuous             None   \n",
      "6     d.time    Other   Continuous             None   \n",
      "7    dzgroup  Feature  Categorical             None   \n",
      "8    dzclass  Feature  Categorical             None   \n",
      "9     num.co  Feature   Continuous             None   \n",
      "10       edu  Feature  Categorical  Education Level   \n",
      "11    income  Feature  Categorical           Income   \n",
      "12     scoma  Feature   Continuous             None   \n",
      "13   charges  Feature   Continuous             None   \n",
      "14    totcst  Feature   Continuous             None   \n",
      "15   totmcst  Feature   Continuous             None   \n",
      "16   avtisst  Feature   Continuous             None   \n",
      "17      race  Feature  Categorical             Race   \n",
      "18       sps  Feature   Continuous             None   \n",
      "19       aps  Feature   Continuous             None   \n",
      "20    surv2m  Feature   Continuous             None   \n",
      "21    surv6m  Feature   Continuous             None   \n",
      "22      hday  Feature      Integer             None   \n",
      "23  diabetes  Feature   Continuous             None   \n",
      "24  dementia  Feature   Continuous             None   \n",
      "25        ca  Feature  Categorical             None   \n",
      "26     prg2m  Feature   Continuous             None   \n",
      "27     prg6m  Feature  Categorical             None   \n",
      "28       dnr  Feature  Categorical             None   \n",
      "29    dnrday  Feature   Continuous             None   \n",
      "30    meanbp  Feature   Continuous             None   \n",
      "31      wblc  Feature   Continuous             None   \n",
      "32       hrt  Feature   Continuous             None   \n",
      "33      resp  Feature   Continuous             None   \n",
      "34      temp  Feature   Continuous             None   \n",
      "35      pafi  Feature   Continuous             None   \n",
      "36       alb  Feature   Continuous             None   \n",
      "37      bili  Feature   Continuous             None   \n",
      "38      crea  Feature   Continuous             None   \n",
      "39       sod  Feature   Continuous             None   \n",
      "40        ph  Feature   Continuous             None   \n",
      "41   glucose  Feature      Integer             None   \n",
      "42       bun  Feature      Integer             None   \n",
      "43     urine  Feature      Integer             None   \n",
      "44      adlp  Feature  Categorical             None   \n",
      "45      adls  Feature   Continuous             None   \n",
      "46     sfdm2   Target  Categorical             None   \n",
      "47     adlsc  Feature   Continuous             None   \n",
      "\n",
      "                                          description  units missing_values  \n",
      "0                                                None   None             no  \n",
      "1                        Age of the patients in years  years             no  \n",
      "2   Death at any time up to National Death Index (...   None             no  \n",
      "3   Gender of the patient. Listed values are {male...   None             no  \n",
      "4                                   Death in hospital   None             no  \n",
      "5                  Days from Study Entry to Discharge   None             no  \n",
      "6                                   Days of follow-up   None             no  \n",
      "7   The patient's disease sub category amogst ARF/...   None             no  \n",
      "8   The patient's disease category amongst \"ARF/MO...   None             no  \n",
      "9   The number of simultaneous diseases (or comorb...   None             no  \n",
      "10                                 Years of education  years            yes  \n",
      "11  Income of the patient. Listed values are {\"$11...   None            yes  \n",
      "12  SUPPORT day 3 Coma Score based on Glasgow scal...   None            yes  \n",
      "13                                   Hospital charges   None            yes  \n",
      "14         Total ratio of costs to charges (RCC) cost   None            yes  \n",
      "15                                   Total micro cost   None            yes  \n",
      "16  Average TISS score, days 3-25, where Therapeut...   None            yes  \n",
      "17  Race of the patient. Listed values are {asian,...   None            yes  \n",
      "18  SUPPORT physiology score on day 3 (predicted b...   None            yes  \n",
      "19  APACHE III day 3 physiology score (no coma, im...   None            yes  \n",
      "20  SUPPORT model 2-month survival estimate at day...   None            yes  \n",
      "21  SUPPORT model 6-month survival estimate at day...   None            yes  \n",
      "22    Day in hospital at which patient entered study.   None             no  \n",
      "23  Whether the patient exhibits diabetes (Com 27-...   None             no  \n",
      "24  Whether the patient exhibits dementia (Comorbi...   None             no  \n",
      "25  Whether the patient has cancer (yes), whether ...   None             no  \n",
      "26  Physician’s 2-month survival estimate for pati...   None            yes  \n",
      "27  Physician’s 6-month survival estimate for pati...   None            yes  \n",
      "28  Whether the patient has a do not rescuscitate ...   None            yes  \n",
      "29              Day of DNR order (<0 if before study)   None            yes  \n",
      "30  mean arterial blood pressure of the patient, m...   None            yes  \n",
      "31  counts of white blood cells (in thousands) mea...   None            yes  \n",
      "32       heart rate of the patient measured at day 3.   None            yes  \n",
      "33  respiration rate of the patient measured at da...   None            yes  \n",
      "34  temperature in Celsius degrees measured at day 3.   None             no  \n",
      "35  $PaO_2/FiO_2$ ratio measured at day 3. The rat...   None            yes  \n",
      "36            serum albumin levels measured at day 3.   None            yes  \n",
      "37                bilirubin levels measured at day 3.   None            yes  \n",
      "38         serum creatinine levels measured at day 3.   None            yes  \n",
      "39      serum sodium concentration measured at day 3.   None            yes  \n",
      "40  Arterial blood pH. The pH of blood is usually ...   None            yes  \n",
      "41                  Glucose levels measured at day 3.   None            yes  \n",
      "42      Blood urea nitrogen levels measured at day 3.   None            yes  \n",
      "43                    Urine output measured at day 3.   None            yes  \n",
      "44  Index of Activities of Daily Living (ADL) of t...   None            yes  \n",
      "45  Index of Activities of Daily Living (ADL) of t...   None            yes  \n",
      "46  Level of functional disability of the patient ...   None            yes  \n",
      "47               Imputed ADL Calibrated to Surrogate.   None             no  \n"
     ]
    }
   ],
   "source": [
    "from ucimlrepo import fetch_ucirepo \n",
    "  \n",
    "# fetch dataset \n",
    "support2 = fetch_ucirepo(id=880) \n",
    "  \n",
    "# data (as pandas dataframes) \n",
    "X = support2.data.features \n",
    "y = support2.data.targets \n",
    "  \n",
    "# metadata \n",
    "print(support2.metadata) \n",
    "  \n",
    "# variable information \n",
    "print(support2.variables) "
   ]
  },
  {
   "cell_type": "markdown",
   "id": "fd7b141a-892c-4416-9613-bb3618b3db5d",
   "metadata": {},
   "source": [
    "### Pre-Processing"
   ]
  },
  {
   "cell_type": "code",
   "execution_count": 3,
   "id": "fbba1297-5fc5-42eb-bf26-07ca70c9994b",
   "metadata": {},
   "outputs": [
    {
     "name": "stderr",
     "output_type": "stream",
     "text": [
      "/Users/marlenearredondo/opt/anaconda3/lib/python3.9/site-packages/scipy/__init__.py:155: UserWarning: A NumPy version >=1.18.5 and <1.25.0 is required for this version of SciPy (detected version 1.26.2\n",
      "  warnings.warn(f\"A NumPy version >={np_minversion} and <{np_maxversion}\"\n"
     ]
    }
   ],
   "source": [
    "import numpy as np\n",
    "import pandas as pd\n",
    "import seaborn as sns\n",
    "import matplotlib.pyplot as plt\n",
    "from sklearn.utils import resample\n",
    "from sklearn.preprocessing import normalize\n",
    "import matplotlib.pyplot as plt\n",
    "from mpl_toolkits.mplot3d import Axes3D, proj3d\n",
    "from sklearn.decomposition import PCA\n",
    "from sklearn.decomposition import TruncatedSVD\n",
    "from sklearn.model_selection import train_test_split\n",
    "from sklearn.linear_model import LogisticRegression\n",
    "from sklearn.metrics import accuracy_score\n",
    "from sklearn.preprocessing import StandardScaler\n",
    "from sklearn import svm\n",
    "from sklearn.metrics import precision_score, f1_score\n",
    "from sklearn.naive_bayes import GaussianNB\n",
    "from sklearn.metrics import classification_report\n",
    "from sklearn.metrics import recall_score"
   ]
  },
  {
   "cell_type": "code",
   "execution_count": 4,
   "id": "ac2e818d-ebc3-4fce-9e9c-76ba36676ccf",
   "metadata": {},
   "outputs": [
    {
     "data": {
      "text/html": [
       "<div>\n",
       "<style scoped>\n",
       "    .dataframe tbody tr th:only-of-type {\n",
       "        vertical-align: middle;\n",
       "    }\n",
       "\n",
       "    .dataframe tbody tr th {\n",
       "        vertical-align: top;\n",
       "    }\n",
       "\n",
       "    .dataframe thead th {\n",
       "        text-align: right;\n",
       "    }\n",
       "</style>\n",
       "<table border=\"1\" class=\"dataframe\">\n",
       "  <thead>\n",
       "    <tr style=\"text-align: right;\">\n",
       "      <th></th>\n",
       "      <th>age</th>\n",
       "      <th>sex</th>\n",
       "      <th>dzgroup</th>\n",
       "      <th>dzclass</th>\n",
       "      <th>num.co</th>\n",
       "      <th>edu</th>\n",
       "      <th>income</th>\n",
       "      <th>scoma</th>\n",
       "      <th>charges</th>\n",
       "      <th>totcst</th>\n",
       "      <th>...</th>\n",
       "      <th>bili</th>\n",
       "      <th>crea</th>\n",
       "      <th>sod</th>\n",
       "      <th>ph</th>\n",
       "      <th>glucose</th>\n",
       "      <th>bun</th>\n",
       "      <th>urine</th>\n",
       "      <th>adlp</th>\n",
       "      <th>adls</th>\n",
       "      <th>adlsc</th>\n",
       "    </tr>\n",
       "  </thead>\n",
       "  <tbody>\n",
       "    <tr>\n",
       "      <th>0</th>\n",
       "      <td>62.84998</td>\n",
       "      <td>male</td>\n",
       "      <td>Lung Cancer</td>\n",
       "      <td>Cancer</td>\n",
       "      <td>0</td>\n",
       "      <td>11.0</td>\n",
       "      <td>$11-$25k</td>\n",
       "      <td>0.0</td>\n",
       "      <td>9715.0</td>\n",
       "      <td>NaN</td>\n",
       "      <td>...</td>\n",
       "      <td>0.199982</td>\n",
       "      <td>1.199951</td>\n",
       "      <td>141.0</td>\n",
       "      <td>7.459961</td>\n",
       "      <td>NaN</td>\n",
       "      <td>NaN</td>\n",
       "      <td>NaN</td>\n",
       "      <td>7.0</td>\n",
       "      <td>7.0</td>\n",
       "      <td>7.000000</td>\n",
       "    </tr>\n",
       "    <tr>\n",
       "      <th>1</th>\n",
       "      <td>60.33899</td>\n",
       "      <td>female</td>\n",
       "      <td>Cirrhosis</td>\n",
       "      <td>COPD/CHF/Cirrhosis</td>\n",
       "      <td>2</td>\n",
       "      <td>12.0</td>\n",
       "      <td>$11-$25k</td>\n",
       "      <td>44.0</td>\n",
       "      <td>34496.0</td>\n",
       "      <td>NaN</td>\n",
       "      <td>...</td>\n",
       "      <td>NaN</td>\n",
       "      <td>5.500000</td>\n",
       "      <td>132.0</td>\n",
       "      <td>7.250000</td>\n",
       "      <td>NaN</td>\n",
       "      <td>NaN</td>\n",
       "      <td>NaN</td>\n",
       "      <td>NaN</td>\n",
       "      <td>1.0</td>\n",
       "      <td>1.000000</td>\n",
       "    </tr>\n",
       "    <tr>\n",
       "      <th>2</th>\n",
       "      <td>52.74698</td>\n",
       "      <td>female</td>\n",
       "      <td>Cirrhosis</td>\n",
       "      <td>COPD/CHF/Cirrhosis</td>\n",
       "      <td>2</td>\n",
       "      <td>12.0</td>\n",
       "      <td>under $11k</td>\n",
       "      <td>0.0</td>\n",
       "      <td>41094.0</td>\n",
       "      <td>NaN</td>\n",
       "      <td>...</td>\n",
       "      <td>2.199707</td>\n",
       "      <td>2.000000</td>\n",
       "      <td>134.0</td>\n",
       "      <td>7.459961</td>\n",
       "      <td>NaN</td>\n",
       "      <td>NaN</td>\n",
       "      <td>NaN</td>\n",
       "      <td>1.0</td>\n",
       "      <td>0.0</td>\n",
       "      <td>0.000000</td>\n",
       "    </tr>\n",
       "    <tr>\n",
       "      <th>3</th>\n",
       "      <td>42.38498</td>\n",
       "      <td>female</td>\n",
       "      <td>Lung Cancer</td>\n",
       "      <td>Cancer</td>\n",
       "      <td>2</td>\n",
       "      <td>11.0</td>\n",
       "      <td>under $11k</td>\n",
       "      <td>0.0</td>\n",
       "      <td>3075.0</td>\n",
       "      <td>NaN</td>\n",
       "      <td>...</td>\n",
       "      <td>NaN</td>\n",
       "      <td>0.799927</td>\n",
       "      <td>139.0</td>\n",
       "      <td>NaN</td>\n",
       "      <td>NaN</td>\n",
       "      <td>NaN</td>\n",
       "      <td>NaN</td>\n",
       "      <td>0.0</td>\n",
       "      <td>0.0</td>\n",
       "      <td>0.000000</td>\n",
       "    </tr>\n",
       "    <tr>\n",
       "      <th>4</th>\n",
       "      <td>79.88495</td>\n",
       "      <td>female</td>\n",
       "      <td>ARF/MOSF w/Sepsis</td>\n",
       "      <td>ARF/MOSF</td>\n",
       "      <td>1</td>\n",
       "      <td>NaN</td>\n",
       "      <td>NaN</td>\n",
       "      <td>26.0</td>\n",
       "      <td>50127.0</td>\n",
       "      <td>NaN</td>\n",
       "      <td>...</td>\n",
       "      <td>NaN</td>\n",
       "      <td>0.799927</td>\n",
       "      <td>143.0</td>\n",
       "      <td>7.509766</td>\n",
       "      <td>NaN</td>\n",
       "      <td>NaN</td>\n",
       "      <td>NaN</td>\n",
       "      <td>NaN</td>\n",
       "      <td>2.0</td>\n",
       "      <td>2.000000</td>\n",
       "    </tr>\n",
       "    <tr>\n",
       "      <th>...</th>\n",
       "      <td>...</td>\n",
       "      <td>...</td>\n",
       "      <td>...</td>\n",
       "      <td>...</td>\n",
       "      <td>...</td>\n",
       "      <td>...</td>\n",
       "      <td>...</td>\n",
       "      <td>...</td>\n",
       "      <td>...</td>\n",
       "      <td>...</td>\n",
       "      <td>...</td>\n",
       "      <td>...</td>\n",
       "      <td>...</td>\n",
       "      <td>...</td>\n",
       "      <td>...</td>\n",
       "      <td>...</td>\n",
       "      <td>...</td>\n",
       "      <td>...</td>\n",
       "      <td>...</td>\n",
       "      <td>...</td>\n",
       "      <td>...</td>\n",
       "    </tr>\n",
       "    <tr>\n",
       "      <th>9100</th>\n",
       "      <td>66.07300</td>\n",
       "      <td>male</td>\n",
       "      <td>ARF/MOSF w/Sepsis</td>\n",
       "      <td>ARF/MOSF</td>\n",
       "      <td>1</td>\n",
       "      <td>8.0</td>\n",
       "      <td>NaN</td>\n",
       "      <td>0.0</td>\n",
       "      <td>52870.0</td>\n",
       "      <td>34329.3125</td>\n",
       "      <td>...</td>\n",
       "      <td>0.399963</td>\n",
       "      <td>1.099854</td>\n",
       "      <td>131.0</td>\n",
       "      <td>7.459961</td>\n",
       "      <td>188.0</td>\n",
       "      <td>21.0</td>\n",
       "      <td>NaN</td>\n",
       "      <td>NaN</td>\n",
       "      <td>0.0</td>\n",
       "      <td>0.000000</td>\n",
       "    </tr>\n",
       "    <tr>\n",
       "      <th>9101</th>\n",
       "      <td>55.15399</td>\n",
       "      <td>female</td>\n",
       "      <td>Coma</td>\n",
       "      <td>Coma</td>\n",
       "      <td>1</td>\n",
       "      <td>11.0</td>\n",
       "      <td>NaN</td>\n",
       "      <td>41.0</td>\n",
       "      <td>35377.0</td>\n",
       "      <td>23558.5000</td>\n",
       "      <td>...</td>\n",
       "      <td>NaN</td>\n",
       "      <td>5.899414</td>\n",
       "      <td>135.0</td>\n",
       "      <td>7.289062</td>\n",
       "      <td>190.0</td>\n",
       "      <td>49.0</td>\n",
       "      <td>0.0</td>\n",
       "      <td>NaN</td>\n",
       "      <td>0.0</td>\n",
       "      <td>0.000000</td>\n",
       "    </tr>\n",
       "    <tr>\n",
       "      <th>9102</th>\n",
       "      <td>70.38196</td>\n",
       "      <td>male</td>\n",
       "      <td>ARF/MOSF w/Sepsis</td>\n",
       "      <td>ARF/MOSF</td>\n",
       "      <td>1</td>\n",
       "      <td>NaN</td>\n",
       "      <td>NaN</td>\n",
       "      <td>0.0</td>\n",
       "      <td>46564.0</td>\n",
       "      <td>31409.0156</td>\n",
       "      <td>...</td>\n",
       "      <td>0.399963</td>\n",
       "      <td>2.699707</td>\n",
       "      <td>139.0</td>\n",
       "      <td>7.379883</td>\n",
       "      <td>189.0</td>\n",
       "      <td>60.0</td>\n",
       "      <td>3900.0</td>\n",
       "      <td>NaN</td>\n",
       "      <td>NaN</td>\n",
       "      <td>2.525391</td>\n",
       "    </tr>\n",
       "    <tr>\n",
       "      <th>9103</th>\n",
       "      <td>47.01999</td>\n",
       "      <td>male</td>\n",
       "      <td>MOSF w/Malig</td>\n",
       "      <td>ARF/MOSF</td>\n",
       "      <td>1</td>\n",
       "      <td>13.0</td>\n",
       "      <td>NaN</td>\n",
       "      <td>0.0</td>\n",
       "      <td>58439.0</td>\n",
       "      <td>NaN</td>\n",
       "      <td>...</td>\n",
       "      <td>0.399963</td>\n",
       "      <td>3.500000</td>\n",
       "      <td>135.0</td>\n",
       "      <td>7.469727</td>\n",
       "      <td>246.0</td>\n",
       "      <td>55.0</td>\n",
       "      <td>NaN</td>\n",
       "      <td>NaN</td>\n",
       "      <td>0.0</td>\n",
       "      <td>0.000000</td>\n",
       "    </tr>\n",
       "    <tr>\n",
       "      <th>9104</th>\n",
       "      <td>81.53894</td>\n",
       "      <td>female</td>\n",
       "      <td>ARF/MOSF w/Sepsis</td>\n",
       "      <td>ARF/MOSF</td>\n",
       "      <td>1</td>\n",
       "      <td>8.0</td>\n",
       "      <td>$11-$25k</td>\n",
       "      <td>0.0</td>\n",
       "      <td>15604.0</td>\n",
       "      <td>10605.7578</td>\n",
       "      <td>...</td>\n",
       "      <td>0.599976</td>\n",
       "      <td>1.199951</td>\n",
       "      <td>137.0</td>\n",
       "      <td>7.289062</td>\n",
       "      <td>187.0</td>\n",
       "      <td>15.0</td>\n",
       "      <td>NaN</td>\n",
       "      <td>0.0</td>\n",
       "      <td>NaN</td>\n",
       "      <td>0.494751</td>\n",
       "    </tr>\n",
       "  </tbody>\n",
       "</table>\n",
       "<p>9105 rows × 42 columns</p>\n",
       "</div>"
      ],
      "text/plain": [
       "           age     sex            dzgroup             dzclass  num.co   edu  \\\n",
       "0     62.84998    male        Lung Cancer              Cancer       0  11.0   \n",
       "1     60.33899  female          Cirrhosis  COPD/CHF/Cirrhosis       2  12.0   \n",
       "2     52.74698  female          Cirrhosis  COPD/CHF/Cirrhosis       2  12.0   \n",
       "3     42.38498  female        Lung Cancer              Cancer       2  11.0   \n",
       "4     79.88495  female  ARF/MOSF w/Sepsis            ARF/MOSF       1   NaN   \n",
       "...        ...     ...                ...                 ...     ...   ...   \n",
       "9100  66.07300    male  ARF/MOSF w/Sepsis            ARF/MOSF       1   8.0   \n",
       "9101  55.15399  female               Coma                Coma       1  11.0   \n",
       "9102  70.38196    male  ARF/MOSF w/Sepsis            ARF/MOSF       1   NaN   \n",
       "9103  47.01999    male       MOSF w/Malig            ARF/MOSF       1  13.0   \n",
       "9104  81.53894  female  ARF/MOSF w/Sepsis            ARF/MOSF       1   8.0   \n",
       "\n",
       "          income  scoma  charges      totcst  ...      bili      crea    sod  \\\n",
       "0       $11-$25k    0.0   9715.0         NaN  ...  0.199982  1.199951  141.0   \n",
       "1       $11-$25k   44.0  34496.0         NaN  ...       NaN  5.500000  132.0   \n",
       "2     under $11k    0.0  41094.0         NaN  ...  2.199707  2.000000  134.0   \n",
       "3     under $11k    0.0   3075.0         NaN  ...       NaN  0.799927  139.0   \n",
       "4            NaN   26.0  50127.0         NaN  ...       NaN  0.799927  143.0   \n",
       "...          ...    ...      ...         ...  ...       ...       ...    ...   \n",
       "9100         NaN    0.0  52870.0  34329.3125  ...  0.399963  1.099854  131.0   \n",
       "9101         NaN   41.0  35377.0  23558.5000  ...       NaN  5.899414  135.0   \n",
       "9102         NaN    0.0  46564.0  31409.0156  ...  0.399963  2.699707  139.0   \n",
       "9103         NaN    0.0  58439.0         NaN  ...  0.399963  3.500000  135.0   \n",
       "9104    $11-$25k    0.0  15604.0  10605.7578  ...  0.599976  1.199951  137.0   \n",
       "\n",
       "            ph  glucose   bun   urine  adlp  adls     adlsc  \n",
       "0     7.459961      NaN   NaN     NaN   7.0   7.0  7.000000  \n",
       "1     7.250000      NaN   NaN     NaN   NaN   1.0  1.000000  \n",
       "2     7.459961      NaN   NaN     NaN   1.0   0.0  0.000000  \n",
       "3          NaN      NaN   NaN     NaN   0.0   0.0  0.000000  \n",
       "4     7.509766      NaN   NaN     NaN   NaN   2.0  2.000000  \n",
       "...        ...      ...   ...     ...   ...   ...       ...  \n",
       "9100  7.459961    188.0  21.0     NaN   NaN   0.0  0.000000  \n",
       "9101  7.289062    190.0  49.0     0.0   NaN   0.0  0.000000  \n",
       "9102  7.379883    189.0  60.0  3900.0   NaN   NaN  2.525391  \n",
       "9103  7.469727    246.0  55.0     NaN   NaN   0.0  0.000000  \n",
       "9104  7.289062    187.0  15.0     NaN   0.0   NaN  0.494751  \n",
       "\n",
       "[9105 rows x 42 columns]"
      ]
     },
     "execution_count": 4,
     "metadata": {},
     "output_type": "execute_result"
    }
   ],
   "source": [
    "X"
   ]
  },
  {
   "cell_type": "code",
   "execution_count": 5,
   "id": "cfb8f84e-cf90-423f-a8c8-6276939511ed",
   "metadata": {},
   "outputs": [
    {
     "data": {
      "text/html": [
       "<div>\n",
       "<style scoped>\n",
       "    .dataframe tbody tr th:only-of-type {\n",
       "        vertical-align: middle;\n",
       "    }\n",
       "\n",
       "    .dataframe tbody tr th {\n",
       "        vertical-align: top;\n",
       "    }\n",
       "\n",
       "    .dataframe thead th {\n",
       "        text-align: right;\n",
       "    }\n",
       "</style>\n",
       "<table border=\"1\" class=\"dataframe\">\n",
       "  <thead>\n",
       "    <tr style=\"text-align: right;\">\n",
       "      <th></th>\n",
       "      <th>death</th>\n",
       "      <th>hospdead</th>\n",
       "      <th>sfdm2</th>\n",
       "    </tr>\n",
       "  </thead>\n",
       "  <tbody>\n",
       "    <tr>\n",
       "      <th>0</th>\n",
       "      <td>0</td>\n",
       "      <td>0</td>\n",
       "      <td>NaN</td>\n",
       "    </tr>\n",
       "    <tr>\n",
       "      <th>1</th>\n",
       "      <td>1</td>\n",
       "      <td>1</td>\n",
       "      <td>&lt;2 mo. follow-up</td>\n",
       "    </tr>\n",
       "    <tr>\n",
       "      <th>2</th>\n",
       "      <td>1</td>\n",
       "      <td>0</td>\n",
       "      <td>&lt;2 mo. follow-up</td>\n",
       "    </tr>\n",
       "    <tr>\n",
       "      <th>3</th>\n",
       "      <td>1</td>\n",
       "      <td>0</td>\n",
       "      <td>no(M2 and SIP pres)</td>\n",
       "    </tr>\n",
       "    <tr>\n",
       "      <th>4</th>\n",
       "      <td>0</td>\n",
       "      <td>0</td>\n",
       "      <td>no(M2 and SIP pres)</td>\n",
       "    </tr>\n",
       "    <tr>\n",
       "      <th>...</th>\n",
       "      <td>...</td>\n",
       "      <td>...</td>\n",
       "      <td>...</td>\n",
       "    </tr>\n",
       "    <tr>\n",
       "      <th>9100</th>\n",
       "      <td>0</td>\n",
       "      <td>0</td>\n",
       "      <td>NaN</td>\n",
       "    </tr>\n",
       "    <tr>\n",
       "      <th>9101</th>\n",
       "      <td>0</td>\n",
       "      <td>0</td>\n",
       "      <td>NaN</td>\n",
       "    </tr>\n",
       "    <tr>\n",
       "      <th>9102</th>\n",
       "      <td>0</td>\n",
       "      <td>0</td>\n",
       "      <td>NaN</td>\n",
       "    </tr>\n",
       "    <tr>\n",
       "      <th>9103</th>\n",
       "      <td>1</td>\n",
       "      <td>1</td>\n",
       "      <td>&lt;2 mo. follow-up</td>\n",
       "    </tr>\n",
       "    <tr>\n",
       "      <th>9104</th>\n",
       "      <td>1</td>\n",
       "      <td>0</td>\n",
       "      <td>no(M2 and SIP pres)</td>\n",
       "    </tr>\n",
       "  </tbody>\n",
       "</table>\n",
       "<p>9105 rows × 3 columns</p>\n",
       "</div>"
      ],
      "text/plain": [
       "      death  hospdead                sfdm2\n",
       "0         0         0                  NaN\n",
       "1         1         1     <2 mo. follow-up\n",
       "2         1         0     <2 mo. follow-up\n",
       "3         1         0  no(M2 and SIP pres)\n",
       "4         0         0  no(M2 and SIP pres)\n",
       "...     ...       ...                  ...\n",
       "9100      0         0                  NaN\n",
       "9101      0         0                  NaN\n",
       "9102      0         0                  NaN\n",
       "9103      1         1     <2 mo. follow-up\n",
       "9104      1         0  no(M2 and SIP pres)\n",
       "\n",
       "[9105 rows x 3 columns]"
      ]
     },
     "execution_count": 5,
     "metadata": {},
     "output_type": "execute_result"
    }
   ],
   "source": [
    "y"
   ]
  },
  {
   "cell_type": "code",
   "execution_count": 6,
   "id": "abb0892d-8def-461a-9deb-65bfdc66d0e5",
   "metadata": {},
   "outputs": [],
   "source": [
    "data = X.copy(deep=True)\n",
    "y = data['diabetes']"
   ]
  },
  {
   "cell_type": "code",
   "execution_count": 7,
   "id": "b04ccd20-5b23-47ae-838d-2e3db9a62619",
   "metadata": {
    "scrolled": true
   },
   "outputs": [
    {
     "data": {
      "text/plain": [
       "age            0\n",
       "sex            0\n",
       "dzgroup        0\n",
       "dzclass        0\n",
       "num.co         0\n",
       "edu         1634\n",
       "income      2982\n",
       "scoma          1\n",
       "charges      172\n",
       "totcst       888\n",
       "totmcst     3475\n",
       "avtisst       82\n",
       "race          42\n",
       "sps            1\n",
       "aps            1\n",
       "surv2m         1\n",
       "surv6m         1\n",
       "hday           0\n",
       "diabetes       0\n",
       "dementia       0\n",
       "ca             0\n",
       "prg2m       1649\n",
       "prg6m       1633\n",
       "dnr           30\n",
       "dnrday        30\n",
       "meanbp         1\n",
       "wblc         212\n",
       "hrt            1\n",
       "resp           1\n",
       "temp           1\n",
       "pafi        2325\n",
       "alb         3372\n",
       "bili        2601\n",
       "crea          67\n",
       "sod            1\n",
       "ph          2284\n",
       "glucose     4500\n",
       "bun         4352\n",
       "urine       4862\n",
       "adlp        5641\n",
       "adls        2867\n",
       "adlsc          0\n",
       "dtype: int64"
      ]
     },
     "execution_count": 7,
     "metadata": {},
     "output_type": "execute_result"
    }
   ],
   "source": [
    "data.isnull().sum()"
   ]
  },
  {
   "cell_type": "code",
   "execution_count": 8,
   "id": "af7aaca5-5fb0-4f5d-954a-c27f3ae2420e",
   "metadata": {},
   "outputs": [
    {
     "data": {
      "text/plain": [
       "0"
      ]
     },
     "execution_count": 8,
     "metadata": {},
     "output_type": "execute_result"
    }
   ],
   "source": [
    "y.isnull().sum()"
   ]
  },
  {
   "cell_type": "code",
   "execution_count": 9,
   "id": "767a7a08-d8a4-4ec3-be4d-a51cdb84a239",
   "metadata": {},
   "outputs": [
    {
     "data": {
      "text/plain": [
       "0"
      ]
     },
     "execution_count": 9,
     "metadata": {},
     "output_type": "execute_result"
    }
   ],
   "source": [
    "data.duplicated().sum()"
   ]
  },
  {
   "cell_type": "code",
   "execution_count": 10,
   "id": "8c95a644-44c2-40a5-b799-a9b9f3fde699",
   "metadata": {},
   "outputs": [
    {
     "data": {
      "text/html": [
       "<div>\n",
       "<style scoped>\n",
       "    .dataframe tbody tr th:only-of-type {\n",
       "        vertical-align: middle;\n",
       "    }\n",
       "\n",
       "    .dataframe tbody tr th {\n",
       "        vertical-align: top;\n",
       "    }\n",
       "\n",
       "    .dataframe thead th {\n",
       "        text-align: right;\n",
       "    }\n",
       "</style>\n",
       "<table border=\"1\" class=\"dataframe\">\n",
       "  <thead>\n",
       "    <tr style=\"text-align: right;\">\n",
       "      <th></th>\n",
       "      <th>age</th>\n",
       "      <th>num.co</th>\n",
       "      <th>edu</th>\n",
       "      <th>scoma</th>\n",
       "      <th>charges</th>\n",
       "      <th>totcst</th>\n",
       "      <th>totmcst</th>\n",
       "      <th>avtisst</th>\n",
       "      <th>sps</th>\n",
       "      <th>aps</th>\n",
       "      <th>...</th>\n",
       "      <th>bili</th>\n",
       "      <th>crea</th>\n",
       "      <th>sod</th>\n",
       "      <th>ph</th>\n",
       "      <th>glucose</th>\n",
       "      <th>bun</th>\n",
       "      <th>urine</th>\n",
       "      <th>adlp</th>\n",
       "      <th>adls</th>\n",
       "      <th>adlsc</th>\n",
       "    </tr>\n",
       "  </thead>\n",
       "  <tbody>\n",
       "    <tr>\n",
       "      <th>count</th>\n",
       "      <td>9105.000000</td>\n",
       "      <td>9105.000000</td>\n",
       "      <td>7471.000000</td>\n",
       "      <td>9104.000000</td>\n",
       "      <td>8.933000e+03</td>\n",
       "      <td>8217.000000</td>\n",
       "      <td>5630.000000</td>\n",
       "      <td>9023.000000</td>\n",
       "      <td>9104.000000</td>\n",
       "      <td>9104.000000</td>\n",
       "      <td>...</td>\n",
       "      <td>6504.000000</td>\n",
       "      <td>9038.000000</td>\n",
       "      <td>9104.000000</td>\n",
       "      <td>6821.000000</td>\n",
       "      <td>4605.000000</td>\n",
       "      <td>4753.000000</td>\n",
       "      <td>4243.000000</td>\n",
       "      <td>3464.000000</td>\n",
       "      <td>6238.000000</td>\n",
       "      <td>9105.000000</td>\n",
       "    </tr>\n",
       "    <tr>\n",
       "      <th>mean</th>\n",
       "      <td>62.650823</td>\n",
       "      <td>1.868644</td>\n",
       "      <td>11.747691</td>\n",
       "      <td>12.058546</td>\n",
       "      <td>5.999579e+04</td>\n",
       "      <td>30825.867768</td>\n",
       "      <td>28828.877838</td>\n",
       "      <td>22.610928</td>\n",
       "      <td>25.525872</td>\n",
       "      <td>37.597979</td>\n",
       "      <td>...</td>\n",
       "      <td>2.554463</td>\n",
       "      <td>1.770961</td>\n",
       "      <td>137.568541</td>\n",
       "      <td>7.415364</td>\n",
       "      <td>159.873398</td>\n",
       "      <td>32.349463</td>\n",
       "      <td>2191.546047</td>\n",
       "      <td>1.157910</td>\n",
       "      <td>1.637384</td>\n",
       "      <td>1.888272</td>\n",
       "    </tr>\n",
       "    <tr>\n",
       "      <th>std</th>\n",
       "      <td>15.593710</td>\n",
       "      <td>1.344409</td>\n",
       "      <td>3.447743</td>\n",
       "      <td>24.636694</td>\n",
       "      <td>1.026488e+05</td>\n",
       "      <td>45780.820986</td>\n",
       "      <td>43604.261932</td>\n",
       "      <td>13.233248</td>\n",
       "      <td>9.899377</td>\n",
       "      <td>19.903852</td>\n",
       "      <td>...</td>\n",
       "      <td>5.318448</td>\n",
       "      <td>1.686041</td>\n",
       "      <td>6.029326</td>\n",
       "      <td>0.080563</td>\n",
       "      <td>88.391541</td>\n",
       "      <td>26.792288</td>\n",
       "      <td>1455.245777</td>\n",
       "      <td>1.739672</td>\n",
       "      <td>2.231358</td>\n",
       "      <td>2.003763</td>\n",
       "    </tr>\n",
       "    <tr>\n",
       "      <th>min</th>\n",
       "      <td>18.041990</td>\n",
       "      <td>0.000000</td>\n",
       "      <td>0.000000</td>\n",
       "      <td>0.000000</td>\n",
       "      <td>1.169000e+03</td>\n",
       "      <td>0.000000</td>\n",
       "      <td>-102.719970</td>\n",
       "      <td>1.000000</td>\n",
       "      <td>0.199982</td>\n",
       "      <td>0.000000</td>\n",
       "      <td>...</td>\n",
       "      <td>0.099991</td>\n",
       "      <td>0.099991</td>\n",
       "      <td>110.000000</td>\n",
       "      <td>6.829102</td>\n",
       "      <td>0.000000</td>\n",
       "      <td>1.000000</td>\n",
       "      <td>0.000000</td>\n",
       "      <td>0.000000</td>\n",
       "      <td>0.000000</td>\n",
       "      <td>0.000000</td>\n",
       "    </tr>\n",
       "    <tr>\n",
       "      <th>25%</th>\n",
       "      <td>52.797000</td>\n",
       "      <td>1.000000</td>\n",
       "      <td>10.000000</td>\n",
       "      <td>0.000000</td>\n",
       "      <td>9.740000e+03</td>\n",
       "      <td>5929.566400</td>\n",
       "      <td>5177.404300</td>\n",
       "      <td>12.000000</td>\n",
       "      <td>19.000000</td>\n",
       "      <td>23.000000</td>\n",
       "      <td>...</td>\n",
       "      <td>0.500000</td>\n",
       "      <td>0.899902</td>\n",
       "      <td>134.000000</td>\n",
       "      <td>7.379883</td>\n",
       "      <td>103.000000</td>\n",
       "      <td>14.000000</td>\n",
       "      <td>1165.500000</td>\n",
       "      <td>0.000000</td>\n",
       "      <td>0.000000</td>\n",
       "      <td>0.000000</td>\n",
       "    </tr>\n",
       "    <tr>\n",
       "      <th>50%</th>\n",
       "      <td>64.856990</td>\n",
       "      <td>2.000000</td>\n",
       "      <td>12.000000</td>\n",
       "      <td>0.000000</td>\n",
       "      <td>2.502400e+04</td>\n",
       "      <td>14452.734400</td>\n",
       "      <td>13223.500000</td>\n",
       "      <td>19.500000</td>\n",
       "      <td>23.898438</td>\n",
       "      <td>34.000000</td>\n",
       "      <td>...</td>\n",
       "      <td>0.899902</td>\n",
       "      <td>1.199951</td>\n",
       "      <td>137.000000</td>\n",
       "      <td>7.419922</td>\n",
       "      <td>135.000000</td>\n",
       "      <td>23.000000</td>\n",
       "      <td>1968.000000</td>\n",
       "      <td>0.000000</td>\n",
       "      <td>1.000000</td>\n",
       "      <td>1.000000</td>\n",
       "    </tr>\n",
       "    <tr>\n",
       "      <th>75%</th>\n",
       "      <td>73.998960</td>\n",
       "      <td>3.000000</td>\n",
       "      <td>14.000000</td>\n",
       "      <td>9.000000</td>\n",
       "      <td>6.459800e+04</td>\n",
       "      <td>36087.937500</td>\n",
       "      <td>34223.601600</td>\n",
       "      <td>31.666656</td>\n",
       "      <td>30.199219</td>\n",
       "      <td>49.000000</td>\n",
       "      <td>...</td>\n",
       "      <td>1.899902</td>\n",
       "      <td>1.899902</td>\n",
       "      <td>141.000000</td>\n",
       "      <td>7.469727</td>\n",
       "      <td>188.000000</td>\n",
       "      <td>42.000000</td>\n",
       "      <td>3000.000000</td>\n",
       "      <td>2.000000</td>\n",
       "      <td>3.000000</td>\n",
       "      <td>3.000000</td>\n",
       "    </tr>\n",
       "    <tr>\n",
       "      <th>max</th>\n",
       "      <td>101.847960</td>\n",
       "      <td>9.000000</td>\n",
       "      <td>31.000000</td>\n",
       "      <td>100.000000</td>\n",
       "      <td>1.435423e+06</td>\n",
       "      <td>633212.000000</td>\n",
       "      <td>710682.000000</td>\n",
       "      <td>83.000000</td>\n",
       "      <td>99.187500</td>\n",
       "      <td>143.000000</td>\n",
       "      <td>...</td>\n",
       "      <td>63.000000</td>\n",
       "      <td>21.500000</td>\n",
       "      <td>181.000000</td>\n",
       "      <td>7.769531</td>\n",
       "      <td>1092.000000</td>\n",
       "      <td>300.000000</td>\n",
       "      <td>9000.000000</td>\n",
       "      <td>7.000000</td>\n",
       "      <td>7.000000</td>\n",
       "      <td>7.073242</td>\n",
       "    </tr>\n",
       "  </tbody>\n",
       "</table>\n",
       "<p>8 rows × 35 columns</p>\n",
       "</div>"
      ],
      "text/plain": [
       "               age       num.co          edu        scoma       charges  \\\n",
       "count  9105.000000  9105.000000  7471.000000  9104.000000  8.933000e+03   \n",
       "mean     62.650823     1.868644    11.747691    12.058546  5.999579e+04   \n",
       "std      15.593710     1.344409     3.447743    24.636694  1.026488e+05   \n",
       "min      18.041990     0.000000     0.000000     0.000000  1.169000e+03   \n",
       "25%      52.797000     1.000000    10.000000     0.000000  9.740000e+03   \n",
       "50%      64.856990     2.000000    12.000000     0.000000  2.502400e+04   \n",
       "75%      73.998960     3.000000    14.000000     9.000000  6.459800e+04   \n",
       "max     101.847960     9.000000    31.000000   100.000000  1.435423e+06   \n",
       "\n",
       "              totcst        totmcst      avtisst          sps          aps  \\\n",
       "count    8217.000000    5630.000000  9023.000000  9104.000000  9104.000000   \n",
       "mean    30825.867768   28828.877838    22.610928    25.525872    37.597979   \n",
       "std     45780.820986   43604.261932    13.233248     9.899377    19.903852   \n",
       "min         0.000000    -102.719970     1.000000     0.199982     0.000000   \n",
       "25%      5929.566400    5177.404300    12.000000    19.000000    23.000000   \n",
       "50%     14452.734400   13223.500000    19.500000    23.898438    34.000000   \n",
       "75%     36087.937500   34223.601600    31.666656    30.199219    49.000000   \n",
       "max    633212.000000  710682.000000    83.000000    99.187500   143.000000   \n",
       "\n",
       "       ...         bili         crea          sod           ph      glucose  \\\n",
       "count  ...  6504.000000  9038.000000  9104.000000  6821.000000  4605.000000   \n",
       "mean   ...     2.554463     1.770961   137.568541     7.415364   159.873398   \n",
       "std    ...     5.318448     1.686041     6.029326     0.080563    88.391541   \n",
       "min    ...     0.099991     0.099991   110.000000     6.829102     0.000000   \n",
       "25%    ...     0.500000     0.899902   134.000000     7.379883   103.000000   \n",
       "50%    ...     0.899902     1.199951   137.000000     7.419922   135.000000   \n",
       "75%    ...     1.899902     1.899902   141.000000     7.469727   188.000000   \n",
       "max    ...    63.000000    21.500000   181.000000     7.769531  1092.000000   \n",
       "\n",
       "               bun        urine         adlp         adls        adlsc  \n",
       "count  4753.000000  4243.000000  3464.000000  6238.000000  9105.000000  \n",
       "mean     32.349463  2191.546047     1.157910     1.637384     1.888272  \n",
       "std      26.792288  1455.245777     1.739672     2.231358     2.003763  \n",
       "min       1.000000     0.000000     0.000000     0.000000     0.000000  \n",
       "25%      14.000000  1165.500000     0.000000     0.000000     0.000000  \n",
       "50%      23.000000  1968.000000     0.000000     1.000000     1.000000  \n",
       "75%      42.000000  3000.000000     2.000000     3.000000     3.000000  \n",
       "max     300.000000  9000.000000     7.000000     7.000000     7.073242  \n",
       "\n",
       "[8 rows x 35 columns]"
      ]
     },
     "execution_count": 10,
     "metadata": {},
     "output_type": "execute_result"
    }
   ],
   "source": [
    "data.describe()"
   ]
  },
  {
   "cell_type": "code",
   "execution_count": 11,
   "id": "d6d07b65-aefe-4ecb-a562-f42f4ac849aa",
   "metadata": {},
   "outputs": [
    {
     "name": "stdout",
     "output_type": "stream",
     "text": [
      "Percentage of Patients Without Diabetes : 80.47226798462384 %\n",
      "Percentage of Patients With Diabetes : 19.527732015376166 %\n"
     ]
    }
   ],
   "source": [
    "percentage_diabetes_0 = (data['diabetes'].value_counts()[0] / len(data)) * 100\n",
    "percentage_diabetes_1 = (data['diabetes'].value_counts()[1] / len(data)) * 100\n",
    "\n",
    "# Display the percentages\n",
    "print(\"Percentage of Patients Without Diabetes :\", percentage_diabetes_0, \"%\")\n",
    "print(\"Percentage of Patients With Diabetes :\", percentage_diabetes_1, \"%\")"
   ]
  },
  {
   "cell_type": "code",
   "execution_count": 12,
   "id": "12facb54-f22d-4cc8-988a-ecdf1b9983e7",
   "metadata": {},
   "outputs": [
    {
     "name": "stdout",
     "output_type": "stream",
     "text": [
      "Balanced Data Class Distribution:\n",
      "0    2667\n",
      "1    1778\n",
      "Name: diabetes, dtype: int64\n"
     ]
    }
   ],
   "source": [
    "positive = data[data['diabetes'] == 1]\n",
    "negative = data[data['diabetes'] == 0]\n",
    "\n",
    "target_negative = int(len(positive) / 0.4 * 0.6)\n",
    "\n",
    "negative_sample = negative.sample(target_negative).reset_index(drop=True)\n",
    "balanced_data = pd.concat([positive, negative_sample]).reset_index(drop=True)\n",
    "balanced_data = balanced_data.sample(frac=1).reset_index(drop=True)\n",
    "\n",
    "print(\"Balanced Data Class Distribution:\")\n",
    "print(balanced_data['diabetes'].value_counts())"
   ]
  },
  {
   "cell_type": "code",
   "execution_count": 13,
   "id": "3da2e99e-681d-4548-899a-a22c8b460672",
   "metadata": {},
   "outputs": [
    {
     "name": "stdout",
     "output_type": "stream",
     "text": [
      "Percentage of Patients With Diabetes : 40.00%\n",
      "Percentage of Patients Without Diabetes : 60.00%\n"
     ]
    }
   ],
   "source": [
    "percentage_positive = (balanced_data['diabetes'].value_counts()[1] / len(balanced_data)) * 100\n",
    "percentage_negative = (balanced_data['diabetes'].value_counts()[0] / len(balanced_data)) * 100\n",
    "\n",
    "print(f\"Percentage of Patients With Diabetes : {percentage_positive:.2f}%\")\n",
    "print(f\"Percentage of Patients Without Diabetes : {percentage_negative:.2f}%\")"
   ]
  },
  {
   "cell_type": "code",
   "execution_count": 14,
   "id": "78baa324-1f2b-48aa-87cc-1ca3ec7d2d69",
   "metadata": {},
   "outputs": [
    {
     "data": {
      "image/png": "[encoded data removed]",
      "text/plain": [
       "<Figure size 1000x800 with 2 Axes>"
      ]
     },
     "metadata": {},
     "output_type": "display_data"
    }
   ],
   "source": [
    "correlation_matrix = balanced_data.corr()\n",
    "\n",
    "# Create a heatmap\n",
    "plt.figure(figsize=(10, 8))\n",
    "sns.heatmap(correlation_matrix, annot=True, cmap='coolwarm', fmt=\".2f\", linewidths=.5)\n",
    "plt.title('Correlation Map')\n",
    "plt.show()"
   ]
  },
  {
   "cell_type": "code",
   "execution_count": 15,
   "id": "7f1a754a-7c72-4df0-b599-98a26c95c38b",
   "metadata": {},
   "outputs": [],
   "source": [
    "balanced_data = balanced_data.dropna()"
   ]
  },
  {
   "cell_type": "code",
   "execution_count": 16,
   "id": "ed23451f-7476-4f07-a8c5-1b2f2144ebb7",
   "metadata": {
    "scrolled": true
   },
   "outputs": [],
   "source": [
    "balanced_data = pd.get_dummies(balanced_data, columns=['income'], prefix='income')"
   ]
  },
  {
   "cell_type": "code",
   "execution_count": 17,
   "id": "64d3569a-7701-4d41-a60c-65d66f7bbb6e",
   "metadata": {},
   "outputs": [],
   "source": [
    "balanced_data = pd.get_dummies(balanced_data, columns=['sex'], prefix='sex')"
   ]
  },
  {
   "cell_type": "code",
   "execution_count": 18,
   "id": "1f9d724f-e889-4a01-839a-0a07d66e0287",
   "metadata": {},
   "outputs": [],
   "source": [
    "balanced_data = pd.get_dummies(balanced_data, columns=['dzgroup'], prefix='dzgroup')"
   ]
  },
  {
   "cell_type": "code",
   "execution_count": 19,
   "id": "cceceffa-7505-480e-9fb4-956d167a78a6",
   "metadata": {},
   "outputs": [],
   "source": [
    "balanced_data = pd.get_dummies(balanced_data, columns=['dzclass'], prefix='dzclass')"
   ]
  },
  {
   "cell_type": "code",
   "execution_count": 20,
   "id": "66559ef4-f15a-40b4-876e-b56920592fe3",
   "metadata": {},
   "outputs": [],
   "source": [
    "balanced_data = pd.get_dummies(balanced_data, columns=['ca'], prefix='ca')"
   ]
  },
  {
   "cell_type": "code",
   "execution_count": 21,
   "id": "f2571a41-d9b9-4748-a6b7-73fdd2dc17fb",
   "metadata": {},
   "outputs": [],
   "source": [
    "balanced_data = pd.get_dummies(balanced_data, columns=['race'], prefix='race')"
   ]
  },
  {
   "cell_type": "code",
   "execution_count": 22,
   "id": "f2a47954-22eb-4942-94be-885949fcd2a2",
   "metadata": {},
   "outputs": [],
   "source": [
    "balanced_data = balanced_data.drop(columns=['prg2m', 'prg6m', 'dnr', 'sfdm2'], errors='ignore')"
   ]
  },
  {
   "cell_type": "markdown",
   "id": "d2ce7757-422f-495e-a3f9-2de1463aefa3",
   "metadata": {},
   "source": [
    "### Data Preprocessing"
   ]
  },
  {
   "cell_type": "code",
   "execution_count": 23,
   "id": "ad1eea4d-5b10-4995-9f6c-adf4810a3391",
   "metadata": {},
   "outputs": [],
   "source": [
    "X = balanced_data.drop('diabetes',axis=1)\n",
    "y = balanced_data['diabetes']"
   ]
  },
  {
   "cell_type": "code",
   "execution_count": 24,
   "id": "2d218af9-ad70-4d3e-b099-93ce488c0f22",
   "metadata": {},
   "outputs": [
    {
     "data": {
      "text/plain": [
       "array([[ 0.46912292,  0.32998327, -0.97217058, ..., -0.42874646,\n",
       "        -0.15961738,  0.47854742],\n",
       "       [ 0.4647786 , -0.92007099, -0.97217058, ..., -0.42874646,\n",
       "        -0.15961738,  0.47854742],\n",
       "       [-2.12643115, -0.29504386, -0.0656872 , ..., -0.42874646,\n",
       "        -0.15961738,  0.47854742],\n",
       "       ...,\n",
       "       [-1.83338395, -1.54509812,  0.84079618, ..., -0.42874646,\n",
       "        -0.15961738,  0.47854742],\n",
       "       [-0.26083737, -0.29504386,  0.23647392, ..., -0.42874646,\n",
       "        -0.15961738, -2.08965707],\n",
       "       [ 0.55105663, -0.92007099, -0.67000945, ..., -0.42874646,\n",
       "        -0.15961738,  0.47854742]])"
      ]
     },
     "execution_count": 24,
     "metadata": {},
     "output_type": "execute_result"
    }
   ],
   "source": [
    "scaler=StandardScaler()\n",
    "x_std=scaler.fit_transform(X)\n",
    "x_std"
   ]
  },
  {
   "cell_type": "code",
   "execution_count": 25,
   "id": "c939c570-28ca-4e75-b2e0-8212647d672b",
   "metadata": {},
   "outputs": [
    {
     "name": "stdout",
     "output_type": "stream",
     "text": [
      "x_train: (120, 57)\n",
      "x_test: (41, 57)\n",
      "y_train: (120,)\n",
      "y_test: (41,)\n"
     ]
    }
   ],
   "source": [
    "x_train,x_test,y_train,y_test=train_test_split(x_std,y,test_size=0.25)\n",
    "print('x_train:',x_train.shape)\n",
    "print('x_test:',x_test.shape)\n",
    "print('y_train:',y_train.shape)\n",
    "print('y_test:',y_test.shape)"
   ]
  },
  {
   "cell_type": "markdown",
   "id": "902b8e83-c7af-460d-93a5-2262177d9c4a",
   "metadata": {},
   "source": [
    "## SVM"
   ]
  },
  {
   "cell_type": "markdown",
   "id": "27641877-f400-4140-8fd6-c96d3a47b71c",
   "metadata": {},
   "source": [
    "### Model Generation SVM - Linear"
   ]
  },
  {
   "cell_type": "code",
   "execution_count": 26,
   "id": "b5a3e9fb-5e50-47e0-a75d-9e60f203d9b5",
   "metadata": {},
   "outputs": [
    {
     "data": {
      "text/plain": [
       "SVC(kernel='linear')"
      ]
     },
     "execution_count": 26,
     "metadata": {},
     "output_type": "execute_result"
    }
   ],
   "source": [
    "classifier=svm.SVC(kernel='linear')\n",
    "classifier.fit(x_train,y_train)"
   ]
  },
  {
   "cell_type": "markdown",
   "id": "01250cb7-38dc-4b24-bce1-2e07ba31249d",
   "metadata": {},
   "source": [
    "### Model Evaluation"
   ]
  },
  {
   "cell_type": "code",
   "execution_count": 27,
   "id": "b8eb0085-fa5d-4303-8d39-f5729ef7edeb",
   "metadata": {},
   "outputs": [
    {
     "name": "stdout",
     "output_type": "stream",
     "text": [
      "Accuracy score of testing data: 78.04878048780488\n"
     ]
    }
   ],
   "source": [
    "prediction=classifier.predict(x_test)\n",
    "testing_data_accuracy =accuracy_score(prediction,y_test)\n",
    "print(\"Accuracy score of testing data:\",testing_data_accuracy*100)"
   ]
  },
  {
   "cell_type": "code",
   "execution_count": 28,
   "id": "32633ed8-0e69-4e95-af30-814fee8508c3",
   "metadata": {},
   "outputs": [
    {
     "name": "stdout",
     "output_type": "stream",
     "text": [
      "Precision: 0.7647058823529411\n",
      "Recall: 0.7222222222222222\n",
      "F1-Score: 0.7428571428571428\n"
     ]
    }
   ],
   "source": [
    "precision = precision_score(y_test, prediction)\n",
    "recall = recall_score(y_test, prediction)\n",
    "f1 = f1_score(y_test, prediction)\n",
    "\n",
    "print(\"Precision:\", precision)\n",
    "print(\"Recall:\", recall)\n",
    "print(\"F1-Score:\", f1)"
   ]
  },
  {
   "cell_type": "markdown",
   "id": "ea6d2b57-c172-4f3d-be17-aa8cfada6ca6",
   "metadata": {},
   "source": [
    "### Model Generation SVM - Poly"
   ]
  },
  {
   "cell_type": "code",
   "execution_count": 29,
   "id": "66b9afd0-5f11-4d50-adde-b78ee325a890",
   "metadata": {},
   "outputs": [
    {
     "data": {
      "text/plain": [
       "SVC(kernel='poly')"
      ]
     },
     "execution_count": 29,
     "metadata": {},
     "output_type": "execute_result"
    }
   ],
   "source": [
    "classifier_pol=svm.SVC(kernel='poly')\n",
    "classifier_pol.fit(x_train,y_train)"
   ]
  },
  {
   "cell_type": "markdown",
   "id": "f49e72e3-62ce-4a54-8baf-8762b65499f6",
   "metadata": {},
   "source": [
    "### Model Evaluation -Poly"
   ]
  },
  {
   "cell_type": "code",
   "execution_count": 30,
   "id": "3e38b4f7-0643-4f19-a8cf-7c4816fb5cbe",
   "metadata": {},
   "outputs": [
    {
     "name": "stdout",
     "output_type": "stream",
     "text": [
      "Accuracy score of testing data: 58.536585365853654\n"
     ]
    }
   ],
   "source": [
    "prediction=classifier_pol.predict(x_test)\n",
    "testing_data_accuracy =accuracy_score(prediction,y_test)\n",
    "print(\"Accuracy score of testing data:\",testing_data_accuracy*100)"
   ]
  },
  {
   "cell_type": "code",
   "execution_count": 31,
   "id": "333fe118-9c3e-4fab-9cf6-891d55044978",
   "metadata": {},
   "outputs": [
    {
     "name": "stdout",
     "output_type": "stream",
     "text": [
      "Precision: 1.0\n",
      "Recall: 0.05555555555555555\n",
      "F1-Score: 0.10526315789473684\n"
     ]
    }
   ],
   "source": [
    "precision = precision_score(y_test, prediction)\n",
    "recall = recall_score(y_test, prediction)\n",
    "f1 = f1_score(y_test, prediction)\n",
    "\n",
    "print(\"Precision:\", precision)\n",
    "print(\"Recall:\", recall)\n",
    "print(\"F1-Score:\", f1)"
   ]
  },
  {
   "cell_type": "markdown",
   "id": "6e7ecf94-ad7b-4bb9-8cc4-8cace715c73e",
   "metadata": {},
   "source": [
    "### Model Generation SVM - Radial Basis Funct"
   ]
  },
  {
   "cell_type": "code",
   "execution_count": 32,
   "id": "884bebb2-9671-4907-bd40-a1a397920fe5",
   "metadata": {},
   "outputs": [
    {
     "data": {
      "text/plain": [
       "SVC()"
      ]
     },
     "execution_count": 32,
     "metadata": {},
     "output_type": "execute_result"
    }
   ],
   "source": [
    "classifier_rbf=svm.SVC(kernel='rbf')\n",
    "classifier_rbf.fit(x_train,y_train)"
   ]
  },
  {
   "cell_type": "markdown",
   "id": "26a3d4d1-7706-4aa0-8527-662bcad2b28c",
   "metadata": {},
   "source": [
    "### Model Evaluation - Radial Basis Funct"
   ]
  },
  {
   "cell_type": "code",
   "execution_count": 33,
   "id": "865f3734-e801-478c-a1e2-a89225f7209a",
   "metadata": {},
   "outputs": [
    {
     "name": "stdout",
     "output_type": "stream",
     "text": [
      "Accuracy score of testing data: 73.17073170731707\n"
     ]
    }
   ],
   "source": [
    "prediction=classifier_rbf.predict(x_test)\n",
    "testing_data_accuracy =accuracy_score(prediction,y_test)\n",
    "print(\"Accuracy score of testing data:\",testing_data_accuracy*100)"
   ]
  },
  {
   "cell_type": "code",
   "execution_count": 34,
   "id": "b8024427-0491-423e-a10b-2099789ecf41",
   "metadata": {},
   "outputs": [
    {
     "name": "stdout",
     "output_type": "stream",
     "text": [
      "Precision: 0.8181818181818182\n",
      "Recall: 0.5\n",
      "F1-Score: 0.6206896551724137\n"
     ]
    }
   ],
   "source": [
    "precision = precision_score(y_test, prediction)\n",
    "recall = recall_score(y_test, prediction)\n",
    "f1 = f1_score(y_test, prediction)\n",
    "\n",
    "print(\"Precision:\", precision)\n",
    "print(\"Recall:\", recall)\n",
    "print(\"F1-Score:\", f1)"
   ]
  },
  {
   "cell_type": "markdown",
   "id": "d25fbb06-371d-417f-b946-5dc99c613897",
   "metadata": {},
   "source": [
    "## Naive Bayes"
   ]
  },
  {
   "cell_type": "code",
   "execution_count": 35,
   "id": "10b1aa85-ab7d-44b6-8d7e-de3ffa835f9a",
   "metadata": {},
   "outputs": [
    {
     "data": {
      "text/plain": [
       "GaussianNB()"
      ]
     },
     "execution_count": 35,
     "metadata": {},
     "output_type": "execute_result"
    }
   ],
   "source": [
    "model = GaussianNB()\n",
    "model.fit(x_train, y_train)"
   ]
  },
  {
   "cell_type": "code",
   "execution_count": 36,
   "id": "d5825822-c862-4dbe-8a77-c0c90ecd38d8",
   "metadata": {},
   "outputs": [],
   "source": [
    "prediction_NB = model.predict(x_test)"
   ]
  },
  {
   "cell_type": "code",
   "execution_count": 37,
   "id": "8aa83d7d-17ba-434c-8b5f-8843f1f9c9f0",
   "metadata": {},
   "outputs": [
    {
     "name": "stdout",
     "output_type": "stream",
     "text": [
      "Accuracy score of testing data: 39.02439024390244\n"
     ]
    }
   ],
   "source": [
    "testing_data_accuracy =accuracy_score(prediction_NB,y_test)\n",
    "print(\"Accuracy score of testing data:\",testing_data_accuracy*100)"
   ]
  },
  {
   "cell_type": "code",
   "execution_count": 38,
   "id": "43426df9-5f79-400f-9e44-76e52594b8a5",
   "metadata": {},
   "outputs": [
    {
     "name": "stdout",
     "output_type": "stream",
     "text": [
      "Precision: 0.40540540540540543\n",
      "Recall: 0.8333333333333334\n",
      "F1-Score: 0.5454545454545455\n"
     ]
    }
   ],
   "source": [
    "precision = precision_score(y_test, prediction_NB)\n",
    "recall = recall_score(y_test, prediction_NB)\n",
    "f1 = f1_score(y_test, prediction_NB)\n",
    "\n",
    "print(\"Precision:\", precision)\n",
    "print(\"Recall:\", recall)\n",
    "print(\"F1-Score:\", f1)"
   ]
  },
  {
   "cell_type": "markdown",
   "id": "993c0dce-d692-448a-963b-55d337601ca3",
   "metadata": {},
   "source": [
    "### PCA"
   ]
  },
  {
   "cell_type": "code",
   "execution_count": 39,
   "id": "80a00de4-d015-4f87-8621-f834a17ad021",
   "metadata": {},
   "outputs": [],
   "source": [
    "pca = PCA()\n",
    "pca.fit(balanced_data)\n",
    "cumsum = np.cumsum(pca.explained_variance_ratio_)"
   ]
  },
  {
   "cell_type": "code",
   "execution_count": 40,
   "id": "92e0bc4e-535e-4bbc-bd44-fc2f2cf4a658",
   "metadata": {},
   "outputs": [
    {
     "data": {
      "text/plain": [
       "1"
      ]
     },
     "execution_count": 40,
     "metadata": {},
     "output_type": "execute_result"
    }
   ],
   "source": [
    "d = np.argmax(cumsum >= 0.95) + 1\n",
    "d"
   ]
  },
  {
   "cell_type": "code",
   "execution_count": 41,
   "id": "58563955-3c73-4c99-b797-7e65505f8c68",
   "metadata": {},
   "outputs": [
    {
     "data": {
      "text/plain": [
       "PCA(n_components=1)"
      ]
     },
     "execution_count": 41,
     "metadata": {},
     "output_type": "execute_result"
    }
   ],
   "source": [
    "pca = PCA(n_components=d)\n",
    "pca.fit(balanced_data)"
   ]
  },
  {
   "cell_type": "code",
   "execution_count": 42,
   "id": "6da72647-9f55-4d23-8bc2-7d31a63e4fd9",
   "metadata": {},
   "outputs": [],
   "source": [
    "# Get the indices of the top features for each component\n",
    "top_feature_indices = [component.argsort()[-1::-1][:1] for component in pca.components_]\n",
    "\n",
    "# Get the feature names for the top features of each component\n",
    "feature_names = list(balanced_data.columns[:-1])  \n",
    "top_features_names = []\n",
    "\n",
    "for indices in top_feature_indices:\n",
    "    top_feature_names = [feature_names[i] for i in indices]\n",
    "    top_features_names.append(top_feature_names)"
   ]
  },
  {
   "cell_type": "code",
   "execution_count": 43,
   "id": "d391eac3-6c25-492b-8026-c15c30fc93f7",
   "metadata": {},
   "outputs": [
    {
     "data": {
      "text/plain": [
       "[['charges']]"
      ]
     },
     "execution_count": 43,
     "metadata": {},
     "output_type": "execute_result"
    }
   ],
   "source": [
    "top_features_names"
   ]
  },
  {
   "cell_type": "code",
   "execution_count": 48,
   "id": "b63f4b96-c720-4b71-af8f-63864a0efb79",
   "metadata": {},
   "outputs": [],
   "source": [
    "numerical_columns = balanced_data.select_dtypes(include=[np.number]).columns\n",
    "numerical_data = balanced_data[numerical_columns]"
   ]
  },
  {
   "cell_type": "markdown",
   "id": "433d6c74-d333-4883-a77f-fee315f79aea",
   "metadata": {},
   "source": [
    "#### Standardize"
   ]
  },
  {
   "cell_type": "code",
   "execution_count": 49,
   "id": "264f5350-2a1c-4fed-ac97-f9c8117d1c43",
   "metadata": {},
   "outputs": [],
   "source": [
    "scaler = StandardScaler()\n",
    "numerical_data_std = scaler.fit_transform(numerical_data)"
   ]
  },
  {
   "cell_type": "code",
   "execution_count": 50,
   "id": "63c1e592-fdcc-4b24-b3ad-fcf5ddefc5f2",
   "metadata": {},
   "outputs": [
    {
     "data": {
      "text/plain": [
       "PCA()"
      ]
     },
     "execution_count": 50,
     "metadata": {},
     "output_type": "execute_result"
    }
   ],
   "source": [
    "pca = PCA()\n",
    "pca.fit(numerical_data_std)"
   ]
  },
  {
   "cell_type": "code",
   "execution_count": 51,
   "id": "97431682-eb9d-4d76-bfc9-5f0808dcec2b",
   "metadata": {},
   "outputs": [
    {
     "data": {
      "text/plain": [
       "33"
      ]
     },
     "execution_count": 51,
     "metadata": {},
     "output_type": "execute_result"
    }
   ],
   "source": [
    "cumsum = np.cumsum(pca.explained_variance_ratio_)\n",
    "d = np.argmax(cumsum >= 0.95) + 1\n",
    "d"
   ]
  },
  {
   "cell_type": "code",
   "execution_count": 52,
   "id": "b6943a9b-022c-4113-9631-5350d5f59e33",
   "metadata": {},
   "outputs": [
    {
     "data": {
      "text/plain": [
       "PCA(n_components=33)"
      ]
     },
     "execution_count": 52,
     "metadata": {},
     "output_type": "execute_result"
    }
   ],
   "source": [
    "pca = PCA(n_components=d)\n",
    "pca.fit(numerical_data_std)"
   ]
  },
  {
   "cell_type": "code",
   "execution_count": 53,
   "id": "d184270d-8f10-4e70-8550-a4c6da564831",
   "metadata": {},
   "outputs": [
    {
     "data": {
      "text/plain": [
       "[['dzclass_ARF/MOSF'],\n",
       " ['ca_metastatic'],\n",
       " ['adlsc'],\n",
       " ['sex_male'],\n",
       " ['dzclass_Coma'],\n",
       " ['crea'],\n",
       " ['charges'],\n",
       " ['dzgroup_Coma'],\n",
       " ['ca_no'],\n",
       " ['diabetes'],\n",
       " ['race_asian'],\n",
       " ['dzgroup_COPD'],\n",
       " ['income_$11-$25k'],\n",
       " ['dzgroup_Cirrhosis'],\n",
       " ['sod'],\n",
       " ['hrt'],\n",
       " ['glucose'],\n",
       " ['income_$25-$50k'],\n",
       " ['dzgroup_Cirrhosis'],\n",
       " ['urine'],\n",
       " ['pafi'],\n",
       " ['pafi'],\n",
       " ['dzgroup_Colon Cancer'],\n",
       " ['sod'],\n",
       " ['ph'],\n",
       " ['race_hispanic'],\n",
       " ['ph'],\n",
       " ['urine'],\n",
       " ['avtisst'],\n",
       " ['pafi'],\n",
       " ['hday'],\n",
       " ['meanbp'],\n",
       " ['avtisst']]"
      ]
     },
     "execution_count": 53,
     "metadata": {},
     "output_type": "execute_result"
    }
   ],
   "source": [
    "top_feature_indices = [component.argsort()[-1::-1][:1] for component in pca.components_]\n",
    "\n",
    "# Get the feature names for the top features of each component\n",
    "feature_names = list(numerical_data.columns)  \n",
    "top_features_names = []\n",
    "\n",
    "for indices in top_feature_indices:\n",
    "    top_feature_names = [feature_names[i] for i in indices]\n",
    "    top_features_names.append(top_feature_names)\n",
    "\n",
    "top_features_names"
   ]
  },
  {
   "cell_type": "markdown",
   "id": "a8e6d933-b88d-47d2-8a21-97d8f80f4197",
   "metadata": {},
   "source": [
    "### SVM"
   ]
  },
  {
   "cell_type": "code",
   "execution_count": 54,
   "id": "54e0624c-b248-449a-837d-0ca24e72f521",
   "metadata": {},
   "outputs": [
    {
     "name": "stderr",
     "output_type": "stream",
     "text": [
      "/Users/marlenearredondo/opt/anaconda3/lib/python3.9/site-packages/sklearn/base.py:443: UserWarning: X has feature names, but PCA was fitted without feature names\n",
      "  warnings.warn(\n"
     ]
    }
   ],
   "source": [
    "x_pca = pca.transform(balanced_data)"
   ]
  },
  {
   "cell_type": "code",
   "execution_count": 58,
   "id": "2a8d34a4-aa82-480c-90b2-ce0917ad5348",
   "metadata": {},
   "outputs": [],
   "source": [
    "x_train, x_test, y_train, y_test = train_test_split(x_pca, balanced_data['diabetes'], test_size=0.2)\n",
    "\n",
    "classifier = svm.SVC(kernel='linear')\n",
    "classifier.fit(x_train, y_train)\n",
    "\n",
    "y_pred = classifier.predict(x_test)"
   ]
  },
  {
   "cell_type": "code",
   "execution_count": 59,
   "id": "d48e7eb9-a0ab-483b-93d7-ea14c7c02171",
   "metadata": {},
   "outputs": [
    {
     "name": "stdout",
     "output_type": "stream",
     "text": [
      "Accuracy score of testing data: 63.63636363636363\n"
     ]
    }
   ],
   "source": [
    "testing_data_accuracy =accuracy_score(y_pred,y_test)\n",
    "print(\"Accuracy score of testing data:\",testing_data_accuracy*100)"
   ]
  },
  {
   "cell_type": "code",
   "execution_count": 60,
   "id": "6e43ec93-2567-43f9-bbec-c80b1471425b",
   "metadata": {},
   "outputs": [
    {
     "name": "stdout",
     "output_type": "stream",
     "text": [
      "Precision: 0.5\n",
      "Recall: 0.5833333333333334\n",
      "F1-Score: 0.5384615384615384\n"
     ]
    }
   ],
   "source": [
    "precision = precision_score(y_test, y_pred)\n",
    "recall = recall_score(y_test, y_pred)\n",
    "f1 = f1_score(y_test, y_pred)\n",
    "\n",
    "print(\"Precision:\", precision)\n",
    "print(\"Recall:\", recall)\n",
    "print(\"F1-Score:\", f1)"
   ]
  },
  {
   "cell_type": "markdown",
   "id": "d81c4a14-aa0a-4718-9049-1a761e68155c",
   "metadata": {},
   "source": [
    "### Naive Bayes"
   ]
  },
  {
   "cell_type": "code",
   "execution_count": 61,
   "id": "b1604205-4164-4333-853a-b1d5d2f5bd7a",
   "metadata": {},
   "outputs": [],
   "source": [
    "model = GaussianNB()\n",
    "model.fit(x_train, y_train)\n",
    "\n",
    "y_pred = model.predict(x_test)"
   ]
  },
  {
   "cell_type": "code",
   "execution_count": 62,
   "id": "3d376a00-06b5-4ef6-b568-73cd68a009d2",
   "metadata": {},
   "outputs": [
    {
     "name": "stdout",
     "output_type": "stream",
     "text": [
      "Accuracy score of testing data: 45.45454545454545\n"
     ]
    }
   ],
   "source": [
    "testing_data_accuracy =accuracy_score(y_pred,y_test)\n",
    "print(\"Accuracy score of testing data:\",testing_data_accuracy*100)"
   ]
  },
  {
   "cell_type": "code",
   "execution_count": 63,
   "id": "4b60e445-033b-40bc-bf8c-fe46574d64ad",
   "metadata": {},
   "outputs": [
    {
     "name": "stdout",
     "output_type": "stream",
     "text": [
      "Precision: 0.39285714285714285\n",
      "Recall: 0.9166666666666666\n",
      "F1-Score: 0.55\n"
     ]
    }
   ],
   "source": [
    "precision = precision_score(y_test, y_pred)\n",
    "recall = recall_score(y_test, y_pred)\n",
    "f1 = f1_score(y_test, y_pred)\n",
    "\n",
    "print(\"Precision:\", precision)\n",
    "print(\"Recall:\", recall)\n",
    "print(\"F1-Score:\", f1)"
   ]
  },
  {
   "cell_type": "code",
   "execution_count": null,
   "id": "13176584-7932-4c9e-901a-bdee6e9b674a",
   "metadata": {},
   "outputs": [],
   "source": []
  }
 ],
 "metadata": {
  "kernelspec": {
   "display_name": "Python 3 (ipykernel)",
   "language": "python",
   "name": "python3"
  },
  "language_info": {
   "codemirror_mode": {
    "name": "ipython",
    "version": 3
   },
   "file_extension": ".py",
   "mimetype": "text/x-python",
   "name": "python",
   "nbconvert_exporter": "python",
   "pygments_lexer": "ipython3",
   "version": "3.9.13"
  }
 },
 "nbformat": 4,
 "nbformat_minor": 5
}
