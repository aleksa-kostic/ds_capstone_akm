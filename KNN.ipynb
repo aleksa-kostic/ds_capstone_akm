{
 "cells": [
  {
   "cell_type": "code",
   "execution_count": 14,
   "id": "892fd2d4",
   "metadata": {},
   "outputs": [],
   "source": [
    "import numpy as np\n",
    "import pandas as pd\n",
    "from sklearn.model_selection import GridSearchCV\n",
    "from sklearn import datasets\n",
    "from sklearn.metrics import accuracy_score\n",
    "from sklearn.model_selection import train_test_split, cross_val_score\n",
    "from sklearn.neighbors import KNeighborsClassifier\n",
    "from sklearn.metrics import precision_score\n",
    "from sklearn.metrics import f1_score\n",
    "from datetime import datetime\n",
    "import matplotlib.pyplot as plt"
   ]
  },
  {
   "cell_type": "code",
   "execution_count": 15,
   "id": "9b72ed78",
   "metadata": {},
   "outputs": [
    {
     "data": {
      "text/html": [
       "<div>\n",
       "<style scoped>\n",
       "    .dataframe tbody tr th:only-of-type {\n",
       "        vertical-align: middle;\n",
       "    }\n",
       "\n",
       "    .dataframe tbody tr th {\n",
       "        vertical-align: top;\n",
       "    }\n",
       "\n",
       "    .dataframe thead th {\n",
       "        text-align: right;\n",
       "    }\n",
       "</style>\n",
       "<table border=\"1\" class=\"dataframe\">\n",
       "  <thead>\n",
       "    <tr style=\"text-align: right;\">\n",
       "      <th></th>\n",
       "      <th>HighBP</th>\n",
       "      <th>HighChol</th>\n",
       "      <th>CholCheck</th>\n",
       "      <th>BMI</th>\n",
       "      <th>Smoker</th>\n",
       "      <th>Stroke</th>\n",
       "      <th>HeartDiseaseorAttack</th>\n",
       "      <th>PhysActivity</th>\n",
       "      <th>Fruits</th>\n",
       "      <th>Veggies</th>\n",
       "      <th>...</th>\n",
       "      <th>NoDocbcCost</th>\n",
       "      <th>GenHlth</th>\n",
       "      <th>MentHlth</th>\n",
       "      <th>PhysHlth</th>\n",
       "      <th>DiffWalk</th>\n",
       "      <th>Sex</th>\n",
       "      <th>Age</th>\n",
       "      <th>Education</th>\n",
       "      <th>Income</th>\n",
       "      <th>Diabetes_binary</th>\n",
       "    </tr>\n",
       "  </thead>\n",
       "  <tbody>\n",
       "    <tr>\n",
       "      <th>0</th>\n",
       "      <td>0</td>\n",
       "      <td>0</td>\n",
       "      <td>1</td>\n",
       "      <td>23</td>\n",
       "      <td>0</td>\n",
       "      <td>0</td>\n",
       "      <td>0</td>\n",
       "      <td>1</td>\n",
       "      <td>0</td>\n",
       "      <td>0</td>\n",
       "      <td>...</td>\n",
       "      <td>0</td>\n",
       "      <td>1</td>\n",
       "      <td>0</td>\n",
       "      <td>0</td>\n",
       "      <td>0</td>\n",
       "      <td>0</td>\n",
       "      <td>11</td>\n",
       "      <td>5</td>\n",
       "      <td>7</td>\n",
       "      <td>0</td>\n",
       "    </tr>\n",
       "    <tr>\n",
       "      <th>1</th>\n",
       "      <td>1</td>\n",
       "      <td>0</td>\n",
       "      <td>1</td>\n",
       "      <td>19</td>\n",
       "      <td>0</td>\n",
       "      <td>0</td>\n",
       "      <td>0</td>\n",
       "      <td>0</td>\n",
       "      <td>1</td>\n",
       "      <td>1</td>\n",
       "      <td>...</td>\n",
       "      <td>0</td>\n",
       "      <td>3</td>\n",
       "      <td>0</td>\n",
       "      <td>0</td>\n",
       "      <td>0</td>\n",
       "      <td>0</td>\n",
       "      <td>6</td>\n",
       "      <td>6</td>\n",
       "      <td>8</td>\n",
       "      <td>0</td>\n",
       "    </tr>\n",
       "    <tr>\n",
       "      <th>2</th>\n",
       "      <td>0</td>\n",
       "      <td>0</td>\n",
       "      <td>1</td>\n",
       "      <td>26</td>\n",
       "      <td>1</td>\n",
       "      <td>0</td>\n",
       "      <td>0</td>\n",
       "      <td>1</td>\n",
       "      <td>1</td>\n",
       "      <td>1</td>\n",
       "      <td>...</td>\n",
       "      <td>0</td>\n",
       "      <td>2</td>\n",
       "      <td>0</td>\n",
       "      <td>0</td>\n",
       "      <td>0</td>\n",
       "      <td>0</td>\n",
       "      <td>1</td>\n",
       "      <td>4</td>\n",
       "      <td>4</td>\n",
       "      <td>0</td>\n",
       "    </tr>\n",
       "    <tr>\n",
       "      <th>3</th>\n",
       "      <td>0</td>\n",
       "      <td>1</td>\n",
       "      <td>1</td>\n",
       "      <td>22</td>\n",
       "      <td>0</td>\n",
       "      <td>0</td>\n",
       "      <td>0</td>\n",
       "      <td>1</td>\n",
       "      <td>1</td>\n",
       "      <td>1</td>\n",
       "      <td>...</td>\n",
       "      <td>0</td>\n",
       "      <td>1</td>\n",
       "      <td>0</td>\n",
       "      <td>0</td>\n",
       "      <td>0</td>\n",
       "      <td>1</td>\n",
       "      <td>12</td>\n",
       "      <td>4</td>\n",
       "      <td>2</td>\n",
       "      <td>0</td>\n",
       "    </tr>\n",
       "    <tr>\n",
       "      <th>4</th>\n",
       "      <td>0</td>\n",
       "      <td>0</td>\n",
       "      <td>1</td>\n",
       "      <td>22</td>\n",
       "      <td>0</td>\n",
       "      <td>0</td>\n",
       "      <td>0</td>\n",
       "      <td>0</td>\n",
       "      <td>1</td>\n",
       "      <td>1</td>\n",
       "      <td>...</td>\n",
       "      <td>0</td>\n",
       "      <td>1</td>\n",
       "      <td>0</td>\n",
       "      <td>0</td>\n",
       "      <td>0</td>\n",
       "      <td>0</td>\n",
       "      <td>4</td>\n",
       "      <td>6</td>\n",
       "      <td>8</td>\n",
       "      <td>0</td>\n",
       "    </tr>\n",
       "    <tr>\n",
       "      <th>...</th>\n",
       "      <td>...</td>\n",
       "      <td>...</td>\n",
       "      <td>...</td>\n",
       "      <td>...</td>\n",
       "      <td>...</td>\n",
       "      <td>...</td>\n",
       "      <td>...</td>\n",
       "      <td>...</td>\n",
       "      <td>...</td>\n",
       "      <td>...</td>\n",
       "      <td>...</td>\n",
       "      <td>...</td>\n",
       "      <td>...</td>\n",
       "      <td>...</td>\n",
       "      <td>...</td>\n",
       "      <td>...</td>\n",
       "      <td>...</td>\n",
       "      <td>...</td>\n",
       "      <td>...</td>\n",
       "      <td>...</td>\n",
       "      <td>...</td>\n",
       "    </tr>\n",
       "    <tr>\n",
       "      <th>253659</th>\n",
       "      <td>0</td>\n",
       "      <td>1</td>\n",
       "      <td>1</td>\n",
       "      <td>37</td>\n",
       "      <td>0</td>\n",
       "      <td>0</td>\n",
       "      <td>0</td>\n",
       "      <td>0</td>\n",
       "      <td>0</td>\n",
       "      <td>1</td>\n",
       "      <td>...</td>\n",
       "      <td>0</td>\n",
       "      <td>4</td>\n",
       "      <td>0</td>\n",
       "      <td>0</td>\n",
       "      <td>0</td>\n",
       "      <td>0</td>\n",
       "      <td>6</td>\n",
       "      <td>4</td>\n",
       "      <td>1</td>\n",
       "      <td>1</td>\n",
       "    </tr>\n",
       "    <tr>\n",
       "      <th>253668</th>\n",
       "      <td>0</td>\n",
       "      <td>1</td>\n",
       "      <td>1</td>\n",
       "      <td>29</td>\n",
       "      <td>1</td>\n",
       "      <td>0</td>\n",
       "      <td>1</td>\n",
       "      <td>0</td>\n",
       "      <td>1</td>\n",
       "      <td>1</td>\n",
       "      <td>...</td>\n",
       "      <td>0</td>\n",
       "      <td>2</td>\n",
       "      <td>0</td>\n",
       "      <td>0</td>\n",
       "      <td>1</td>\n",
       "      <td>1</td>\n",
       "      <td>10</td>\n",
       "      <td>3</td>\n",
       "      <td>6</td>\n",
       "      <td>1</td>\n",
       "    </tr>\n",
       "    <tr>\n",
       "      <th>253670</th>\n",
       "      <td>1</td>\n",
       "      <td>1</td>\n",
       "      <td>1</td>\n",
       "      <td>25</td>\n",
       "      <td>0</td>\n",
       "      <td>0</td>\n",
       "      <td>1</td>\n",
       "      <td>0</td>\n",
       "      <td>1</td>\n",
       "      <td>0</td>\n",
       "      <td>...</td>\n",
       "      <td>0</td>\n",
       "      <td>5</td>\n",
       "      <td>15</td>\n",
       "      <td>0</td>\n",
       "      <td>1</td>\n",
       "      <td>0</td>\n",
       "      <td>13</td>\n",
       "      <td>6</td>\n",
       "      <td>4</td>\n",
       "      <td>1</td>\n",
       "    </tr>\n",
       "    <tr>\n",
       "      <th>253676</th>\n",
       "      <td>1</td>\n",
       "      <td>1</td>\n",
       "      <td>1</td>\n",
       "      <td>18</td>\n",
       "      <td>0</td>\n",
       "      <td>0</td>\n",
       "      <td>0</td>\n",
       "      <td>0</td>\n",
       "      <td>0</td>\n",
       "      <td>0</td>\n",
       "      <td>...</td>\n",
       "      <td>0</td>\n",
       "      <td>4</td>\n",
       "      <td>0</td>\n",
       "      <td>0</td>\n",
       "      <td>1</td>\n",
       "      <td>0</td>\n",
       "      <td>11</td>\n",
       "      <td>2</td>\n",
       "      <td>4</td>\n",
       "      <td>1</td>\n",
       "    </tr>\n",
       "    <tr>\n",
       "      <th>253679</th>\n",
       "      <td>1</td>\n",
       "      <td>1</td>\n",
       "      <td>1</td>\n",
       "      <td>25</td>\n",
       "      <td>0</td>\n",
       "      <td>0</td>\n",
       "      <td>1</td>\n",
       "      <td>1</td>\n",
       "      <td>1</td>\n",
       "      <td>0</td>\n",
       "      <td>...</td>\n",
       "      <td>0</td>\n",
       "      <td>2</td>\n",
       "      <td>0</td>\n",
       "      <td>0</td>\n",
       "      <td>0</td>\n",
       "      <td>0</td>\n",
       "      <td>9</td>\n",
       "      <td>6</td>\n",
       "      <td>2</td>\n",
       "      <td>1</td>\n",
       "    </tr>\n",
       "  </tbody>\n",
       "</table>\n",
       "<p>88365 rows × 22 columns</p>\n",
       "</div>"
      ],
      "text/plain": [
       "        HighBP  HighChol  CholCheck  BMI  Smoker  Stroke  \\\n",
       "0            0         0          1   23       0       0   \n",
       "1            1         0          1   19       0       0   \n",
       "2            0         0          1   26       1       0   \n",
       "3            0         1          1   22       0       0   \n",
       "4            0         0          1   22       0       0   \n",
       "...        ...       ...        ...  ...     ...     ...   \n",
       "253659       0         1          1   37       0       0   \n",
       "253668       0         1          1   29       1       0   \n",
       "253670       1         1          1   25       0       0   \n",
       "253676       1         1          1   18       0       0   \n",
       "253679       1         1          1   25       0       0   \n",
       "\n",
       "        HeartDiseaseorAttack  PhysActivity  Fruits  Veggies  ...  NoDocbcCost  \\\n",
       "0                          0             1       0        0  ...            0   \n",
       "1                          0             0       1        1  ...            0   \n",
       "2                          0             1       1        1  ...            0   \n",
       "3                          0             1       1        1  ...            0   \n",
       "4                          0             0       1        1  ...            0   \n",
       "...                      ...           ...     ...      ...  ...          ...   \n",
       "253659                     0             0       0        1  ...            0   \n",
       "253668                     1             0       1        1  ...            0   \n",
       "253670                     1             0       1        0  ...            0   \n",
       "253676                     0             0       0        0  ...            0   \n",
       "253679                     1             1       1        0  ...            0   \n",
       "\n",
       "        GenHlth  MentHlth  PhysHlth  DiffWalk  Sex  Age  Education  Income  \\\n",
       "0             1         0         0         0    0   11          5       7   \n",
       "1             3         0         0         0    0    6          6       8   \n",
       "2             2         0         0         0    0    1          4       4   \n",
       "3             1         0         0         0    1   12          4       2   \n",
       "4             1         0         0         0    0    4          6       8   \n",
       "...         ...       ...       ...       ...  ...  ...        ...     ...   \n",
       "253659        4         0         0         0    0    6          4       1   \n",
       "253668        2         0         0         1    1   10          3       6   \n",
       "253670        5        15         0         1    0   13          6       4   \n",
       "253676        4         0         0         1    0   11          2       4   \n",
       "253679        2         0         0         0    0    9          6       2   \n",
       "\n",
       "        Diabetes_binary  \n",
       "0                     0  \n",
       "1                     0  \n",
       "2                     0  \n",
       "3                     0  \n",
       "4                     0  \n",
       "...                 ...  \n",
       "253659                1  \n",
       "253668                1  \n",
       "253670                1  \n",
       "253676                1  \n",
       "253679                1  \n",
       "\n",
       "[88365 rows x 22 columns]"
      ]
     },
     "execution_count": 15,
     "metadata": {},
     "output_type": "execute_result"
    }
   ],
   "source": [
    "df = pd.read_csv('Preprocessed_data.csv', index_col = 0)\n",
    "df"
   ]
  },
  {
   "cell_type": "code",
   "execution_count": 16,
   "id": "8f518dc8",
   "metadata": {},
   "outputs": [],
   "source": [
    "X = df.iloc[:,0:-1]\n",
    "y = df.loc[:, 'Diabetes_binary']\n",
    "X_train, X_test, Y_train, Y_test = train_test_split(X, y, train_size=10000, shuffle=True, random_state = 1)"
   ]
  },
  {
   "cell_type": "code",
   "execution_count": 17,
   "id": "ffa773d7",
   "metadata": {},
   "outputs": [],
   "source": [
    "accuracy_list = []\n",
    "accuracy_metric_list = []\n",
    "accuracy_k_list = []\n",
    "precision_list = []\n",
    "precision_metric_list = []\n",
    "precision_k_list = []\n",
    "f1_list = []\n",
    "f1_metric_list = []\n",
    "f1_k_list = []"
   ]
  },
  {
   "cell_type": "code",
   "execution_count": 18,
   "id": "1612f944",
   "metadata": {},
   "outputs": [],
   "source": [
    "#k_range = [i for i in range(0,105)]\n",
    "#k_value = k_range[0::5]\n",
    "k_value = [i for i in range(1, 30)]"
   ]
  },
  {
   "cell_type": "markdown",
   "id": "084cce26",
   "metadata": {},
   "source": [
    "## Trial 1"
   ]
  },
  {
   "cell_type": "code",
   "execution_count": 19,
   "id": "c1d40c91",
   "metadata": {},
   "outputs": [],
   "source": [
    "start = datetime.now()"
   ]
  },
  {
   "cell_type": "code",
   "execution_count": null,
   "id": "b2a9b83a",
   "metadata": {
    "scrolled": true
   },
   "outputs": [],
   "source": [
    "acc = []\n",
    "f1 = []\n",
    "precision = []\n",
    "error_rate = []\n",
    "for i in k_value:\n",
    "    neigh = KNeighborsClassifier(n_neighbors = i)\n",
    "    parameters = {\"metric\":['euclidean' ,'manhattan','chebyshev','minkowski']}\n",
    "    search_results =  GridSearchCV(neigh, parameters)\n",
    "    search_results.fit(X_train, Y_train)\n",
    "    Y_Predicted = search_results.predict(X_test)\n",
    "    acc.append(search_results.score(X_test, Y_test))\n",
    "    f1.append(f1_score(Y_test, Y_Predicted))\n",
    "    precision.append(precision_score(Y_test, Y_Predicted))\n",
    "    error_rate.append(np.mean(Y_Predicted != Y_test))\n",
    "plt.figure(figsize=(15,10))\n",
    "plt.plot(k_value,error_rate, marker='o', markersize=9)"
   ]
  },
  {
   "cell_type": "code",
   "execution_count": null,
   "id": "1a5a2b2c",
   "metadata": {},
   "outputs": [],
   "source": [
    "# initialize our classifier\n",
    "parameters = {\"metric\":['euclidean' ,'manhattan','chebyshev','minkowski']}\n",
    "knn = KNeighborsClassifier(n_neighbors=k_value[acc.index(max(acc))])\n",
    "search_results =  GridSearchCV(knn, parameters)\n",
    "\n",
    "# fit the classifier with the training data\n",
    "search_results.fit(X_train, Y_train)"
   ]
  },
  {
   "cell_type": "code",
   "execution_count": null,
   "id": "7f66cc57",
   "metadata": {},
   "outputs": [],
   "source": [
    "#get best parameter for metric and print\n",
    "opt_metric = search_results.best_params_[\"metric\"]\n",
    "accuracy = search_results.score(X_test, Y_test)\n",
    "k_accuracy = k_value[acc.index(max(accuracy))]\n",
    "\n",
    "accuracy_list.append(accuracy)\n",
    "accuracy_metric_list.append(opt_metric)\n",
    "accuracy_k_list.append(k_accuracy)\n",
    "print(f'Accuracy for optimum classifier(metric={opt_metric}, kvalue= {k_accuracy}): {accuracy}')"
   ]
  },
  {
   "cell_type": "code",
   "execution_count": null,
   "id": "10510f14",
   "metadata": {},
   "outputs": [],
   "source": [
    "# initialize our classifier\n",
    "parameters = {\"metric\":['euclidean' ,'manhattan','chebyshev','minkowski']}\n",
    "knn = KNeighborsClassifier(n_neighbors=k_value[f1.index(max(f1))])\n",
    "search_results =  GridSearchCV(knn, parameters)\n",
    "\n",
    "# fit the classifier with the training data\n",
    "search_results.fit(X_train, Y_train)"
   ]
  },
  {
   "cell_type": "code",
   "execution_count": null,
   "id": "57d22b80",
   "metadata": {},
   "outputs": [],
   "source": [
    "#get best parameter for metric and print\n",
    "opt_f1_metric = search_results.best_params_[\"metric\"]\n",
    "Y_Predicted = search_results.predict(X_test)\n",
    "f1_Score = f1_score(Y_test,Y_Predicted)\n",
    "k_f1_score = k_value[f1.index(max(f1))]\n",
    "\n",
    "f1_list.append(f1_Score)\n",
    "f1_metric_list.append(opt_f1_metric)\n",
    "f1_k_list.append(k_f1_score)\n",
    "\n",
    "print(f'F1 Score for optimum classifier(metric={opt_f1_metric}, kvalue= {k_f1_score}): {f1_Score}')"
   ]
  },
  {
   "cell_type": "code",
   "execution_count": null,
   "id": "193cad5f",
   "metadata": {},
   "outputs": [],
   "source": [
    "# initialize our classifier\n",
    "parameters = {\"metric\":['euclidean' ,'manhattan','chebyshev','minkowski']}\n",
    "knn = KNeighborsClassifier(n_neighbors=k_value[precision.index(max(precision))])\n",
    "search_results =  GridSearchCV(knn, parameters)\n",
    "\n",
    "# fit the classifier with the training data\n",
    "search_results.fit(X_train, Y_train)"
   ]
  },
  {
   "cell_type": "code",
   "execution_count": null,
   "id": "8e322ec5",
   "metadata": {},
   "outputs": [],
   "source": [
    "#get best parameter for metric and print\n",
    "opt_precision_metric = search_results.best_params_[\"metric\"]\n",
    "Y_Predicted = search_results.predict(X_test)\n",
    "Precision_Score = precision_score(Y_test,Y_Predicted)\n",
    "k_precision = k_value[precision.index(max(precision))]\n",
    "\n",
    "precision_list.append(Precision_Score)\n",
    "precision_metric_list.append(opt_precision_metric)\n",
    "precision_k_list.append(k_precision)\n",
    "\n",
    "print(f'Precision Score for optimum classifier(metric={opt_precision_metric}, kvalue= {k_precision}): {Precision_Score}')"
   ]
  },
  {
   "cell_type": "markdown",
   "id": "a99b3f8a",
   "metadata": {},
   "source": [
    "## Trial 2"
   ]
  },
  {
   "cell_type": "code",
   "execution_count": null,
   "id": "64c4df15",
   "metadata": {},
   "outputs": [],
   "source": [
    "X_train, X_test, Y_train, Y_test = train_test_split(X, y, train_size=10000, shuffle=True, random_state = 2)"
   ]
  },
  {
   "cell_type": "code",
   "execution_count": null,
   "id": "8ef68d27",
   "metadata": {
    "scrolled": true
   },
   "outputs": [],
   "source": [
    "acc = []\n",
    "f1 = []\n",
    "precision = []\n",
    "error_rate = []\n",
    "for i in k_value:\n",
    "    neigh = KNeighborsClassifier(n_neighbors = i)\n",
    "    parameters = {\"metric\":['euclidean' ,'manhattan','chebyshev','minkowski']}\n",
    "    search_results =  GridSearchCV(neigh, parameters)\n",
    "    search_results.fit(X_train, Y_train)\n",
    "    Y_Predicted = search_results.predict(X_test)\n",
    "    acc.append(search_results.score(X_test, Y_test))\n",
    "    f1.append(f1_score(Y_test, Y_Predicted))\n",
    "    precision.append(precision_score(Y_test, Y_Predicted))\n",
    "    error_rate.append(np.mean(Y_Predicted != Y_test))\n",
    "plt.figure(figsize=(15,10))\n",
    "plt.plot(k_value,error_rate, marker='o', markersize=9)"
   ]
  },
  {
   "cell_type": "code",
   "execution_count": null,
   "id": "97dbdbf3",
   "metadata": {},
   "outputs": [],
   "source": [
    "# initialize our classifier\n",
    "parameters = {\"metric\":['euclidean' ,'manhattan','chebyshev','minkowski']}\n",
    "knn = KNeighborsClassifier(n_neighbors=k_value[acc.index(max(acc))])\n",
    "search_results =  GridSearchCV(knn, parameters)\n",
    "\n",
    "# fit the classifier with the training data\n",
    "search_results.fit(X_train, Y_train)"
   ]
  },
  {
   "cell_type": "code",
   "execution_count": null,
   "id": "2eaf14d1",
   "metadata": {},
   "outputs": [],
   "source": [
    "#get best parameter for metric and print\n",
    "opt_metric = search_results.best_params_[\"metric\"]\n",
    "accuracy = search_results.score(X_test, Y_test)\n",
    "k_accuracy = k_value[acc.index(max(accuracy))]\n",
    "\n",
    "accuracy_list.append(accuracy)\n",
    "accuracy_metric_list.append(opt_metric)\n",
    "accuracy_k_list.append(k_accuracy)\n",
    "print(f'Accuracy for optimum classifier(metric={opt_metric}, kvalue= {k_accuracy}): {accuracy}')"
   ]
  },
  {
   "cell_type": "code",
   "execution_count": null,
   "id": "eb021e73",
   "metadata": {},
   "outputs": [],
   "source": [
    "# initialize our classifier\n",
    "parameters = {\"metric\":['euclidean' ,'manhattan','chebyshev','minkowski']}\n",
    "knn = KNeighborsClassifier(n_neighbors=k_value[f1.index(max(f1))])\n",
    "search_results =  GridSearchCV(knn, parameters)\n",
    "\n",
    "# fit the classifier with the training data\n",
    "search_results.fit(X_train, Y_train)"
   ]
  },
  {
   "cell_type": "code",
   "execution_count": null,
   "id": "e996736d",
   "metadata": {},
   "outputs": [],
   "source": [
    "#get best parameter for metric and print\n",
    "opt_f1_metric = search_results.best_params_[\"metric\"]\n",
    "Y_Predicted = search_results.predict(X_test)\n",
    "f1_Score = f1_score(Y_test,Y_Predicted)\n",
    "k_f1_score = k_value[f1.index(max(f1))]\n",
    "\n",
    "f1_list.append(f1_Score)\n",
    "f1_metric_list.append(opt_f1_metric)\n",
    "f1_k_list.append(k_f1_score)\n",
    "\n",
    "print(f'F1 Score for optimum classifier(metric={opt_f1_metric}, kvalue= {k_f1_score}): {f1_Score}')"
   ]
  },
  {
   "cell_type": "code",
   "execution_count": null,
   "id": "f8f70ece",
   "metadata": {},
   "outputs": [],
   "source": [
    "# initialize our classifier\n",
    "parameters = {\"metric\":['euclidean' ,'manhattan','chebyshev','minkowski']}\n",
    "knn = KNeighborsClassifier(n_neighbors=k_value[precision.index(max(precision))])\n",
    "search_results =  GridSearchCV(knn, parameters)\n",
    "\n",
    "# fit the classifier with the training data\n",
    "search_results.fit(X_train, Y_train)"
   ]
  },
  {
   "cell_type": "code",
   "execution_count": null,
   "id": "c78fa967",
   "metadata": {},
   "outputs": [],
   "source": [
    "#get best parameter for metric and print\n",
    "opt_precision_metric = search_results.best_params_[\"metric\"]\n",
    "Y_Predicted = search_results.predict(X_test)\n",
    "Precision_Score = precision_score(Y_test,Y_Predicted)\n",
    "k_precision = k_value[precision.index(max(precision))]\n",
    "\n",
    "precision_list.append(Precision_Score)\n",
    "precision_metric_list.append(opt_precision_metric)\n",
    "precision_k_list.append(k_precision)\n",
    "\n",
    "print(f'Precision Score for optimum classifier(metric={opt_precision_metric}, kvalue= {k_precision}): {Precision_Score}')"
   ]
  },
  {
   "cell_type": "markdown",
   "id": "b897b6f8",
   "metadata": {},
   "source": [
    "## Trial 3"
   ]
  },
  {
   "cell_type": "code",
   "execution_count": null,
   "id": "935d16c1",
   "metadata": {},
   "outputs": [],
   "source": [
    "X_train, X_test, Y_train, Y_test = train_test_split(X, y, train_size=10000, shuffle=True, random_state = 3)"
   ]
  },
  {
   "cell_type": "code",
   "execution_count": null,
   "id": "fcdadeea",
   "metadata": {
    "scrolled": true
   },
   "outputs": [],
   "source": [
    "acc = []\n",
    "f1 = []\n",
    "precision = []\n",
    "error_rate = []\n",
    "for i in k_value:\n",
    "    neigh = KNeighborsClassifier(n_neighbors = i)\n",
    "    parameters = {\"metric\":['euclidean' ,'manhattan','chebyshev','minkowski']}\n",
    "    search_results =  GridSearchCV(neigh, parameters)\n",
    "    search_results.fit(X_train, Y_train)\n",
    "    Y_Predicted = search_results.predict(X_test)\n",
    "    acc.append(search_results.score(X_test, Y_test))\n",
    "    f1.append(f1_score(Y_test, Y_Predicted))\n",
    "    precision.append(precision_score(Y_test, Y_Predicted))\n",
    "    error_rate.append(np.mean(Y_Predicted != Y_test))\n",
    "plt.figure(figsize=(15,10))\n",
    "plt.plot(k_value,error_rate, marker='o', markersize=9)"
   ]
  },
  {
   "cell_type": "code",
   "execution_count": null,
   "id": "0c70fc43",
   "metadata": {},
   "outputs": [],
   "source": [
    "# initialize our classifier\n",
    "parameters = {\"metric\":['euclidean' ,'manhattan','chebyshev','minkowski']}\n",
    "knn = KNeighborsClassifier(n_neighbors=k_value[acc.index(max(acc))])\n",
    "search_results =  GridSearchCV(knn, parameters)\n",
    "\n",
    "# fit the classifier with the training data\n",
    "search_results.fit(X_train, Y_train)"
   ]
  },
  {
   "cell_type": "code",
   "execution_count": null,
   "id": "000f2100",
   "metadata": {},
   "outputs": [],
   "source": [
    "#get best parameter for metric and print\n",
    "opt_metric = search_results.best_params_[\"metric\"]\n",
    "accuracy = search_results.score(X_test, Y_test)\n",
    "k_accuracy = k_value[acc.index(max(accuracy))]\n",
    "\n",
    "accuracy_list.append(accuracy)\n",
    "accuracy_metric_list.append(opt_metric)\n",
    "accuracy_k_list.append(k_accuracy)\n",
    "print(f'Accuracy for optimum classifier(metric={opt_metric}, kvalue= {k_accuracy}): {accuracy}')"
   ]
  },
  {
   "cell_type": "code",
   "execution_count": null,
   "id": "b6fa4673",
   "metadata": {},
   "outputs": [],
   "source": [
    "# initialize our classifier\n",
    "parameters = {\"metric\":['euclidean' ,'manhattan','chebyshev','minkowski']}\n",
    "knn = KNeighborsClassifier(n_neighbors=k_value[f1.index(max(f1))])\n",
    "search_results =  GridSearchCV(knn, parameters)\n",
    "\n",
    "# fit the classifier with the training data\n",
    "search_results.fit(X_train, Y_train)"
   ]
  },
  {
   "cell_type": "code",
   "execution_count": null,
   "id": "1ec74cf2",
   "metadata": {},
   "outputs": [],
   "source": [
    "#get best parameter for metric and print\n",
    "opt_f1_metric = search_results.best_params_[\"metric\"]\n",
    "Y_Predicted = search_results.predict(X_test)\n",
    "f1_Score = f1_score(Y_test,Y_Predicted)\n",
    "k_f1_score = k_value[f1.index(max(f1))]\n",
    "\n",
    "f1_list.append(f1_Score)\n",
    "f1_metric_list.append(opt_f1_metric)\n",
    "f1_k_list.append(k_f1_score)\n",
    "\n",
    "print(f'F1 Score for optimum classifier(metric={opt_f1_metric}, kvalue= {k_f1_score}): {f1_Score}')"
   ]
  },
  {
   "cell_type": "code",
   "execution_count": null,
   "id": "d4190a28",
   "metadata": {},
   "outputs": [],
   "source": [
    "# initialize our classifier\n",
    "parameters = {\"metric\":['euclidean' ,'manhattan','chebyshev','minkowski']}\n",
    "knn = KNeighborsClassifier(n_neighbors=k_value[precision.index(max(precision))])\n",
    "search_results =  GridSearchCV(knn, parameters)\n",
    "\n",
    "# fit the classifier with the training data\n",
    "search_results.fit(X_train, Y_train)"
   ]
  },
  {
   "cell_type": "code",
   "execution_count": null,
   "id": "7fa788a6",
   "metadata": {},
   "outputs": [],
   "source": [
    "#get best parameter for metric and print\n",
    "opt_precision_metric = search_results.best_params_[\"metric\"]\n",
    "Y_Predicted = search_results.predict(X_test)\n",
    "Precision_Score = precision_score(Y_test,Y_Predicted)\n",
    "k_precision = k_value[precision.index(max(precision))]\n",
    "\n",
    "precision_list.append(Precision_Score)\n",
    "precision_metric_list.append(opt_precision_metric)\n",
    "precision_k_list.append(k_precision)\n",
    "\n",
    "print(f'Precision Score for optimum classifier(metric={opt_precision_metric}, kvalue= {k_precision}): {Precision_Score}')"
   ]
  },
  {
   "cell_type": "markdown",
   "id": "cf9e5aa0",
   "metadata": {},
   "source": [
    "## Trial 4"
   ]
  },
  {
   "cell_type": "code",
   "execution_count": null,
   "id": "be829594",
   "metadata": {},
   "outputs": [],
   "source": [
    "X_train, X_test, Y_train, Y_test = train_test_split(X, y, train_size=10000, shuffle=True, random_state = 4)"
   ]
  },
  {
   "cell_type": "code",
   "execution_count": null,
   "id": "bf20cc25",
   "metadata": {
    "scrolled": true
   },
   "outputs": [],
   "source": [
    "acc = []\n",
    "f1 = []\n",
    "precision = []\n",
    "error_rate = []\n",
    "for i in k_value:\n",
    "    neigh = KNeighborsClassifier(n_neighbors = i)\n",
    "    parameters = {\"metric\":['euclidean' ,'manhattan','chebyshev','minkowski']}\n",
    "    search_results =  GridSearchCV(neigh, parameters)\n",
    "    search_results.fit(X_train, Y_train)\n",
    "    Y_Predicted = search_results.predict(X_test)\n",
    "    acc.append(search_results.score(X_test, Y_test))\n",
    "    f1.append(f1_score(Y_test, Y_Predicted))\n",
    "    precision.append(precision_score(Y_test, Y_Predicted))\n",
    "    error_rate.append(np.mean(Y_Predicted != Y_test))\n",
    "plt.figure(figsize=(15,10))\n",
    "plt.plot(k_value,error_rate, marker='o', markersize=9)"
   ]
  },
  {
   "cell_type": "code",
   "execution_count": null,
   "id": "1e2e61f9",
   "metadata": {},
   "outputs": [],
   "source": [
    "# initialize our classifier\n",
    "parameters = {\"metric\":['euclidean' ,'manhattan','chebyshev','minkowski']}\n",
    "knn = KNeighborsClassifier(n_neighbors=k_value[acc.index(max(acc))])\n",
    "search_results =  GridSearchCV(knn, parameters)\n",
    "\n",
    "# fit the classifier with the training data\n",
    "search_results.fit(X_train, Y_train)"
   ]
  },
  {
   "cell_type": "code",
   "execution_count": null,
   "id": "4471e43f",
   "metadata": {},
   "outputs": [],
   "source": [
    "#get best parameter for metric and print\n",
    "opt_metric = search_results.best_params_[\"metric\"]\n",
    "accuracy = search_results.score(X_test, Y_test)\n",
    "k_accuracy = k_value[acc.index(max(accuracy))]\n",
    "\n",
    "accuracy_list.append(accuracy)\n",
    "accuracy_metric_list.append(opt_metric)\n",
    "accuracy_k_list.append(k_accuracy)\n",
    "print(f'Accuracy for optimum classifier(metric={opt_metric}, kvalue= {k_accuracy}): {accuracy}')"
   ]
  },
  {
   "cell_type": "code",
   "execution_count": null,
   "id": "72f5e33a",
   "metadata": {},
   "outputs": [],
   "source": [
    "# initialize our classifier\n",
    "parameters = {\"metric\":['euclidean' ,'manhattan','chebyshev','minkowski']}\n",
    "knn = KNeighborsClassifier(n_neighbors=k_value[f1.index(max(f1))])\n",
    "search_results =  GridSearchCV(knn, parameters)\n",
    "\n",
    "# fit the classifier with the training data\n",
    "search_results.fit(X_train, Y_train)"
   ]
  },
  {
   "cell_type": "code",
   "execution_count": null,
   "id": "0cd96a0c",
   "metadata": {},
   "outputs": [],
   "source": [
    "#get best parameter for metric and print\n",
    "opt_f1_metric = search_results.best_params_[\"metric\"]\n",
    "Y_Predicted = search_results.predict(X_test)\n",
    "f1_Score = f1_score(Y_test,Y_Predicted)\n",
    "k_f1_score = k_value[f1.index(max(f1))]\n",
    "\n",
    "f1_list.append(f1_Score)\n",
    "f1_metric_list.append(opt_f1_metric)\n",
    "f1_k_list.append(k_f1_score)\n",
    "\n",
    "print(f'F1 Score for optimum classifier(metric={opt_f1_metric}, kvalue= {k_f1_score}): {f1_Score}')"
   ]
  },
  {
   "cell_type": "code",
   "execution_count": null,
   "id": "b5a65773",
   "metadata": {},
   "outputs": [],
   "source": [
    "# initialize our classifier\n",
    "parameters = {\"metric\":['euclidean' ,'manhattan','chebyshev','minkowski']}\n",
    "knn = KNeighborsClassifier(n_neighbors=k_value[precision.index(max(precision))])\n",
    "search_results =  GridSearchCV(knn, parameters)\n",
    "\n",
    "# fit the classifier with the training data\n",
    "search_results.fit(X_train, Y_train)"
   ]
  },
  {
   "cell_type": "code",
   "execution_count": null,
   "id": "ea48af7b",
   "metadata": {},
   "outputs": [],
   "source": [
    "#get best parameter for metric and print\n",
    "opt_precision_metric = search_results.best_params_[\"metric\"]\n",
    "Y_Predicted = search_results.predict(X_test)\n",
    "Precision_Score = precision_score(Y_test,Y_Predicted)\n",
    "k_precision = k_value[precision.index(max(precision))]\n",
    "\n",
    "precision_list.append(Precision_Score)\n",
    "precision_metric_list.append(opt_precision_metric)\n",
    "precision_k_list.append(k_precision)\n",
    "\n",
    "print(f'Precision Score for optimum classifier(metric={opt_precision_metric}, kvalue= {k_precision}): {Precision_Score}')"
   ]
  },
  {
   "cell_type": "markdown",
   "id": "a6a23ec7",
   "metadata": {},
   "source": [
    "## Trial 5"
   ]
  },
  {
   "cell_type": "code",
   "execution_count": null,
   "id": "e688db9e",
   "metadata": {},
   "outputs": [],
   "source": [
    "X_train, X_test, Y_train, Y_test = train_test_split(X, y, train_size=10000, shuffle=True, random_state = 5)"
   ]
  },
  {
   "cell_type": "code",
   "execution_count": null,
   "id": "13087182",
   "metadata": {
    "scrolled": true
   },
   "outputs": [],
   "source": [
    "acc = []\n",
    "f1 = []\n",
    "precision = []\n",
    "error_rate = []\n",
    "for i in k_value:\n",
    "    neigh = KNeighborsClassifier(n_neighbors = i)\n",
    "    parameters = {\"metric\":['euclidean' ,'manhattan','chebyshev','minkowski']}\n",
    "    search_results =  GridSearchCV(neigh, parameters)\n",
    "    search_results.fit(X_train, Y_train)\n",
    "    Y_Predicted = search_results.predict(X_test)\n",
    "    acc.append(search_results.score(X_test, Y_test))\n",
    "    f1.append(f1_score(Y_test, Y_Predicted))\n",
    "    precision.append(precision_score(Y_test, Y_Predicted))\n",
    "    error_rate.append(np.mean(Y_Predicted != Y_test))\n",
    "plt.figure(figsize=(15,10))\n",
    "plt.plot(k_value,error_rate, marker='o', markersize=9)"
   ]
  },
  {
   "cell_type": "code",
   "execution_count": null,
   "id": "94feb8a7",
   "metadata": {},
   "outputs": [],
   "source": [
    "# initialize our classifier\n",
    "parameters = {\"metric\":['euclidean' ,'manhattan','chebyshev','minkowski']}\n",
    "knn = KNeighborsClassifier(n_neighbors=k_value[acc.index(max(acc))])\n",
    "search_results =  GridSearchCV(knn, parameters)\n",
    "\n",
    "# fit the classifier with the training data\n",
    "search_results.fit(X_train, Y_train)"
   ]
  },
  {
   "cell_type": "code",
   "execution_count": null,
   "id": "add357d3",
   "metadata": {},
   "outputs": [],
   "source": [
    "#get best parameter for metric and print\n",
    "opt_metric = search_results.best_params_[\"metric\"]\n",
    "accuracy = search_results.score(X_test, Y_test)\n",
    "k_accuracy = k_value[acc.index(max(accuracy))]\n",
    "\n",
    "accuracy_list.append(accuracy)\n",
    "accuracy_metric_list.append(opt_metric)\n",
    "accuracy_k_list.append(k_accuracy)\n",
    "print(f'Accuracy for optimum classifier(metric={opt_metric}, kvalue= {k_accuracy}): {accuracy}')"
   ]
  },
  {
   "cell_type": "code",
   "execution_count": null,
   "id": "dfc00d0b",
   "metadata": {},
   "outputs": [],
   "source": [
    "# initialize our classifier\n",
    "parameters = {\"metric\":['euclidean' ,'manhattan','chebyshev','minkowski']}\n",
    "knn = KNeighborsClassifier(n_neighbors=k_value[f1.index(max(f1))])\n",
    "search_results =  GridSearchCV(knn, parameters)\n",
    "\n",
    "# fit the classifier with the training data\n",
    "search_results.fit(X_train, Y_train)"
   ]
  },
  {
   "cell_type": "code",
   "execution_count": null,
   "id": "6dd22069",
   "metadata": {},
   "outputs": [],
   "source": [
    "#get best parameter for metric and print\n",
    "opt_f1_metric = search_results.best_params_[\"metric\"]\n",
    "Y_Predicted = search_results.predict(X_test)\n",
    "f1_Score = f1_score(Y_test,Y_Predicted)\n",
    "k_f1_score = k_value[f1.index(max(f1))]\n",
    "\n",
    "f1_list.append(f1_Score)\n",
    "f1_metric_list.append(opt_f1_metric)\n",
    "f1_k_list.append(k_f1_score)\n",
    "\n",
    "print(f'F1 Score for optimum classifier(metric={opt_f1_metric}, kvalue= {k_f1_score}): {f1_Score}')"
   ]
  },
  {
   "cell_type": "code",
   "execution_count": null,
   "id": "d9e18e25",
   "metadata": {},
   "outputs": [],
   "source": [
    "# initialize our classifier\n",
    "parameters = {\"metric\":['euclidean' ,'manhattan','chebyshev','minkowski']}\n",
    "knn = KNeighborsClassifier(n_neighbors=k_value[precision.index(max(precision))])\n",
    "search_results =  GridSearchCV(knn, parameters)\n",
    "\n",
    "# fit the classifier with the training data\n",
    "search_results.fit(X_train, Y_train)"
   ]
  },
  {
   "cell_type": "code",
   "execution_count": null,
   "id": "548b6b93",
   "metadata": {},
   "outputs": [],
   "source": [
    "#get best parameter for metric and print\n",
    "opt_precision_metric = search_results.best_params_[\"metric\"]\n",
    "Y_Predicted = search_results.predict(X_test)\n",
    "Precision_Score = precision_score(Y_test,Y_Predicted)\n",
    "k_precision = k_value[precision.index(max(precision))]\n",
    "\n",
    "precision_list.append(Precision_Score)\n",
    "precision_metric_list.append(opt_precision_metric)\n",
    "precision_k_list.append(k_precision)\n",
    "\n",
    "print(f'Precision Score for optimum classifier(metric={opt_precision_metric}, kvalue= {k_precision}): {Precision_Score}')"
   ]
  },
  {
   "cell_type": "markdown",
   "id": "8519d729",
   "metadata": {},
   "source": [
    "## Trial 6"
   ]
  },
  {
   "cell_type": "code",
   "execution_count": null,
   "id": "ee7d3e1e",
   "metadata": {},
   "outputs": [],
   "source": [
    "X_train, X_test, Y_train, Y_test = train_test_split(X, y, train_size=10000, shuffle=True, random_state = 6)"
   ]
  },
  {
   "cell_type": "code",
   "execution_count": null,
   "id": "d1115b44",
   "metadata": {
    "scrolled": true
   },
   "outputs": [],
   "source": [
    "acc = []\n",
    "f1 = []\n",
    "precision = []\n",
    "error_rate = []\n",
    "for i in k_value:\n",
    "    neigh = KNeighborsClassifier(n_neighbors = i)\n",
    "    parameters = {\"metric\":['euclidean' ,'manhattan','chebyshev','minkowski']}\n",
    "    search_results =  GridSearchCV(neigh, parameters)\n",
    "    search_results.fit(X_train, Y_train)\n",
    "    Y_Predicted = search_results.predict(X_test)\n",
    "    acc.append(search_results.score(X_test, Y_test))\n",
    "    f1.append(f1_score(Y_test, Y_Predicted))\n",
    "    precision.append(precision_score(Y_test, Y_Predicted))\n",
    "    error_rate.append(np.mean(Y_Predicted != Y_test))\n",
    "plt.figure(figsize=(15,10))\n",
    "plt.plot(k_value,error_rate, marker='o', markersize=9)"
   ]
  },
  {
   "cell_type": "code",
   "execution_count": null,
   "id": "88a0d0c5",
   "metadata": {},
   "outputs": [],
   "source": [
    "# initialize our classifier\n",
    "parameters = {\"metric\":['euclidean' ,'manhattan','chebyshev','minkowski']}\n",
    "knn = KNeighborsClassifier(n_neighbors=k_value[acc.index(max(acc))])\n",
    "search_results =  GridSearchCV(knn, parameters)\n",
    "\n",
    "# fit the classifier with the training data\n",
    "search_results.fit(X_train, Y_train)"
   ]
  },
  {
   "cell_type": "code",
   "execution_count": null,
   "id": "ee327b44",
   "metadata": {},
   "outputs": [],
   "source": [
    "#get best parameter for metric and print\n",
    "opt_metric = search_results.best_params_[\"metric\"]\n",
    "accuracy = search_results.score(X_test, Y_test)\n",
    "k_accuracy = k_value[acc.index(max(accuracy))]\n",
    "\n",
    "accuracy_list.append(accuracy)\n",
    "accuracy_metric_list.append(opt_metric)\n",
    "accuracy_k_list.append(k_accuracy)\n",
    "print(f'Accuracy for optimum classifier(metric={opt_metric}, kvalue= {k_accuracy}): {accuracy}')"
   ]
  },
  {
   "cell_type": "code",
   "execution_count": null,
   "id": "53eefc68",
   "metadata": {},
   "outputs": [],
   "source": [
    "# initialize our classifier\n",
    "parameters = {\"metric\":['euclidean' ,'manhattan','chebyshev','minkowski']}\n",
    "knn = KNeighborsClassifier(n_neighbors=k_value[f1.index(max(f1))])\n",
    "search_results =  GridSearchCV(knn, parameters)\n",
    "\n",
    "# fit the classifier with the training data\n",
    "search_results.fit(X_train, Y_train)"
   ]
  },
  {
   "cell_type": "code",
   "execution_count": null,
   "id": "9df185f0",
   "metadata": {},
   "outputs": [],
   "source": [
    "#get best parameter for metric and print\n",
    "opt_f1_metric = search_results.best_params_[\"metric\"]\n",
    "Y_Predicted = search_results.predict(X_test)\n",
    "f1_Score = f1_score(Y_test,Y_Predicted)\n",
    "k_f1_score = k_value[f1.index(max(f1))]\n",
    "\n",
    "f1_list.append(f1_Score)\n",
    "f1_metric_list.append(opt_f1_metric)\n",
    "f1_k_list.append(k_f1_score)\n",
    "\n",
    "print(f'F1 Score for optimum classifier(metric={opt_f1_metric}, kvalue= {k_f1_score}): {f1_Score}')"
   ]
  },
  {
   "cell_type": "code",
   "execution_count": null,
   "id": "d853fa5f",
   "metadata": {},
   "outputs": [],
   "source": [
    "# initialize our classifier\n",
    "parameters = {\"metric\":['euclidean' ,'manhattan','chebyshev','minkowski']}\n",
    "knn = KNeighborsClassifier(n_neighbors=k_value[precision.index(max(precision))])\n",
    "search_results =  GridSearchCV(knn, parameters)\n",
    "\n",
    "# fit the classifier with the training data\n",
    "search_results.fit(X_train, Y_train)"
   ]
  },
  {
   "cell_type": "code",
   "execution_count": null,
   "id": "0de6e4e0",
   "metadata": {},
   "outputs": [],
   "source": [
    "#get best parameter for metric and print\n",
    "opt_precision_metric = search_results.best_params_[\"metric\"]\n",
    "Y_Predicted = search_results.predict(X_test)\n",
    "Precision_Score = precision_score(Y_test,Y_Predicted)\n",
    "k_precision = k_value[precision.index(max(precision))]\n",
    "\n",
    "precision_list.append(Precision_Score)\n",
    "precision_metric_list.append(opt_precision_metric)\n",
    "precision_k_list.append(k_precision)\n",
    "\n",
    "print(f'Precision Score for optimum classifier(metric={opt_precision_metric}, kvalue= {k_precision}): {Precision_Score}')"
   ]
  },
  {
   "cell_type": "markdown",
   "id": "4545f23f",
   "metadata": {},
   "source": [
    "## Trial 7"
   ]
  },
  {
   "cell_type": "code",
   "execution_count": null,
   "id": "3540bbee",
   "metadata": {},
   "outputs": [],
   "source": [
    "X_train, X_test, Y_train, Y_test = train_test_split(X, y, train_size=10000, shuffle=True, random_state = 7)"
   ]
  },
  {
   "cell_type": "code",
   "execution_count": null,
   "id": "5f469e74",
   "metadata": {
    "scrolled": true
   },
   "outputs": [],
   "source": [
    "acc = []\n",
    "f1 = []\n",
    "precision = []\n",
    "error_rate = []\n",
    "for i in k_value:\n",
    "    neigh = KNeighborsClassifier(n_neighbors = i)\n",
    "    parameters = {\"metric\":['euclidean' ,'manhattan','chebyshev','minkowski']}\n",
    "    search_results =  GridSearchCV(neigh, parameters)\n",
    "    search_results.fit(X_train, Y_train)\n",
    "    Y_Predicted = search_results.predict(X_test)\n",
    "    acc.append(search_results.score(X_test, Y_test))\n",
    "    f1.append(f1_score(Y_test, Y_Predicted))\n",
    "    precision.append(precision_score(Y_test, Y_Predicted))\n",
    "    error_rate.append(np.mean(Y_Predicted != Y_test))\n",
    "plt.figure(figsize=(15,10))\n",
    "plt.plot(k_value,error_rate, marker='o', markersize=9)"
   ]
  },
  {
   "cell_type": "code",
   "execution_count": null,
   "id": "decb4956",
   "metadata": {},
   "outputs": [],
   "source": [
    "# initialize our classifier\n",
    "parameters = {\"metric\":['euclidean' ,'manhattan','chebyshev','minkowski']}\n",
    "knn = KNeighborsClassifier(n_neighbors=k_value[acc.index(max(acc))])\n",
    "search_results =  GridSearchCV(knn, parameters)\n",
    "\n",
    "# fit the classifier with the training data\n",
    "search_results.fit(X_train, Y_train)"
   ]
  },
  {
   "cell_type": "code",
   "execution_count": null,
   "id": "a623754a",
   "metadata": {},
   "outputs": [],
   "source": [
    "#get best parameter for metric and print\n",
    "opt_metric = search_results.best_params_[\"metric\"]\n",
    "accuracy = search_results.score(X_test, Y_test)\n",
    "k_accuracy = k_value[acc.index(max(accuracy))]\n",
    "\n",
    "accuracy_list.append(accuracy)\n",
    "accuracy_metric_list.append(opt_metric)\n",
    "accuracy_k_list.append(k_accuracy)\n",
    "print(f'Accuracy for optimum classifier(metric={opt_metric}, kvalue= {k_accuracy}): {accuracy}')"
   ]
  },
  {
   "cell_type": "code",
   "execution_count": null,
   "id": "95287cb2",
   "metadata": {},
   "outputs": [],
   "source": [
    "# initialize our classifier\n",
    "parameters = {\"metric\":['euclidean' ,'manhattan','chebyshev','minkowski']}\n",
    "knn = KNeighborsClassifier(n_neighbors=k_value[f1.index(max(f1))])\n",
    "search_results =  GridSearchCV(knn, parameters)\n",
    "\n",
    "# fit the classifier with the training data\n",
    "search_results.fit(X_train, Y_train)"
   ]
  },
  {
   "cell_type": "code",
   "execution_count": null,
   "id": "38bb73b3",
   "metadata": {},
   "outputs": [],
   "source": [
    "#get best parameter for metric and print\n",
    "opt_f1_metric = search_results.best_params_[\"metric\"]\n",
    "Y_Predicted = search_results.predict(X_test)\n",
    "f1_Score = f1_score(Y_test,Y_Predicted)\n",
    "k_f1_score = k_value[f1.index(max(f1))]\n",
    "\n",
    "f1_list.append(f1_Score)\n",
    "f1_metric_list.append(opt_f1_metric)\n",
    "f1_k_list.append(k_f1_score)\n",
    "\n",
    "print(f'F1 Score for optimum classifier(metric={opt_f1_metric}, kvalue= {k_f1_score}): {f1_Score}')"
   ]
  },
  {
   "cell_type": "code",
   "execution_count": null,
   "id": "8020a976",
   "metadata": {},
   "outputs": [],
   "source": [
    "# initialize our classifier\n",
    "parameters = {\"metric\":['euclidean' ,'manhattan','chebyshev','minkowski']}\n",
    "knn = KNeighborsClassifier(n_neighbors=k_value[precision.index(max(precision))])\n",
    "search_results =  GridSearchCV(knn, parameters)\n",
    "\n",
    "# fit the classifier with the training data\n",
    "search_results.fit(X_train, Y_train)"
   ]
  },
  {
   "cell_type": "code",
   "execution_count": null,
   "id": "42357324",
   "metadata": {},
   "outputs": [],
   "source": [
    "#get best parameter for metric and print\n",
    "opt_precision_metric = search_results.best_params_[\"metric\"]\n",
    "Y_Predicted = search_results.predict(X_test)\n",
    "Precision_Score = precision_score(Y_test,Y_Predicted)\n",
    "k_precision = k_value[precision.index(max(precision))]\n",
    "\n",
    "precision_list.append(Precision_Score)\n",
    "precision_metric_list.append(opt_precision_metric)\n",
    "precision_k_list.append(k_precision)\n",
    "\n",
    "print(f'Precision Score for optimum classifier(metric={opt_precision_metric}, kvalue= {k_precision}): {Precision_Score}')"
   ]
  },
  {
   "cell_type": "markdown",
   "id": "4116a2eb",
   "metadata": {},
   "source": [
    "## Trial 8"
   ]
  },
  {
   "cell_type": "code",
   "execution_count": null,
   "id": "146e1eb6",
   "metadata": {},
   "outputs": [],
   "source": [
    "X_train, X_test, Y_train, Y_test = train_test_split(X, y, train_size=10000, shuffle=True, random_state = 8)"
   ]
  },
  {
   "cell_type": "code",
   "execution_count": null,
   "id": "d76f86be",
   "metadata": {
    "scrolled": true
   },
   "outputs": [],
   "source": [
    "acc = []\n",
    "f1 = []\n",
    "precision = []\n",
    "error_rate = []\n",
    "for i in k_value:\n",
    "    neigh = KNeighborsClassifier(n_neighbors = i)\n",
    "    parameters = {\"metric\":['euclidean' ,'manhattan','chebyshev','minkowski']}\n",
    "    search_results =  GridSearchCV(neigh, parameters)\n",
    "    search_results.fit(X_train, Y_train)\n",
    "    Y_Predicted = search_results.predict(X_test)\n",
    "    acc.append(search_results.score(X_test, Y_test))\n",
    "    f1.append(f1_score(Y_test, Y_Predicted))\n",
    "    precision.append(precision_score(Y_test, Y_Predicted))\n",
    "    error_rate.append(np.mean(Y_Predicted != Y_test))\n",
    "plt.figure(figsize=(15,10))\n",
    "plt.plot(k_value,error_rate, marker='o', markersize=9)"
   ]
  },
  {
   "cell_type": "code",
   "execution_count": null,
   "id": "45b69e74",
   "metadata": {},
   "outputs": [],
   "source": [
    "# initialize our classifier\n",
    "parameters = {\"metric\":['euclidean' ,'manhattan','chebyshev','minkowski']}\n",
    "knn = KNeighborsClassifier(n_neighbors=k_value[acc.index(max(acc))])\n",
    "search_results =  GridSearchCV(knn, parameters)\n",
    "\n",
    "# fit the classifier with the training data\n",
    "search_results.fit(X_train, Y_train)"
   ]
  },
  {
   "cell_type": "code",
   "execution_count": null,
   "id": "2c6d477d",
   "metadata": {},
   "outputs": [],
   "source": [
    "#get best parameter for metric and print\n",
    "opt_metric = search_results.best_params_[\"metric\"]\n",
    "accuracy = search_results.score(X_test, Y_test)\n",
    "k_accuracy = k_value[acc.index(max(accuracy))]\n",
    "\n",
    "accuracy_list.append(accuracy)\n",
    "accuracy_metric_list.append(opt_metric)\n",
    "accuracy_k_list.append(k_accuracy)\n",
    "print(f'Accuracy for optimum classifier(metric={opt_metric}, kvalue= {k_accuracy}): {accuracy}')"
   ]
  },
  {
   "cell_type": "code",
   "execution_count": null,
   "id": "fc10ba66",
   "metadata": {},
   "outputs": [],
   "source": [
    "# initialize our classifier\n",
    "parameters = {\"metric\":['euclidean' ,'manhattan','chebyshev','minkowski']}\n",
    "knn = KNeighborsClassifier(n_neighbors=k_value[f1.index(max(f1))])\n",
    "search_results =  GridSearchCV(knn, parameters)\n",
    "\n",
    "# fit the classifier with the training data\n",
    "search_results.fit(X_train, Y_train)"
   ]
  },
  {
   "cell_type": "code",
   "execution_count": null,
   "id": "a565640e",
   "metadata": {},
   "outputs": [],
   "source": [
    "#get best parameter for metric and print\n",
    "opt_f1_metric = search_results.best_params_[\"metric\"]\n",
    "Y_Predicted = search_results.predict(X_test)\n",
    "f1_Score = f1_score(Y_test,Y_Predicted)\n",
    "k_f1_score = k_value[f1.index(max(f1))]\n",
    "\n",
    "f1_list.append(f1_Score)\n",
    "f1_metric_list.append(opt_f1_metric)\n",
    "f1_k_list.append(k_f1_score)\n",
    "\n",
    "print(f'F1 Score for optimum classifier(metric={opt_f1_metric}, kvalue= {k_f1_score}): {f1_Score}')"
   ]
  },
  {
   "cell_type": "code",
   "execution_count": null,
   "id": "23bb035c",
   "metadata": {},
   "outputs": [],
   "source": [
    "# initialize our classifier\n",
    "parameters = {\"metric\":['euclidean' ,'manhattan','chebyshev','minkowski']}\n",
    "knn = KNeighborsClassifier(n_neighbors=k_value[precision.index(max(precision))])\n",
    "search_results =  GridSearchCV(knn, parameters)\n",
    "\n",
    "# fit the classifier with the training data\n",
    "search_results.fit(X_train, Y_train)"
   ]
  },
  {
   "cell_type": "code",
   "execution_count": null,
   "id": "42322df1",
   "metadata": {},
   "outputs": [],
   "source": [
    "#get best parameter for metric and print\n",
    "opt_precision_metric = search_results.best_params_[\"metric\"]\n",
    "Y_Predicted = search_results.predict(X_test)\n",
    "Precision_Score = precision_score(Y_test,Y_Predicted)\n",
    "k_precision = k_value[precision.index(max(precision))]\n",
    "\n",
    "precision_list.append(Precision_Score)\n",
    "precision_metric_list.append(opt_precision_metric)\n",
    "precision_k_list.append(k_precision)\n",
    "\n",
    "print(f'Precision Score for optimum classifier(metric={opt_precision_metric}, kvalue= {k_precision}): {Precision_Score}')"
   ]
  },
  {
   "cell_type": "markdown",
   "id": "7ac8a343",
   "metadata": {},
   "source": [
    "## Trial 9"
   ]
  },
  {
   "cell_type": "code",
   "execution_count": null,
   "id": "bc28a0e5",
   "metadata": {},
   "outputs": [],
   "source": [
    "X_train, X_test, Y_train, Y_test = train_test_split(X, y, train_size=10000, shuffle=True, random_state = 9)"
   ]
  },
  {
   "cell_type": "code",
   "execution_count": null,
   "id": "d4e9252c",
   "metadata": {
    "scrolled": true
   },
   "outputs": [],
   "source": [
    "acc = []\n",
    "f1 = []\n",
    "precision = []\n",
    "error_rate = []\n",
    "for i in k_value:\n",
    "    neigh = KNeighborsClassifier(n_neighbors = i)\n",
    "    parameters = {\"metric\":['euclidean' ,'manhattan','chebyshev','minkowski']}\n",
    "    search_results =  GridSearchCV(neigh, parameters)\n",
    "    search_results.fit(X_train, Y_train)\n",
    "    Y_Predicted = search_results.predict(X_test)\n",
    "    acc.append(search_results.score(X_test, Y_test))\n",
    "    f1.append(f1_score(Y_test, Y_Predicted))\n",
    "    precision.append(precision_score(Y_test, Y_Predicted))\n",
    "    error_rate.append(np.mean(Y_Predicted != Y_test))\n",
    "plt.figure(figsize=(15,10))\n",
    "plt.plot(k_value,error_rate, marker='o', markersize=9)"
   ]
  },
  {
   "cell_type": "code",
   "execution_count": null,
   "id": "02ff2bf5",
   "metadata": {},
   "outputs": [],
   "source": [
    "# initialize our classifier\n",
    "parameters = {\"metric\":['euclidean' ,'manhattan','chebyshev','minkowski']}\n",
    "knn = KNeighborsClassifier(n_neighbors=k_value[acc.index(max(acc))])\n",
    "search_results =  GridSearchCV(knn, parameters)\n",
    "\n",
    "# fit the classifier with the training data\n",
    "search_results.fit(X_train, Y_train)"
   ]
  },
  {
   "cell_type": "code",
   "execution_count": null,
   "id": "4a183f25",
   "metadata": {},
   "outputs": [],
   "source": [
    "#get best parameter for metric and print\n",
    "opt_metric = search_results.best_params_[\"metric\"]\n",
    "accuracy = search_results.score(X_test, Y_test)\n",
    "k_accuracy = k_value[acc.index(max(accuracy))]\n",
    "\n",
    "accuracy_list.append(accuracy)\n",
    "accuracy_metric_list.append(opt_metric)\n",
    "accuracy_k_list.append(k_accuracy)\n",
    "print(f'Accuracy for optimum classifier(metric={opt_metric}, kvalue= {k_accuracy}): {accuracy}')"
   ]
  },
  {
   "cell_type": "code",
   "execution_count": null,
   "id": "900b2e91",
   "metadata": {},
   "outputs": [],
   "source": [
    "# initialize our classifier\n",
    "parameters = {\"metric\":['euclidean' ,'manhattan','chebyshev','minkowski']}\n",
    "knn = KNeighborsClassifier(n_neighbors=k_value[f1.index(max(f1))])\n",
    "search_results =  GridSearchCV(knn, parameters)\n",
    "\n",
    "# fit the classifier with the training data\n",
    "search_results.fit(X_train, Y_train)"
   ]
  },
  {
   "cell_type": "code",
   "execution_count": null,
   "id": "4c32fe37",
   "metadata": {},
   "outputs": [],
   "source": [
    "#get best parameter for metric and print\n",
    "opt_f1_metric = search_results.best_params_[\"metric\"]\n",
    "Y_Predicted = search_results.predict(X_test)\n",
    "f1_Score = f1_score(Y_test,Y_Predicted)\n",
    "k_f1_score = k_value[f1.index(max(f1))]\n",
    "\n",
    "f1_list.append(f1_Score)\n",
    "f1_metric_list.append(opt_f1_metric)\n",
    "f1_k_list.append(k_f1_score)\n",
    "\n",
    "print(f'F1 Score for optimum classifier(metric={opt_f1_metric}, kvalue= {k_f1_score}): {f1_Score}')"
   ]
  },
  {
   "cell_type": "code",
   "execution_count": null,
   "id": "75b29430",
   "metadata": {},
   "outputs": [],
   "source": [
    "# initialize our classifier\n",
    "parameters = {\"metric\":['euclidean' ,'manhattan','chebyshev','minkowski']}\n",
    "knn = KNeighborsClassifier(n_neighbors=k_value[precision.index(max(precision))])\n",
    "search_results =  GridSearchCV(knn, parameters)\n",
    "\n",
    "# fit the classifier with the training data\n",
    "search_results.fit(X_train, Y_train)"
   ]
  },
  {
   "cell_type": "code",
   "execution_count": null,
   "id": "d4b837c1",
   "metadata": {},
   "outputs": [],
   "source": [
    "#get best parameter for metric and print\n",
    "opt_precision_metric = search_results.best_params_[\"metric\"]\n",
    "Y_Predicted = search_results.predict(X_test)\n",
    "Precision_Score = precision_score(Y_test,Y_Predicted)\n",
    "k_precision = k_value[precision.index(max(precision))]\n",
    "\n",
    "precision_list.append(Precision_Score)\n",
    "precision_metric_list.append(opt_precision_metric)\n",
    "precision_k_list.append(k_precision)\n",
    "\n",
    "print(f'Precision Score for optimum classifier(metric={opt_precision_metric}, kvalue= {k_precision}): {Precision_Score}')"
   ]
  },
  {
   "cell_type": "markdown",
   "id": "63a2e963",
   "metadata": {},
   "source": [
    "## Trial 10"
   ]
  },
  {
   "cell_type": "code",
   "execution_count": null,
   "id": "9abcec16",
   "metadata": {},
   "outputs": [],
   "source": [
    "X_train, X_test, Y_train, Y_test = train_test_split(X, y, train_size=10000, shuffle=True, random_state = 10)"
   ]
  },
  {
   "cell_type": "code",
   "execution_count": null,
   "id": "ed3db049",
   "metadata": {
    "scrolled": true
   },
   "outputs": [],
   "source": [
    "acc = []\n",
    "f1 = []\n",
    "precision = []\n",
    "error_rate = []\n",
    "for i in k_value:\n",
    "    neigh = KNeighborsClassifier(n_neighbors = i)\n",
    "    parameters = {\"metric\":['euclidean' ,'manhattan','chebyshev','minkowski']}\n",
    "    search_results =  GridSearchCV(neigh, parameters)\n",
    "    search_results.fit(X_train, Y_train)\n",
    "    Y_Predicted = search_results.predict(X_test)\n",
    "    acc.append(search_results.score(X_test, Y_test))\n",
    "    f1.append(f1_score(Y_test, Y_Predicted))\n",
    "    precision.append(precision_score(Y_test, Y_Predicted))\n",
    "    error_rate.append(np.mean(Y_Predicted != Y_test))\n",
    "plt.figure(figsize=(15,10))\n",
    "plt.plot(k_value,error_rate, marker='o', markersize=9)"
   ]
  },
  {
   "cell_type": "code",
   "execution_count": null,
   "id": "524b2233",
   "metadata": {},
   "outputs": [],
   "source": [
    "# initialize our classifier\n",
    "parameters = {\"metric\":['euclidean' ,'manhattan','chebyshev','minkowski']}\n",
    "knn = KNeighborsClassifier(n_neighbors=k_value[acc.index(max(acc))])\n",
    "search_results =  GridSearchCV(knn, parameters)\n",
    "\n",
    "# fit the classifier with the training data\n",
    "search_results.fit(X_train, Y_train)"
   ]
  },
  {
   "cell_type": "code",
   "execution_count": null,
   "id": "2a5b17e5",
   "metadata": {},
   "outputs": [],
   "source": [
    "#get best parameter for metric and print\n",
    "opt_metric = search_results.best_params_[\"metric\"]\n",
    "accuracy = search_results.score(X_test, Y_test)\n",
    "k_accuracy = k_value[acc.index(max(accuracy))]\n",
    "\n",
    "accuracy_list.append(accuracy)\n",
    "accuracy_metric_list.append(opt_metric)\n",
    "accuracy_k_list.append(k_accuracy)\n",
    "print(f'Accuracy for optimum classifier(metric={opt_metric}, kvalue= {k_accuracy}): {accuracy}')"
   ]
  },
  {
   "cell_type": "code",
   "execution_count": null,
   "id": "1a53f06d",
   "metadata": {},
   "outputs": [],
   "source": [
    "# initialize our classifier\n",
    "parameters = {\"metric\":['euclidean' ,'manhattan','chebyshev','minkowski']}\n",
    "knn = KNeighborsClassifier(n_neighbors=k_value[f1.index(max(f1))])\n",
    "search_results =  GridSearchCV(knn, parameters)\n",
    "\n",
    "# fit the classifier with the training data\n",
    "search_results.fit(X_train, Y_train)"
   ]
  },
  {
   "cell_type": "code",
   "execution_count": null,
   "id": "90337d68",
   "metadata": {},
   "outputs": [],
   "source": [
    "#get best parameter for metric and print\n",
    "opt_f1_metric = search_results.best_params_[\"metric\"]\n",
    "Y_Predicted = search_results.predict(X_test)\n",
    "f1_Score = f1_score(Y_test,Y_Predicted)\n",
    "k_f1_score = k_value[f1.index(max(f1))]\n",
    "\n",
    "f1_list.append(f1_Score)\n",
    "f1_metric_list.append(opt_f1_metric)\n",
    "f1_k_list.append(k_f1_score)\n",
    "\n",
    "print(f'F1 Score for optimum classifier(metric={opt_f1_metric}, kvalue= {k_f1_score}): {f1_Score}')"
   ]
  },
  {
   "cell_type": "code",
   "execution_count": null,
   "id": "9805b25b",
   "metadata": {},
   "outputs": [],
   "source": [
    "# initialize our classifier\n",
    "parameters = {\"metric\":['euclidean' ,'manhattan','chebyshev','minkowski']}\n",
    "knn = KNeighborsClassifier(n_neighbors=k_value[precision.index(max(precision))])\n",
    "search_results =  GridSearchCV(knn, parameters)\n",
    "\n",
    "# fit the classifier with the training data\n",
    "search_results.fit(X_train, Y_train)"
   ]
  },
  {
   "cell_type": "code",
   "execution_count": null,
   "id": "3d3a26e2",
   "metadata": {},
   "outputs": [],
   "source": [
    "#get best parameter for metric and print\n",
    "opt_precision_metric = search_results.best_params_[\"metric\"]\n",
    "Y_Predicted = search_results.predict(X_test)\n",
    "Precision_Score = precision_score(Y_test,Y_Predicted)\n",
    "k_precision = k_value[precision.index(max(precision))]\n",
    "\n",
    "precision_list.append(Precision_Score)\n",
    "precision_metric_list.append(opt_precision_metric)\n",
    "precision_k_list.append(k_precision)\n",
    "\n",
    "print(f'Precision Score for optimum classifier(metric={opt_precision_metric}, kvalue= {k_precision}): {Precision_Score}')"
   ]
  },
  {
   "cell_type": "code",
   "execution_count": null,
   "id": "f43defd5",
   "metadata": {},
   "outputs": [],
   "source": [
    "end = datetime.now()\n",
    "time_taken = end - start\n",
    "print('Time: ',time_taken) "
   ]
  },
  {
   "cell_type": "markdown",
   "id": "9d0143d6",
   "metadata": {},
   "source": [
    "## Results"
   ]
  },
  {
   "cell_type": "code",
   "execution_count": null,
   "id": "f1861493",
   "metadata": {},
   "outputs": [],
   "source": [
    "data = {'Accuracy': accuracy_list, 'Accuracy K': accuracy_k_list, 'Accuracy Metric': accuracy_metric_list,\n",
    "        'Precision': precision_list, 'Precision K': precision_k_list, 'Precision Metric': precision_metric_list,\n",
    "        'F1_micro':f1_list, 'F1_micro K': f1_k_list, 'F1_micro Metric': f1_metric_list}"
   ]
  },
  {
   "cell_type": "code",
   "execution_count": null,
   "id": "17a23f6d",
   "metadata": {},
   "outputs": [],
   "source": [
    "trainingResults  = pd.DataFrame(data = data)\n",
    "pd.options.display.max_colwidth = 100\n",
    "trainingResults"
   ]
  },
  {
   "cell_type": "code",
   "execution_count": null,
   "id": "8dc02316",
   "metadata": {},
   "outputs": [],
   "source": [
    "trainingResults.to_csv('KNN_trainingResults.csv')"
   ]
  },
  {
   "cell_type": "code",
   "execution_count": null,
   "id": "ef4d8995",
   "metadata": {},
   "outputs": [],
   "source": []
  }
 ],
 "metadata": {
  "kernelspec": {
   "display_name": "Python 3 (ipykernel)",
   "language": "python",
   "name": "python3"
  },
  "language_info": {
   "codemirror_mode": {
    "name": "ipython",
    "version": 3
   },
   "file_extension": ".py",
   "mimetype": "text/x-python",
   "name": "python",
   "nbconvert_exporter": "python",
   "pygments_lexer": "ipython3",
   "version": "3.11.5"
  }
 },
 "nbformat": 4,
 "nbformat_minor": 5
}
