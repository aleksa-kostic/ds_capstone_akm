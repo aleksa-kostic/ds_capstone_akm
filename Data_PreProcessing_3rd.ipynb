{
 "cells": [
  {
   "cell_type": "code",
   "execution_count": 1,
   "id": "06877600-0230-454f-b1d8-84c558b28208",
   "metadata": {},
   "outputs": [
    {
     "name": "stdout",
     "output_type": "stream",
     "text": [
      "{'uci_id': 296, 'name': 'Diabetes 130-US hospitals for years 1999-2008', 'repository_url': 'https://archive.ics.uci.edu/dataset/296/diabetes+130-us+hospitals+for+years+1999-2008', 'data_url': 'https://archive.ics.uci.edu/static/public/296/data.csv', 'abstract': 'The dataset represents ten years (1999-2008) of clinical care at 130 US hospitals and integrated delivery networks. Each row concerns hospital records of patients diagnosed with diabetes, who underwent laboratory, medications, and stayed up to 14 days. The goal is to determine the early readmission of the patient within 30 days of discharge.\\nThe problem is important for the following reasons. Despite high-quality evidence showing improved clinical outcomes for diabetic patients who receive various preventive and therapeutic interventions, many patients do not receive them. This can be partially attributed to arbitrary diabetes management in hospital environments, which fail to attend to glycemic control. Failure to provide proper diabetes care not only increases the managing costs for the hospitals (as the patients are readmitted) but also impacts the morbidity and mortality of the patients, who may face complications associated with diabetes.\\n', 'area': 'Health and Medicine', 'tasks': ['Classification', 'Clustering'], 'characteristics': ['Multivariate'], 'num_instances': 101766, 'num_features': 47, 'feature_types': ['Categorical', 'Integer'], 'demographics': ['Race', 'Gender', 'Age'], 'target_col': ['readmitted'], 'index_col': ['encounter_id', 'patient_nbr'], 'has_missing_values': 'yes', 'missing_values_symbol': 'NaN', 'year_of_dataset_creation': 2014, 'last_updated': 'Fri Nov 03 2023', 'dataset_doi': '10.24432/C5230J', 'creators': ['John Clore', 'Krzysztof Cios', 'Jon DeShazo', 'Beata Strack'], 'intro_paper': {'title': 'Impact of HbA1c Measurement on Hospital Readmission Rates: Analysis of 70,000 Clinical Database Patient Record', 'authors': 'Beata Strack, Jonathan DeShazo, Chris Gennings, Juan Olmo, Sebastian Ventura, Krzysztof Cios, John Clore', 'published_in': 'BioMed Research International, vol. 2014', 'year': 2014, 'url': 'https://www.hindawi.com/journals/bmri/2014/781670/', 'doi': None}, 'additional_info': {'summary': 'The dataset represents ten years (1999-2008) of clinical care at 130 US hospitals and integrated delivery networks. It includes over 50 features representing patient and hospital outcomes. Information was extracted from the database for encounters that satisfied the following criteria.\\n(1)\\tIt is an inpatient encounter (a hospital admission).\\n(2)\\tIt is a diabetic encounter, that is, one during which any kind of diabetes was entered into the system as a diagnosis.\\n(3)\\tThe length of stay was at least 1 day and at most 14 days.\\n(4)\\tLaboratory tests were performed during the encounter.\\n(5)\\tMedications were administered during the encounter.\\n\\nThe data contains such attributes as patient number, race, gender, age, admission type, time in hospital, medical specialty of admitting physician, number of lab tests performed, HbA1c test result, diagnosis, number of medications, diabetic medications, number of outpatient, inpatient, and emergency visits in the year before the hospitalization, etc.', 'purpose': None, 'funded_by': None, 'instances_represent': 'The instances represent hospitalized patient records diagnosed with diabetes.', 'recommended_data_splits': 'No recommendation. The standard train-test split could be used. Can use three-way holdout split (i.e., train-validation-test) when doing model selection.', 'sensitive_data': 'Yes. The dataset contains information about the age, gender, and race of the patients.', 'preprocessing_description': None, 'variable_info': 'Detailed description of all the atrributes is provided in Table 1 Beata Strack, Jonathan P. DeShazo, Chris Gennings,  Juan L. Olmo, Sebastian Ventura,  Krzysztof J. Cios, and John N. Clore, “Impact of HbA1c Measurement on Hospital Readmission Rates: Analysis of 70,000 Clinical Database Patient Records,” BioMed Research International, vol. 2014, Article ID 781670, 11 pages, 2014.\\n\\nhttp://www.hindawi.com/journals/bmri/2014/781670/', 'citation': 'Please cite:\\nBeata Strack, Jonathan P. DeShazo, Chris Gennings, Juan L. Olmo, Sebastian Ventura, Krzysztof J. Cios, and John N. Clore, “Impact of HbA1c Measurement on Hospital Readmission Rates: Analysis of 70,000 Clinical Database Patient Records,” BioMed Research International, vol. 2014, Article ID 781670, 11 pages, 2014.'}}\n",
      "                        name     role         type demographic  \\\n",
      "0               encounter_id       ID                     None   \n",
      "1                patient_nbr       ID                     None   \n",
      "2                       race  Feature  Categorical        Race   \n",
      "3                     gender  Feature  Categorical      Gender   \n",
      "4                        age  Feature  Categorical         Age   \n",
      "5                     weight  Feature  Categorical        None   \n",
      "6          admission_type_id  Feature  Categorical        None   \n",
      "7   discharge_disposition_id  Feature  Categorical        None   \n",
      "8        admission_source_id  Feature  Categorical        None   \n",
      "9           time_in_hospital  Feature      Integer        None   \n",
      "10                payer_code  Feature  Categorical        None   \n",
      "11         medical_specialty  Feature  Categorical        None   \n",
      "12        num_lab_procedures  Feature      Integer        None   \n",
      "13            num_procedures  Feature      Integer        None   \n",
      "14           num_medications  Feature      Integer        None   \n",
      "15         number_outpatient  Feature      Integer        None   \n",
      "16          number_emergency  Feature      Integer        None   \n",
      "17          number_inpatient  Feature      Integer        None   \n",
      "18                    diag_1  Feature  Categorical        None   \n",
      "19                    diag_2  Feature  Categorical        None   \n",
      "20                    diag_3  Feature  Categorical        None   \n",
      "21          number_diagnoses  Feature      Integer        None   \n",
      "22             max_glu_serum  Feature  Categorical        None   \n",
      "23                 A1Cresult  Feature  Categorical        None   \n",
      "24                 metformin  Feature  Categorical        None   \n",
      "25               repaglinide  Feature  Categorical        None   \n",
      "26               nateglinide  Feature  Categorical        None   \n",
      "27            chlorpropamide  Feature  Categorical        None   \n",
      "28               glimepiride  Feature  Categorical        None   \n",
      "29             acetohexamide  Feature  Categorical        None   \n",
      "30                 glipizide  Feature  Categorical        None   \n",
      "31                 glyburide  Feature  Categorical        None   \n",
      "32               tolbutamide  Feature  Categorical        None   \n",
      "33              pioglitazone  Feature  Categorical        None   \n",
      "34             rosiglitazone  Feature  Categorical        None   \n",
      "35                  acarbose  Feature  Categorical        None   \n",
      "36                  miglitol  Feature  Categorical        None   \n",
      "37              troglitazone  Feature  Categorical        None   \n",
      "38                tolazamide  Feature  Categorical        None   \n",
      "39                   examide  Feature  Categorical        None   \n",
      "40               citoglipton  Feature  Categorical        None   \n",
      "41                   insulin  Feature  Categorical        None   \n",
      "42       glyburide-metformin  Feature  Categorical        None   \n",
      "43       glipizide-metformin  Feature  Categorical        None   \n",
      "44  glimepiride-pioglitazone  Feature  Categorical        None   \n",
      "45   metformin-rosiglitazone  Feature  Categorical        None   \n",
      "46    metformin-pioglitazone  Feature  Categorical        None   \n",
      "47                    change  Feature  Categorical        None   \n",
      "48               diabetesMed  Feature  Categorical        None   \n",
      "49                readmitted   Target  Categorical        None   \n",
      "\n",
      "                                          description units missing_values  \n",
      "0                   Unique identifier of an encounter  None             no  \n",
      "1                      Unique identifier of a patient  None             no  \n",
      "2   Values: Caucasian, Asian, African American, Hi...  None            yes  \n",
      "3           Values: male, female, and unknown/invalid  None             no  \n",
      "4   Grouped in 10-year intervals: [0, 10), [10, 20...  None             no  \n",
      "5                                   Weight in pounds.  None            yes  \n",
      "6   Integer identifier corresponding to 9 distinct...  None             no  \n",
      "7   Integer identifier corresponding to 29 distinc...  None             no  \n",
      "8   Integer identifier corresponding to 21 distinc...  None             no  \n",
      "9   Integer number of days between admission and d...  None             no  \n",
      "10  Integer identifier corresponding to 23 distinc...  None            yes  \n",
      "11  Integer identifier of a specialty of the admit...  None            yes  \n",
      "12  Number of lab tests performed during the encou...  None             no  \n",
      "13  Number of procedures (other than lab tests) pe...  None             no  \n",
      "14  Number of distinct generic names administered ...  None             no  \n",
      "15  Number of outpatient visits of the patient in ...  None             no  \n",
      "16  Number of emergency visits of the patient in t...  None             no  \n",
      "17  Number of inpatient visits of the patient in t...  None             no  \n",
      "18  The primary diagnosis (coded as first three di...  None            yes  \n",
      "19  Secondary diagnosis (coded as first three digi...  None            yes  \n",
      "20  Additional secondary diagnosis (coded as first...  None            yes  \n",
      "21          Number of diagnoses entered to the system  None             no  \n",
      "22  Indicates the range of the result or if the te...  None             no  \n",
      "23  Indicates the range of the result or if the te...  None             no  \n",
      "24  The feature indicates whether the drug was pre...  None             no  \n",
      "25  The feature indicates whether the drug was pre...  None             no  \n",
      "26  The feature indicates whether the drug was pre...  None             no  \n",
      "27  The feature indicates whether the drug was pre...  None             no  \n",
      "28  The feature indicates whether the drug was pre...  None             no  \n",
      "29  The feature indicates whether the drug was pre...  None             no  \n",
      "30  The feature indicates whether the drug was pre...  None             no  \n",
      "31  The feature indicates whether the drug was pre...  None             no  \n",
      "32  The feature indicates whether the drug was pre...  None             no  \n",
      "33  The feature indicates whether the drug was pre...  None             no  \n",
      "34  The feature indicates whether the drug was pre...  None             no  \n",
      "35  The feature indicates whether the drug was pre...  None             no  \n",
      "36  The feature indicates whether the drug was pre...  None             no  \n",
      "37  The feature indicates whether the drug was pre...  None             no  \n",
      "38  The feature indicates whether the drug was pre...  None             no  \n",
      "39  The feature indicates whether the drug was pre...  None             no  \n",
      "40  The feature indicates whether the drug was pre...  None             no  \n",
      "41  The feature indicates whether the drug was pre...  None             no  \n",
      "42  The feature indicates whether the drug was pre...  None             no  \n",
      "43  The feature indicates whether the drug was pre...  None             no  \n",
      "44  The feature indicates whether the drug was pre...  None             no  \n",
      "45  The feature indicates whether the drug was pre...  None             no  \n",
      "46  The feature indicates whether the drug was pre...  None             no  \n",
      "47  Indicates if there was a change in diabetic me...  None             no  \n",
      "48  Indicates if there was any diabetic medication...  None             no  \n",
      "49  Days to inpatient readmission. Values: <30 if ...  None             no  \n"
     ]
    },
    {
     "name": "stderr",
     "output_type": "stream",
     "text": [
      "/Users/marlenearredondo/opt/anaconda3/lib/python3.9/site-packages/ucimlrepo/fetch.py:97: DtypeWarning: Columns (10) have mixed types. Specify dtype option on import or set low_memory=False.\n",
      "  df = pd.read_csv(data_url)\n"
     ]
    }
   ],
   "source": [
    "from ucimlrepo import fetch_ucirepo \n",
    "  \n",
    "# fetch dataset \n",
    "diabetes_130_us_hospitals_for_years_1999_2008 = fetch_ucirepo(id=296) \n",
    "  \n",
    "# data (as pandas dataframes) \n",
    "X = diabetes_130_us_hospitals_for_years_1999_2008.data.features \n",
    "y = diabetes_130_us_hospitals_for_years_1999_2008.data.targets \n",
    "  \n",
    "# metadata \n",
    "print(diabetes_130_us_hospitals_for_years_1999_2008.metadata) \n",
    "  \n",
    "# variable information \n",
    "print(diabetes_130_us_hospitals_for_years_1999_2008.variables) "
   ]
  },
  {
   "cell_type": "code",
   "execution_count": 2,
   "id": "122bf692-175b-41db-9806-0bcf29fd1d24",
   "metadata": {},
   "outputs": [
    {
     "name": "stderr",
     "output_type": "stream",
     "text": [
      "/Users/marlenearredondo/opt/anaconda3/lib/python3.9/site-packages/scipy/__init__.py:155: UserWarning: A NumPy version >=1.18.5 and <1.25.0 is required for this version of SciPy (detected version 1.26.2\n",
      "  warnings.warn(f\"A NumPy version >={np_minversion} and <{np_maxversion}\"\n"
     ]
    }
   ],
   "source": [
    "import numpy as np\n",
    "import pandas as pd\n",
    "import matplotlib.pyplot as plt\n",
    "import seaborn as sns"
   ]
  },
  {
   "cell_type": "code",
   "execution_count": 3,
   "id": "60ac508b-1549-4568-b6b2-edb04406bd77",
   "metadata": {},
   "outputs": [],
   "source": [
    "data = X.copy(deep=True)\n",
    "y = data['diabetesMed']"
   ]
  },
  {
   "cell_type": "markdown",
   "id": "abbd9a20-14ad-48c8-a2fa-76c87d26e1d1",
   "metadata": {},
   "source": [
    "### One-Hot Encoding and Removing Columns"
   ]
  },
  {
   "cell_type": "code",
   "execution_count": 4,
   "id": "dd1260b1-f319-48f8-8869-379744d97ce5",
   "metadata": {},
   "outputs": [],
   "source": [
    "data = pd.get_dummies(data, columns=['race'], prefix='race')\n",
    "data = pd.get_dummies(data, columns=['age'], prefix='age') #sections, 0-10, 10-20, ...\n",
    "data = pd.get_dummies(data, columns=['gender'], prefix='gender') #'Female', 'Male', 'Unknown/Invalid'\n",
    "data = pd.get_dummies(data, columns=['metformin'], prefix='metformin') #it was no, steady , up or down for usage \n",
    "data = pd.get_dummies(data, columns=['A1Cresult'], prefix='A1Cresult')#measures blood sugar, none if not conducted, >8% , >7% and norm\n",
    "data = pd.get_dummies(data, columns=['max_glu_serum'], prefix='max_glu_serum')#'None', '>300', 'Norm', '>200' , higher 200 diab\n",
    "data = pd.get_dummies(data, columns=['weight'], prefix='weight')#nan, '[75-100)', '[50-75)', '[0-25)', ..., '>200'\n",
    "data = pd.get_dummies(data, columns=['repaglinide'], prefix='repaglinide') #'No', 'Up', 'Steady', 'Down'\n",
    "data = pd.get_dummies(data, columns=['nateglinide'], prefix='nateglinide') #'No', 'Up', 'Steady', 'Down'\n",
    "data = pd.get_dummies(data, columns=['chlorpropamide'], prefix='chlorpropamide') #'No', 'Up', 'Steady', 'Down'\n",
    "data = pd.get_dummies(data, columns=['glimepiride'], prefix='glimepiride') #'No', 'Up', 'Steady', 'Down'\n",
    "data = pd.get_dummies(data, columns=['acetohexamide'], prefix='acetohexamide') #'No', 'Up', 'Steady', 'Down'\n",
    "data = pd.get_dummies(data, columns=['glipizide'], prefix='glipizide') #'No', 'Up', 'Steady', 'Down'\n",
    "data = pd.get_dummies(data, columns=['glyburide'], prefix='glyburide') #'No', 'Up', 'Steady', 'Down'\n",
    "data = pd.get_dummies(data, columns=['tolbutamide'], prefix='tolbutamide') #'No', 'Up', 'Steady', 'Down'\n",
    "data = pd.get_dummies(data, columns=['pioglitazone'], prefix='pioglitazone') #'No', 'Up', 'Steady', 'Down'\n",
    "data = pd.get_dummies(data, columns=['rosiglitazone'], prefix='rosiglitazone') #'No', 'Up', 'Steady', 'Down'\n",
    "data = pd.get_dummies(data, columns=['acarbose'], prefix='acarbose') #'No', 'Up', 'Steady', 'Down'\n",
    "data = pd.get_dummies(data, columns=['miglitol'], prefix='miglitol') #'No', 'Up', 'Steady', 'Down'\n",
    "data = pd.get_dummies(data, columns=['troglitazone'], prefix='troglitazone') #'No', 'Up', 'Steady', 'Down'\n",
    "data = pd.get_dummies(data, columns=['tolazamide'], prefix='tolazamide') #'No', 'Up', 'Steady', 'Down'\n",
    "data = pd.get_dummies(data, columns=['examide'], prefix='examide') #'No', 'Up', 'Steady', 'Down'\n",
    "data = pd.get_dummies(data, columns=['citoglipton'], prefix='citoglipton') #'No', 'Up', 'Steady', 'Down'\n",
    "data = pd.get_dummies(data, columns=['insulin'], prefix='insulin') #'No', 'Up', 'Steady', 'Down'\n",
    "data = pd.get_dummies(data, columns=['glyburide-metformin'], prefix='glyburide-metformin') #'No', 'Up', 'Steady', 'Down'\n",
    "data = pd.get_dummies(data, columns=['glipizide-metformin'], prefix='glipizide-metformin') #'No', 'Up', 'Steady', 'Down'\n",
    "data = pd.get_dummies(data, columns=['glimepiride-pioglitazone'], prefix='glimepiride-pioglitazone') #'No', 'Up', 'Steady', 'Down'\n",
    "data = pd.get_dummies(data, columns=['metformin-rosiglitazone'], prefix='metformin-rosiglitazone') #'No', 'Up', '\n",
    "data = pd.get_dummies(data, columns=['metformin-pioglitazone'], prefix='metformin-pioglitazone') #'No', 'Up', '\n",
    "data = pd.get_dummies(data, columns=['change'], prefix='change') #change or no change\n",
    "#data = pd.get_dummies(data, columns=['readmitted'], prefix='readmitted') #'No', 'Up', '\n",
    "data = pd.get_dummies(data, columns=['diabetesMed'], prefix='diabetesMed') #'yes or no"
   ]
  },
  {
   "cell_type": "code",
   "execution_count": 5,
   "id": "13291ffd-538c-4680-9cbc-0e510da664f8",
   "metadata": {},
   "outputs": [],
   "source": [
    "columns_to_drop = ['diag_1', 'diag_2', 'diag_3','admission_type_id','discharge_disposition_id','admission_source_id',\n",
    "                   'payer_code','medical_specialty']\n",
    "data = data.drop(columns_to_drop, axis=1)"
   ]
  },
  {
   "cell_type": "markdown",
   "id": "04a91d74-ec3c-496b-b4bb-fdcc3dca3cde",
   "metadata": {},
   "source": [
    "### Balancing Data"
   ]
  },
  {
   "cell_type": "code",
   "execution_count": 6,
   "id": "74a00341-073d-4508-a4c9-c163be440988",
   "metadata": {},
   "outputs": [
    {
     "name": "stdout",
     "output_type": "stream",
     "text": [
      "\n",
      "Balanced Data Class Distribution:\n",
      "1    35104\n",
      "0    23403\n",
      "Name: diabetesMed_Yes, dtype: int64\n"
     ]
    }
   ],
   "source": [
    "positive = data[data['diabetesMed_Yes'] == 1]\n",
    "negative = data[data['diabetesMed_Yes'] == 0]\n",
    "\n",
    "target_positive = int(len(negative) / 0.4 * 0.6)\n",
    "\n",
    "# Sample the entire positive class without replacement\n",
    "positive_sample = positive.sample(target_positive, replace=False)\n",
    "\n",
    "# Concatenate the sampled positive class with the negative class\n",
    "balanced_data = pd.concat([positive_sample, negative])\n",
    "\n",
    "# Shuffle the data\n",
    "balanced_data = balanced_data.sample(frac=1).reset_index(drop=True)\n",
    "\n",
    "\n",
    "print(\"\\nBalanced Data Class Distribution:\")\n",
    "print(balanced_data['diabetesMed_Yes'].value_counts())"
   ]
  },
  {
   "cell_type": "code",
   "execution_count": 7,
   "id": "6e4ff6dc-fc1f-4542-b20d-c9c779c93a05",
   "metadata": {},
   "outputs": [
    {
     "name": "stdout",
     "output_type": "stream",
     "text": [
      "\n",
      "Percentage of Patients With Diabetes Medication : 60.00%\n",
      "Percentage of Patients Without Diabetes Medication : 40.00%\n"
     ]
    }
   ],
   "source": [
    "percentage_positive = (balanced_data['diabetesMed_Yes'].value_counts()[1] / len(balanced_data)) * 100\n",
    "percentage_negative = (balanced_data['diabetesMed_Yes'].value_counts()[0] / len(balanced_data)) * 100\n",
    "\n",
    "print(f\"\\nPercentage of Patients With Diabetes Medication : {percentage_positive:.2f}%\")\n",
    "print(f\"Percentage of Patients Without Diabetes Medication : {percentage_negative:.2f}%\")"
   ]
  },
  {
   "cell_type": "code",
   "execution_count": 8,
   "id": "90350e36-0fef-4243-8a95-1b70b0e29895",
   "metadata": {},
   "outputs": [],
   "source": [
    "balanced_data.to_csv('Preprocessed_data3.csv')"
   ]
  },
  {
   "cell_type": "code",
   "execution_count": null,
   "id": "ba4a8f9c-27b5-4ece-bd9e-00879b730802",
   "metadata": {},
   "outputs": [],
   "source": []
  }
 ],
 "metadata": {
  "kernelspec": {
   "display_name": "Python 3 (ipykernel)",
   "language": "python",
   "name": "python3"
  },
  "language_info": {
   "codemirror_mode": {
    "name": "ipython",
    "version": 3
   },
   "file_extension": ".py",
   "mimetype": "text/x-python",
   "name": "python",
   "nbconvert_exporter": "python",
   "pygments_lexer": "ipython3",
   "version": "3.9.13"
  }
 },
 "nbformat": 4,
 "nbformat_minor": 5
}
