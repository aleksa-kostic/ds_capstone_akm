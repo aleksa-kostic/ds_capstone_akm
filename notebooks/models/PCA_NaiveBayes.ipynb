{
 "cells": [
  {
   "cell_type": "code",
   "execution_count": 1,
   "id": "9de5e9d6-6472-464e-8148-da02f66d78c9",
   "metadata": {},
   "outputs": [
    {
     "name": "stderr",
     "output_type": "stream",
     "text": [
      "/Users/marlenearredondo/opt/anaconda3/lib/python3.9/site-packages/scipy/__init__.py:155: UserWarning: A NumPy version >=1.18.5 and <1.25.0 is required for this version of SciPy (detected version 1.26.2\n",
      "  warnings.warn(f\"A NumPy version >={np_minversion} and <{np_maxversion}\"\n"
     ]
    }
   ],
   "source": [
    "import pandas as pd\n",
    "from sklearn.decomposition import PCA\n",
    "from sklearn.metrics import accuracy_score, precision_score, recall_score, f1_score\n",
    "from sklearn.model_selection import train_test_split\n",
    "from sklearn.naive_bayes import GaussianNB, MultinomialNB, BernoulliNB\n",
    "from sklearn.preprocessing import MinMaxScaler, Binarizer\n",
    "import time"
   ]
  },
  {
   "cell_type": "code",
   "execution_count": 2,
   "id": "3605366c-2026-4084-8cbb-5a8f8e99e12d",
   "metadata": {},
   "outputs": [],
   "source": [
    "x_pca = pd.read_csv('pca_transformed_data.csv')"
   ]
  },
  {
   "cell_type": "code",
   "execution_count": 3,
   "id": "7ca9bddc-a7c4-4860-820a-dd8784d6e97e",
   "metadata": {},
   "outputs": [
    {
     "data": {
      "text/html": [
       "<div>\n",
       "<style scoped>\n",
       "    .dataframe tbody tr th:only-of-type {\n",
       "        vertical-align: middle;\n",
       "    }\n",
       "\n",
       "    .dataframe tbody tr th {\n",
       "        vertical-align: top;\n",
       "    }\n",
       "\n",
       "    .dataframe thead th {\n",
       "        text-align: right;\n",
       "    }\n",
       "</style>\n",
       "<table border=\"1\" class=\"dataframe\">\n",
       "  <thead>\n",
       "    <tr style=\"text-align: right;\">\n",
       "      <th></th>\n",
       "      <th>Unnamed: 0</th>\n",
       "      <th>num_lab_procedures_PC1</th>\n",
       "      <th>PhysHlth_PC2</th>\n",
       "      <th>num_medications_PC3</th>\n",
       "      <th>BMI_PC4</th>\n",
       "      <th>MentHlth_PC5</th>\n",
       "    </tr>\n",
       "  </thead>\n",
       "  <tbody>\n",
       "    <tr>\n",
       "      <th>0</th>\n",
       "      <td>0</td>\n",
       "      <td>25.076510</td>\n",
       "      <td>20.621222</td>\n",
       "      <td>19.834983</td>\n",
       "      <td>5.323047</td>\n",
       "      <td>8.544266</td>\n",
       "    </tr>\n",
       "    <tr>\n",
       "      <th>1</th>\n",
       "      <td>1</td>\n",
       "      <td>-1.701741</td>\n",
       "      <td>-5.346275</td>\n",
       "      <td>0.462210</td>\n",
       "      <td>-2.412440</td>\n",
       "      <td>-0.493331</td>\n",
       "    </tr>\n",
       "    <tr>\n",
       "      <th>2</th>\n",
       "      <td>2</td>\n",
       "      <td>4.708536</td>\n",
       "      <td>34.899327</td>\n",
       "      <td>-9.053155</td>\n",
       "      <td>-6.016315</td>\n",
       "      <td>7.842525</td>\n",
       "    </tr>\n",
       "    <tr>\n",
       "      <th>3</th>\n",
       "      <td>3</td>\n",
       "      <td>29.842298</td>\n",
       "      <td>-5.972239</td>\n",
       "      <td>-4.806152</td>\n",
       "      <td>0.166638</td>\n",
       "      <td>-0.620421</td>\n",
       "    </tr>\n",
       "    <tr>\n",
       "      <th>4</th>\n",
       "      <td>4</td>\n",
       "      <td>11.941984</td>\n",
       "      <td>-5.181381</td>\n",
       "      <td>-11.052760</td>\n",
       "      <td>-2.345629</td>\n",
       "      <td>1.312165</td>\n",
       "    </tr>\n",
       "    <tr>\n",
       "      <th>...</th>\n",
       "      <td>...</td>\n",
       "      <td>...</td>\n",
       "      <td>...</td>\n",
       "      <td>...</td>\n",
       "      <td>...</td>\n",
       "      <td>...</td>\n",
       "    </tr>\n",
       "    <tr>\n",
       "      <th>253675</th>\n",
       "      <td>253675</td>\n",
       "      <td>-18.235291</td>\n",
       "      <td>1.475038</td>\n",
       "      <td>-1.538528</td>\n",
       "      <td>17.145959</td>\n",
       "      <td>-2.093546</td>\n",
       "    </tr>\n",
       "    <tr>\n",
       "      <th>253676</th>\n",
       "      <td>253676</td>\n",
       "      <td>9.785051</td>\n",
       "      <td>-6.968723</td>\n",
       "      <td>-4.429917</td>\n",
       "      <td>-8.641597</td>\n",
       "      <td>-1.307823</td>\n",
       "    </tr>\n",
       "    <tr>\n",
       "      <th>253677</th>\n",
       "      <td>253677</td>\n",
       "      <td>25.210340</td>\n",
       "      <td>-5.326833</td>\n",
       "      <td>-1.239819</td>\n",
       "      <td>0.689406</td>\n",
       "      <td>-0.273325</td>\n",
       "    </tr>\n",
       "    <tr>\n",
       "      <th>253678</th>\n",
       "      <td>253678</td>\n",
       "      <td>28.836723</td>\n",
       "      <td>-5.592002</td>\n",
       "      <td>2.885522</td>\n",
       "      <td>-4.797216</td>\n",
       "      <td>-0.440997</td>\n",
       "    </tr>\n",
       "    <tr>\n",
       "      <th>253679</th>\n",
       "      <td>253679</td>\n",
       "      <td>7.851537</td>\n",
       "      <td>-5.800962</td>\n",
       "      <td>-3.039550</td>\n",
       "      <td>-1.957809</td>\n",
       "      <td>-0.717260</td>\n",
       "    </tr>\n",
       "  </tbody>\n",
       "</table>\n",
       "<p>253680 rows × 6 columns</p>\n",
       "</div>"
      ],
      "text/plain": [
       "        Unnamed: 0  num_lab_procedures_PC1  PhysHlth_PC2  num_medications_PC3  \\\n",
       "0                0               25.076510     20.621222            19.834983   \n",
       "1                1               -1.701741     -5.346275             0.462210   \n",
       "2                2                4.708536     34.899327            -9.053155   \n",
       "3                3               29.842298     -5.972239            -4.806152   \n",
       "4                4               11.941984     -5.181381           -11.052760   \n",
       "...            ...                     ...           ...                  ...   \n",
       "253675      253675              -18.235291      1.475038            -1.538528   \n",
       "253676      253676                9.785051     -6.968723            -4.429917   \n",
       "253677      253677               25.210340     -5.326833            -1.239819   \n",
       "253678      253678               28.836723     -5.592002             2.885522   \n",
       "253679      253679                7.851537     -5.800962            -3.039550   \n",
       "\n",
       "          BMI_PC4  MentHlth_PC5  \n",
       "0        5.323047      8.544266  \n",
       "1       -2.412440     -0.493331  \n",
       "2       -6.016315      7.842525  \n",
       "3        0.166638     -0.620421  \n",
       "4       -2.345629      1.312165  \n",
       "...           ...           ...  \n",
       "253675  17.145959     -2.093546  \n",
       "253676  -8.641597     -1.307823  \n",
       "253677   0.689406     -0.273325  \n",
       "253678  -4.797216     -0.440997  \n",
       "253679  -1.957809     -0.717260  \n",
       "\n",
       "[253680 rows x 6 columns]"
      ]
     },
     "execution_count": 3,
     "metadata": {},
     "output_type": "execute_result"
    }
   ],
   "source": [
    "x_pca"
   ]
  },
  {
   "cell_type": "code",
   "execution_count": 4,
   "id": "4bf01f11-6681-4455-aa47-4725da383c86",
   "metadata": {},
   "outputs": [],
   "source": [
    "df = pd.read_csv('cleaned_augmented_2.csv')"
   ]
  },
  {
   "cell_type": "markdown",
   "id": "9d56562b-0c53-4251-8bab-db617638fd73",
   "metadata": {},
   "source": [
    "### PCA split"
   ]
  },
  {
   "cell_type": "code",
   "execution_count": 5,
   "id": "c1826688-3919-4f48-9d1a-22be23c93b72",
   "metadata": {},
   "outputs": [],
   "source": [
    "x_train, x_test, y_train, y_test = train_test_split(x_pca, df['Diabetes_binary'], test_size=0.2)"
   ]
  },
  {
   "cell_type": "markdown",
   "id": "ed8d55a4-9b81-42b3-8b9a-4ffd2b16db74",
   "metadata": {},
   "source": [
    "#### Gaussian"
   ]
  },
  {
   "cell_type": "code",
   "execution_count": 6,
   "id": "5e9a1125-aacd-43cb-b3b1-4575db137c2f",
   "metadata": {},
   "outputs": [],
   "source": [
    "start_time = time.time()\n",
    "\n",
    "model_gaussian = GaussianNB()\n",
    "model_gaussian.fit(x_train, y_train)\n",
    "\n",
    "training_time_gaussian = time.time() - start_time"
   ]
  },
  {
   "cell_type": "code",
   "execution_count": 7,
   "id": "3723704f-d458-4973-ae58-989f986d6473",
   "metadata": {},
   "outputs": [],
   "source": [
    "start_time = time.time()\n",
    "prediction_gaussian = model_gaussian.predict(x_test)\n",
    "testing_time_gaussian = time.time() - start_time"
   ]
  },
  {
   "cell_type": "code",
   "execution_count": 8,
   "id": "9b487870-2486-46c5-b208-b79eb6a96298",
   "metadata": {},
   "outputs": [],
   "source": [
    "accuracy_gaussian = accuracy_score(y_test, prediction_gaussian)\n",
    "precision_gaussian = precision_score(y_test, prediction_gaussian)\n",
    "recall_gaussian = recall_score(y_test, prediction_gaussian)\n",
    "f1_gaussian = f1_score(y_test, prediction_gaussian)"
   ]
  },
  {
   "cell_type": "markdown",
   "id": "d9c6f86a-3472-42f0-8038-c98f2fc25885",
   "metadata": {},
   "source": [
    "#### Multinomial NB"
   ]
  },
  {
   "cell_type": "code",
   "execution_count": 9,
   "id": "dd32b6a1-4cd7-4420-b5a3-66fa83a05c75",
   "metadata": {},
   "outputs": [],
   "source": [
    "min_max_scaler = MinMaxScaler()\n",
    "x_minmax = min_max_scaler.fit_transform(df.drop('Diabetes_binary', axis=1))"
   ]
  },
  {
   "cell_type": "code",
   "execution_count": 10,
   "id": "1826ee41-0c7a-491d-95bf-9e9bf89c2827",
   "metadata": {},
   "outputs": [],
   "source": [
    "x_train_multinomial, x_test_multinomial, y_train_multinomial, y_test_multinomial = train_test_split(\n",
    "    x_minmax, df['Diabetes_binary'], test_size=0.2)"
   ]
  },
  {
   "cell_type": "code",
   "execution_count": 11,
   "id": "241ae20b-8ccf-4cb4-a95d-8afa37598f92",
   "metadata": {},
   "outputs": [],
   "source": [
    "start_time = time.time()\n",
    "\n",
    "model_multinomial = MultinomialNB()\n",
    "model_multinomial.fit(x_train_multinomial, y_train_multinomial)\n",
    "\n",
    "training_time_multinomial = time.time() - start_time"
   ]
  },
  {
   "cell_type": "code",
   "execution_count": 12,
   "id": "f66a8e48-55c5-4aef-aaa0-e57ecad5f89f",
   "metadata": {},
   "outputs": [],
   "source": [
    "start_time = time.time()\n",
    "prediction_multinomial = model_multinomial.predict(x_test_multinomial)\n",
    "testing_time_multinomial = time.time() - start_time"
   ]
  },
  {
   "cell_type": "code",
   "execution_count": 13,
   "id": "b5cd50ee-5afc-4e55-bca2-c0005dd0eb64",
   "metadata": {},
   "outputs": [],
   "source": [
    "accuracy_multinomial = accuracy_score(y_test_multinomial, prediction_multinomial)\n",
    "precision_multinomial = precision_score(y_test_multinomial, prediction_multinomial)\n",
    "recall_multinomial = recall_score(y_test_multinomial, prediction_multinomial)\n",
    "f1_multinomial = f1_score(y_test_multinomial, prediction_multinomial)"
   ]
  },
  {
   "cell_type": "markdown",
   "id": "9775ac76-673c-4261-8273-9dbf68c95656",
   "metadata": {},
   "source": [
    "#### Bernoulli NB"
   ]
  },
  {
   "cell_type": "code",
   "execution_count": 14,
   "id": "84c3d687-2294-4fb0-b021-c9ac9e3d09af",
   "metadata": {},
   "outputs": [],
   "source": [
    "binarizer = Binarizer()\n",
    "x_binary = binarizer.fit_transform(df.drop('Diabetes_binary', axis=1))"
   ]
  },
  {
   "cell_type": "code",
   "execution_count": 15,
   "id": "a4482a53-325a-4a21-a23f-8b673d53b48d",
   "metadata": {},
   "outputs": [],
   "source": [
    "x_train_bernoulli, x_test_bernoulli, y_train_bernoulli, y_test_bernoulli = train_test_split(\n",
    "    x_binary, df['Diabetes_binary'], test_size=0.2)"
   ]
  },
  {
   "cell_type": "code",
   "execution_count": 16,
   "id": "23976045-0f00-47ab-9b7a-fdfde02528ec",
   "metadata": {},
   "outputs": [],
   "source": [
    "start_time = time.time()\n",
    "\n",
    "model_bernoulli = BernoulliNB()\n",
    "model_bernoulli.fit(x_train_bernoulli, y_train_bernoulli)\n",
    "\n",
    "training_time_bernoulli = time.time() - start_time"
   ]
  },
  {
   "cell_type": "code",
   "execution_count": 17,
   "id": "762b1436-9ec0-4fab-8828-1714c6d51f47",
   "metadata": {},
   "outputs": [],
   "source": [
    "start_time = time.time()\n",
    "prediction_bernoulli = model_bernoulli.predict(x_test_bernoulli)\n",
    "testing_time_bernoulli = time.time() - start_time"
   ]
  },
  {
   "cell_type": "code",
   "execution_count": 18,
   "id": "3d201e4c-d463-4094-bfb5-dea77948ca8c",
   "metadata": {},
   "outputs": [],
   "source": [
    "prediction_bernoulli = model_bernoulli.predict(x_test_bernoulli)\n",
    "accuracy_bernoulli = accuracy_score(y_test_bernoulli, prediction_bernoulli)\n",
    "precision_bernoulli = precision_score(y_test_bernoulli, prediction_bernoulli)\n",
    "recall_bernoulli = recall_score(y_test_bernoulli, prediction_bernoulli)\n",
    "f1_bernoulli = f1_score(y_test_bernoulli, prediction_bernoulli)"
   ]
  },
  {
   "cell_type": "markdown",
   "id": "5b3c1a51-71a3-4559-804e-8690b8e7edb6",
   "metadata": {},
   "source": [
    "## Results"
   ]
  },
  {
   "cell_type": "code",
   "execution_count": 19,
   "id": "f4285bf3-96ff-48bc-a635-f8506d9a527c",
   "metadata": {},
   "outputs": [],
   "source": [
    "results_df = pd.DataFrame({\n",
    "    'Model': ['PCA + GaussianNB', 'MultinomialNB', 'BernoulliNB'],\n",
    "    'Accuracy': [accuracy_gaussian, accuracy_multinomial, accuracy_bernoulli],\n",
    "    'Precision': [precision_gaussian, precision_multinomial, precision_bernoulli],\n",
    "    'Recall': [recall_gaussian, recall_multinomial, recall_bernoulli],\n",
    "    'F1-Score': [f1_gaussian, f1_multinomial, f1_bernoulli],\n",
    "    'Training Time': [training_time_gaussian, training_time_multinomial, training_time_bernoulli],\n",
    "    'Testing Time': [testing_time_gaussian, testing_time_multinomial, testing_time_bernoulli]\n",
    "})"
   ]
  },
  {
   "cell_type": "code",
   "execution_count": 20,
   "id": "d7bec3ba-db94-4a0a-8d90-63ab0bcb0da6",
   "metadata": {},
   "outputs": [],
   "source": [
    "results_df.to_csv('PCA_NaiveBayes_results.csv')"
   ]
  },
  {
   "cell_type": "code",
   "execution_count": 21,
   "id": "30144fd6-dbc0-4c91-a209-bbc4af479c4e",
   "metadata": {},
   "outputs": [
    {
     "name": "stdout",
     "output_type": "stream",
     "text": [
      "              Model  Accuracy  Precision    Recall  F1-Score  Training Time  \\\n",
      "0  PCA + GaussianNB  0.835659   0.353330  0.228596  0.277595       0.045696   \n",
      "1     MultinomialNB  0.843858   0.404331  0.221308  0.286049       0.049371   \n",
      "2       BernoulliNB  0.826849   0.376614  0.376668  0.376641       0.207953   \n",
      "\n",
      "   Testing Time  \n",
      "0      0.007868  \n",
      "1      0.007581  \n",
      "2      0.041969  \n"
     ]
    }
   ],
   "source": [
    "print(results_df)"
   ]
  },
  {
   "cell_type": "code",
   "execution_count": null,
   "id": "bbecf9b9-4b75-4785-8f08-a42102f7da26",
   "metadata": {},
   "outputs": [],
   "source": []
  }
 ],
 "metadata": {
  "kernelspec": {
   "display_name": "Python 3 (ipykernel)",
   "language": "python",
   "name": "python3"
  },
  "language_info": {
   "codemirror_mode": {
    "name": "ipython",
    "version": 3
   },
   "file_extension": ".py",
   "mimetype": "text/x-python",
   "name": "python",
   "nbconvert_exporter": "python",
   "pygments_lexer": "ipython3",
   "version": "3.9.13"
  }
 },
 "nbformat": 4,
 "nbformat_minor": 5
}
