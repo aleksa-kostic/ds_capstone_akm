{
 "cells": [
  {
   "cell_type": "code",
   "execution_count": 1,
   "id": "68258908-6747-40c8-994a-7deb62cc3321",
   "metadata": {},
   "outputs": [
    {
     "name": "stderr",
     "output_type": "stream",
     "text": [
      "/Users/marlenearredondo/opt/anaconda3/lib/python3.9/site-packages/scipy/__init__.py:155: UserWarning: A NumPy version >=1.18.5 and <1.25.0 is required for this version of SciPy (detected version 1.26.2\n",
      "  warnings.warn(f\"A NumPy version >={np_minversion} and <{np_maxversion}\"\n"
     ]
    }
   ],
   "source": [
    "from sklearn.metrics import accuracy_score, precision_score, recall_score, f1_score\n",
    "import pandas as pd\n",
    "from sklearn.model_selection import train_test_split\n",
    "from sklearn.preprocessing import StandardScaler\n",
    "from sklearn import svm\n",
    "import time"
   ]
  },
  {
   "cell_type": "code",
   "execution_count": 2,
   "id": "5b61f045-a901-4afb-9938-4434a3c2752e",
   "metadata": {},
   "outputs": [
    {
     "data": {
      "text/html": [
       "<div>\n",
       "<style scoped>\n",
       "    .dataframe tbody tr th:only-of-type {\n",
       "        vertical-align: middle;\n",
       "    }\n",
       "\n",
       "    .dataframe tbody tr th {\n",
       "        vertical-align: top;\n",
       "    }\n",
       "\n",
       "    .dataframe thead th {\n",
       "        text-align: right;\n",
       "    }\n",
       "</style>\n",
       "<table border=\"1\" class=\"dataframe\">\n",
       "  <thead>\n",
       "    <tr style=\"text-align: right;\">\n",
       "      <th></th>\n",
       "      <th>HighBP</th>\n",
       "      <th>HighChol</th>\n",
       "      <th>CholCheck</th>\n",
       "      <th>BMI</th>\n",
       "      <th>Smoker</th>\n",
       "      <th>Stroke</th>\n",
       "      <th>HeartDiseaseorAttack</th>\n",
       "      <th>PhysActivity</th>\n",
       "      <th>Fruits</th>\n",
       "      <th>Veggies</th>\n",
       "      <th>...</th>\n",
       "      <th>number_inpatient</th>\n",
       "      <th>number_diagnoses</th>\n",
       "      <th>race_AfricanAmerican</th>\n",
       "      <th>race_Asian</th>\n",
       "      <th>race_Caucasian</th>\n",
       "      <th>race_Hispanic</th>\n",
       "      <th>race_Other</th>\n",
       "      <th>readmitted_&lt;30</th>\n",
       "      <th>readmitted_&gt;30</th>\n",
       "      <th>Diabetes_binary</th>\n",
       "    </tr>\n",
       "  </thead>\n",
       "  <tbody>\n",
       "    <tr>\n",
       "      <th>0</th>\n",
       "      <td>1</td>\n",
       "      <td>1</td>\n",
       "      <td>1</td>\n",
       "      <td>40</td>\n",
       "      <td>1</td>\n",
       "      <td>0</td>\n",
       "      <td>0</td>\n",
       "      <td>0</td>\n",
       "      <td>0</td>\n",
       "      <td>1</td>\n",
       "      <td>...</td>\n",
       "      <td>0</td>\n",
       "      <td>9</td>\n",
       "      <td>0</td>\n",
       "      <td>0</td>\n",
       "      <td>1</td>\n",
       "      <td>0</td>\n",
       "      <td>0</td>\n",
       "      <td>0</td>\n",
       "      <td>1</td>\n",
       "      <td>0</td>\n",
       "    </tr>\n",
       "    <tr>\n",
       "      <th>1</th>\n",
       "      <td>0</td>\n",
       "      <td>0</td>\n",
       "      <td>0</td>\n",
       "      <td>25</td>\n",
       "      <td>1</td>\n",
       "      <td>0</td>\n",
       "      <td>0</td>\n",
       "      <td>1</td>\n",
       "      <td>0</td>\n",
       "      <td>0</td>\n",
       "      <td>...</td>\n",
       "      <td>5</td>\n",
       "      <td>4</td>\n",
       "      <td>0</td>\n",
       "      <td>0</td>\n",
       "      <td>1</td>\n",
       "      <td>0</td>\n",
       "      <td>0</td>\n",
       "      <td>0</td>\n",
       "      <td>0</td>\n",
       "      <td>0</td>\n",
       "    </tr>\n",
       "    <tr>\n",
       "      <th>2</th>\n",
       "      <td>1</td>\n",
       "      <td>1</td>\n",
       "      <td>1</td>\n",
       "      <td>28</td>\n",
       "      <td>0</td>\n",
       "      <td>0</td>\n",
       "      <td>0</td>\n",
       "      <td>0</td>\n",
       "      <td>1</td>\n",
       "      <td>0</td>\n",
       "      <td>...</td>\n",
       "      <td>0</td>\n",
       "      <td>4</td>\n",
       "      <td>0</td>\n",
       "      <td>0</td>\n",
       "      <td>1</td>\n",
       "      <td>0</td>\n",
       "      <td>0</td>\n",
       "      <td>0</td>\n",
       "      <td>0</td>\n",
       "      <td>0</td>\n",
       "    </tr>\n",
       "    <tr>\n",
       "      <th>3</th>\n",
       "      <td>1</td>\n",
       "      <td>0</td>\n",
       "      <td>1</td>\n",
       "      <td>27</td>\n",
       "      <td>0</td>\n",
       "      <td>0</td>\n",
       "      <td>0</td>\n",
       "      <td>1</td>\n",
       "      <td>1</td>\n",
       "      <td>1</td>\n",
       "      <td>...</td>\n",
       "      <td>1</td>\n",
       "      <td>9</td>\n",
       "      <td>0</td>\n",
       "      <td>0</td>\n",
       "      <td>1</td>\n",
       "      <td>0</td>\n",
       "      <td>0</td>\n",
       "      <td>0</td>\n",
       "      <td>0</td>\n",
       "      <td>0</td>\n",
       "    </tr>\n",
       "    <tr>\n",
       "      <th>4</th>\n",
       "      <td>1</td>\n",
       "      <td>1</td>\n",
       "      <td>1</td>\n",
       "      <td>24</td>\n",
       "      <td>0</td>\n",
       "      <td>0</td>\n",
       "      <td>0</td>\n",
       "      <td>1</td>\n",
       "      <td>1</td>\n",
       "      <td>1</td>\n",
       "      <td>...</td>\n",
       "      <td>0</td>\n",
       "      <td>4</td>\n",
       "      <td>0</td>\n",
       "      <td>0</td>\n",
       "      <td>0</td>\n",
       "      <td>0</td>\n",
       "      <td>1</td>\n",
       "      <td>0</td>\n",
       "      <td>0</td>\n",
       "      <td>0</td>\n",
       "    </tr>\n",
       "    <tr>\n",
       "      <th>...</th>\n",
       "      <td>...</td>\n",
       "      <td>...</td>\n",
       "      <td>...</td>\n",
       "      <td>...</td>\n",
       "      <td>...</td>\n",
       "      <td>...</td>\n",
       "      <td>...</td>\n",
       "      <td>...</td>\n",
       "      <td>...</td>\n",
       "      <td>...</td>\n",
       "      <td>...</td>\n",
       "      <td>...</td>\n",
       "      <td>...</td>\n",
       "      <td>...</td>\n",
       "      <td>...</td>\n",
       "      <td>...</td>\n",
       "      <td>...</td>\n",
       "      <td>...</td>\n",
       "      <td>...</td>\n",
       "      <td>...</td>\n",
       "      <td>...</td>\n",
       "    </tr>\n",
       "    <tr>\n",
       "      <th>253675</th>\n",
       "      <td>1</td>\n",
       "      <td>1</td>\n",
       "      <td>1</td>\n",
       "      <td>45</td>\n",
       "      <td>0</td>\n",
       "      <td>0</td>\n",
       "      <td>0</td>\n",
       "      <td>0</td>\n",
       "      <td>1</td>\n",
       "      <td>1</td>\n",
       "      <td>...</td>\n",
       "      <td>0</td>\n",
       "      <td>5</td>\n",
       "      <td>0</td>\n",
       "      <td>0</td>\n",
       "      <td>1</td>\n",
       "      <td>0</td>\n",
       "      <td>0</td>\n",
       "      <td>0</td>\n",
       "      <td>0</td>\n",
       "      <td>0</td>\n",
       "    </tr>\n",
       "    <tr>\n",
       "      <th>253676</th>\n",
       "      <td>1</td>\n",
       "      <td>1</td>\n",
       "      <td>1</td>\n",
       "      <td>18</td>\n",
       "      <td>0</td>\n",
       "      <td>0</td>\n",
       "      <td>0</td>\n",
       "      <td>0</td>\n",
       "      <td>0</td>\n",
       "      <td>0</td>\n",
       "      <td>...</td>\n",
       "      <td>0</td>\n",
       "      <td>7</td>\n",
       "      <td>1</td>\n",
       "      <td>0</td>\n",
       "      <td>0</td>\n",
       "      <td>0</td>\n",
       "      <td>0</td>\n",
       "      <td>0</td>\n",
       "      <td>0</td>\n",
       "      <td>1</td>\n",
       "    </tr>\n",
       "    <tr>\n",
       "      <th>253677</th>\n",
       "      <td>0</td>\n",
       "      <td>0</td>\n",
       "      <td>1</td>\n",
       "      <td>28</td>\n",
       "      <td>0</td>\n",
       "      <td>0</td>\n",
       "      <td>0</td>\n",
       "      <td>1</td>\n",
       "      <td>1</td>\n",
       "      <td>0</td>\n",
       "      <td>...</td>\n",
       "      <td>2</td>\n",
       "      <td>5</td>\n",
       "      <td>0</td>\n",
       "      <td>0</td>\n",
       "      <td>1</td>\n",
       "      <td>0</td>\n",
       "      <td>0</td>\n",
       "      <td>0</td>\n",
       "      <td>1</td>\n",
       "      <td>0</td>\n",
       "    </tr>\n",
       "    <tr>\n",
       "      <th>253678</th>\n",
       "      <td>1</td>\n",
       "      <td>0</td>\n",
       "      <td>1</td>\n",
       "      <td>23</td>\n",
       "      <td>0</td>\n",
       "      <td>0</td>\n",
       "      <td>0</td>\n",
       "      <td>0</td>\n",
       "      <td>1</td>\n",
       "      <td>1</td>\n",
       "      <td>...</td>\n",
       "      <td>1</td>\n",
       "      <td>9</td>\n",
       "      <td>0</td>\n",
       "      <td>0</td>\n",
       "      <td>1</td>\n",
       "      <td>0</td>\n",
       "      <td>0</td>\n",
       "      <td>0</td>\n",
       "      <td>0</td>\n",
       "      <td>0</td>\n",
       "    </tr>\n",
       "    <tr>\n",
       "      <th>253679</th>\n",
       "      <td>1</td>\n",
       "      <td>1</td>\n",
       "      <td>1</td>\n",
       "      <td>25</td>\n",
       "      <td>0</td>\n",
       "      <td>0</td>\n",
       "      <td>1</td>\n",
       "      <td>1</td>\n",
       "      <td>1</td>\n",
       "      <td>0</td>\n",
       "      <td>...</td>\n",
       "      <td>0</td>\n",
       "      <td>9</td>\n",
       "      <td>1</td>\n",
       "      <td>0</td>\n",
       "      <td>0</td>\n",
       "      <td>0</td>\n",
       "      <td>0</td>\n",
       "      <td>0</td>\n",
       "      <td>0</td>\n",
       "      <td>1</td>\n",
       "    </tr>\n",
       "  </tbody>\n",
       "</table>\n",
       "<p>253680 rows × 43 columns</p>\n",
       "</div>"
      ],
      "text/plain": [
       "        HighBP  HighChol  CholCheck  BMI  Smoker  Stroke  \\\n",
       "0            1         1          1   40       1       0   \n",
       "1            0         0          0   25       1       0   \n",
       "2            1         1          1   28       0       0   \n",
       "3            1         0          1   27       0       0   \n",
       "4            1         1          1   24       0       0   \n",
       "...        ...       ...        ...  ...     ...     ...   \n",
       "253675       1         1          1   45       0       0   \n",
       "253676       1         1          1   18       0       0   \n",
       "253677       0         0          1   28       0       0   \n",
       "253678       1         0          1   23       0       0   \n",
       "253679       1         1          1   25       0       0   \n",
       "\n",
       "        HeartDiseaseorAttack  PhysActivity  Fruits  Veggies  ...  \\\n",
       "0                          0             0       0        1  ...   \n",
       "1                          0             1       0        0  ...   \n",
       "2                          0             0       1        0  ...   \n",
       "3                          0             1       1        1  ...   \n",
       "4                          0             1       1        1  ...   \n",
       "...                      ...           ...     ...      ...  ...   \n",
       "253675                     0             0       1        1  ...   \n",
       "253676                     0             0       0        0  ...   \n",
       "253677                     0             1       1        0  ...   \n",
       "253678                     0             0       1        1  ...   \n",
       "253679                     1             1       1        0  ...   \n",
       "\n",
       "        number_inpatient  number_diagnoses  race_AfricanAmerican  race_Asian  \\\n",
       "0                      0                 9                     0           0   \n",
       "1                      5                 4                     0           0   \n",
       "2                      0                 4                     0           0   \n",
       "3                      1                 9                     0           0   \n",
       "4                      0                 4                     0           0   \n",
       "...                  ...               ...                   ...         ...   \n",
       "253675                 0                 5                     0           0   \n",
       "253676                 0                 7                     1           0   \n",
       "253677                 2                 5                     0           0   \n",
       "253678                 1                 9                     0           0   \n",
       "253679                 0                 9                     1           0   \n",
       "\n",
       "        race_Caucasian  race_Hispanic  race_Other  readmitted_<30  \\\n",
       "0                    1              0           0               0   \n",
       "1                    1              0           0               0   \n",
       "2                    1              0           0               0   \n",
       "3                    1              0           0               0   \n",
       "4                    0              0           1               0   \n",
       "...                ...            ...         ...             ...   \n",
       "253675               1              0           0               0   \n",
       "253676               0              0           0               0   \n",
       "253677               1              0           0               0   \n",
       "253678               1              0           0               0   \n",
       "253679               0              0           0               0   \n",
       "\n",
       "        readmitted_>30  Diabetes_binary  \n",
       "0                    1                0  \n",
       "1                    0                0  \n",
       "2                    0                0  \n",
       "3                    0                0  \n",
       "4                    0                0  \n",
       "...                ...              ...  \n",
       "253675               0                0  \n",
       "253676               0                1  \n",
       "253677               1                0  \n",
       "253678               0                0  \n",
       "253679               0                1  \n",
       "\n",
       "[253680 rows x 43 columns]"
      ]
     },
     "execution_count": 2,
     "metadata": {},
     "output_type": "execute_result"
    }
   ],
   "source": [
    "df = pd.read_csv('cleaned_augmented_2.csv')\n",
    "df"
   ]
  },
  {
   "cell_type": "markdown",
   "id": "9b74c7e5-44df-42f3-8a1b-1ec52e6b0e21",
   "metadata": {},
   "source": [
    "## SVM"
   ]
  },
  {
   "cell_type": "markdown",
   "id": "ed24de18-939e-436e-ab20-b5779599fdff",
   "metadata": {},
   "source": [
    "### Preparing training and Test Data"
   ]
  },
  {
   "cell_type": "code",
   "execution_count": 3,
   "id": "9e29081f-a912-4318-9475-dbba5d3aac55",
   "metadata": {},
   "outputs": [],
   "source": [
    "X = df.drop('Diabetes_binary',axis=1)\n",
    "y = df['Diabetes_binary']"
   ]
  },
  {
   "cell_type": "code",
   "execution_count": 4,
   "id": "2e2b21b9-6119-491f-abae-0db1fbc0c701",
   "metadata": {},
   "outputs": [
    {
     "data": {
      "text/plain": [
       "array([[ 1.15368814,  1.16525449,  0.19692156, ..., -0.12394236,\n",
       "        -0.32714466,  1.4611329 ],\n",
       "       [-0.86678537, -0.85818163, -5.07816412, ..., -0.12394236,\n",
       "        -0.32714466, -0.68440044],\n",
       "       [ 1.15368814,  1.16525449,  0.19692156, ..., -0.12394236,\n",
       "        -0.32714466, -0.68440044],\n",
       "       ...,\n",
       "       [-0.86678537, -0.85818163,  0.19692156, ..., -0.12394236,\n",
       "        -0.32714466,  1.4611329 ],\n",
       "       [ 1.15368814, -0.85818163,  0.19692156, ..., -0.12394236,\n",
       "        -0.32714466, -0.68440044],\n",
       "       [ 1.15368814,  1.16525449,  0.19692156, ..., -0.12394236,\n",
       "        -0.32714466, -0.68440044]])"
      ]
     },
     "execution_count": 4,
     "metadata": {},
     "output_type": "execute_result"
    }
   ],
   "source": [
    "scaler=StandardScaler()\n",
    "x_std=scaler.fit_transform(X)\n",
    "x_std"
   ]
  },
  {
   "cell_type": "code",
   "execution_count": 5,
   "id": "5bfd4c42-15a6-48c6-996e-5996128ecdb2",
   "metadata": {},
   "outputs": [
    {
     "name": "stdout",
     "output_type": "stream",
     "text": [
      "x_train: (190260, 42)\n",
      "x_test: (63420, 42)\n",
      "y_train: (190260,)\n",
      "y_test: (63420,)\n"
     ]
    }
   ],
   "source": [
    "x_train,x_test,y_train,y_test=train_test_split(x_std,y,test_size=0.25)\n",
    "print('x_train:',x_train.shape)\n",
    "print('x_test:',x_test.shape)\n",
    "print('y_train:',y_train.shape)\n",
    "print('y_test:',y_test.shape)"
   ]
  },
  {
   "cell_type": "code",
   "execution_count": 6,
   "id": "52cde556-6539-4d89-ae08-33bfe32fa439",
   "metadata": {},
   "outputs": [],
   "source": [
    "results_data = {'Model': [], 'Training Time (s)': [], 'Testing Time (s)': [], \n",
    "                'Accuracy': [], 'Precision': [], 'Recall': [], 'F1-Score': []}"
   ]
  },
  {
   "cell_type": "markdown",
   "id": "79f4afd6-2ade-42a0-9cde-b6fe8202b531",
   "metadata": {},
   "source": [
    "### Model Generation SVM - Linear"
   ]
  },
  {
   "cell_type": "code",
   "execution_count": 7,
   "id": "b7844c0c-563a-46d7-bc67-0e7473c53d2a",
   "metadata": {},
   "outputs": [],
   "source": [
    "start_time = time.time()\n",
    "\n",
    "classifier=svm.SVC(kernel='linear')\n",
    "classifier.fit(x_train,y_train)\n",
    "\n",
    "training_time = time.time() - start_time"
   ]
  },
  {
   "cell_type": "code",
   "execution_count": 8,
   "id": "1f3f0f77-5615-444b-9d50-88e61eb18676",
   "metadata": {},
   "outputs": [],
   "source": [
    "start_time = time.time()\n",
    "\n",
    "prediction=classifier.predict(x_test)\n",
    "\n",
    "testing_time = time.time() - start_time"
   ]
  },
  {
   "cell_type": "code",
   "execution_count": 9,
   "id": "e4cd1118-4faf-4b3c-a5d9-368f47f1c401",
   "metadata": {},
   "outputs": [
    {
     "name": "stderr",
     "output_type": "stream",
     "text": [
      "/Users/marlenearredondo/opt/anaconda3/lib/python3.9/site-packages/sklearn/metrics/_classification.py:1318: UndefinedMetricWarning: Precision is ill-defined and being set to 0.0 due to no predicted samples. Use `zero_division` parameter to control this behavior.\n",
      "  _warn_prf(average, modifier, msg_start, len(result))\n"
     ]
    }
   ],
   "source": [
    "accuracy = accuracy_score(y_test, prediction)\n",
    "precision = precision_score(y_test, prediction)\n",
    "recall = recall_score(y_test, prediction)\n",
    "f1 = f1_score(y_test, prediction)"
   ]
  },
  {
   "cell_type": "code",
   "execution_count": 10,
   "id": "e4c52776-6f58-451d-8efa-c671b42c0672",
   "metadata": {},
   "outputs": [],
   "source": [
    "results_data['Model'].append('SVM Linear')\n",
    "results_data['Training Time (s)'].append(training_time)\n",
    "results_data['Testing Time (s)'].append(testing_time)\n",
    "results_data['Accuracy'].append(accuracy)\n",
    "results_data['Precision'].append(precision)\n",
    "results_data['Recall'].append(recall)\n",
    "results_data['F1-Score'].append(f1)"
   ]
  },
  {
   "cell_type": "markdown",
   "id": "1cf04381-743b-44c7-bc63-87a3b1276cb2",
   "metadata": {},
   "source": [
    "### Model Generation SVM - Poly"
   ]
  },
  {
   "cell_type": "code",
   "execution_count": 11,
   "id": "0c1e3872-f5c6-4adb-9418-197f16c98000",
   "metadata": {},
   "outputs": [],
   "source": [
    "start_time = time.time()\n",
    "\n",
    "classifier_pol = svm.SVC(kernel='poly')\n",
    "classifier_pol.fit(x_train, y_train)\n",
    "\n",
    "training_time = time.time() - start_time"
   ]
  },
  {
   "cell_type": "code",
   "execution_count": 12,
   "id": "9669c0c7-5d98-4818-b8d2-32c646293ceb",
   "metadata": {},
   "outputs": [],
   "source": [
    "start_time = time.time()\n",
    "\n",
    "prediction = classifier_pol.predict(x_test)\n",
    "\n",
    "testing_time = time.time() - start_time"
   ]
  },
  {
   "cell_type": "code",
   "execution_count": 13,
   "id": "274309c7-dc5a-49d6-90db-b2e1a7c397f7",
   "metadata": {},
   "outputs": [],
   "source": [
    "accuracy = accuracy_score(y_test, prediction)\n",
    "precision = precision_score(y_test, prediction)\n",
    "recall = recall_score(y_test, prediction)\n",
    "f1 = f1_score(y_test, prediction)"
   ]
  },
  {
   "cell_type": "code",
   "execution_count": 14,
   "id": "f9ab18ff-6829-4933-a058-0670d6900570",
   "metadata": {},
   "outputs": [],
   "source": [
    "results_data['Model'].append('SVM Poly')\n",
    "results_data['Training Time (s)'].append(training_time)\n",
    "results_data['Testing Time (s)'].append(testing_time)\n",
    "results_data['Accuracy'].append(accuracy)\n",
    "results_data['Precision'].append(precision)\n",
    "results_data['Recall'].append(recall)\n",
    "results_data['F1-Score'].append(f1)"
   ]
  },
  {
   "cell_type": "markdown",
   "id": "79bd4ac8-5310-41ba-9eca-f6eb3a86f1bf",
   "metadata": {},
   "source": [
    "### Model Generation SVM - Radial Basis Funct"
   ]
  },
  {
   "cell_type": "code",
   "execution_count": 15,
   "id": "0ee02db5-0cc2-4239-a336-9b034a404e2c",
   "metadata": {},
   "outputs": [],
   "source": [
    "start_time = time.time()\n",
    "\n",
    "classifier_rbf = svm.SVC(kernel='rbf')\n",
    "classifier_rbf.fit(x_train, y_train)\n",
    "\n",
    "training_time = time.time() - start_time"
   ]
  },
  {
   "cell_type": "code",
   "execution_count": 16,
   "id": "5bc1c5c9-1fa3-4875-8aa3-b3f6527d544c",
   "metadata": {},
   "outputs": [],
   "source": [
    "start_time = time.time()\n",
    "\n",
    "prediction = classifier_rbf.predict(x_test)\n",
    "\n",
    "testing_time = time.time() - start_time"
   ]
  },
  {
   "cell_type": "code",
   "execution_count": 17,
   "id": "7cefd72e-082a-4628-89cb-ec25a3491506",
   "metadata": {},
   "outputs": [],
   "source": [
    "accuracy = accuracy_score(y_test, prediction)\n",
    "precision = precision_score(y_test, prediction)\n",
    "recall = recall_score(y_test, prediction)\n",
    "f1 = f1_score(y_test, prediction)"
   ]
  },
  {
   "cell_type": "code",
   "execution_count": 18,
   "id": "d5fbfe84-cef1-433c-95fa-a2ef395f3072",
   "metadata": {},
   "outputs": [],
   "source": [
    "results_data['Model'].append('SVM RBF')\n",
    "results_data['Training Time (s)'].append(training_time)\n",
    "results_data['Testing Time (s)'].append(testing_time)\n",
    "results_data['Accuracy'].append(accuracy)\n",
    "results_data['Precision'].append(precision)\n",
    "results_data['Recall'].append(recall)\n",
    "results_data['F1-Score'].append(f1)"
   ]
  },
  {
   "cell_type": "markdown",
   "id": "9bc6395e-4257-4844-88ad-2b23a977e545",
   "metadata": {},
   "source": [
    "## Store Results"
   ]
  },
  {
   "cell_type": "code",
   "execution_count": 19,
   "id": "e43adc77-691f-4091-b5c8-28d4fde62316",
   "metadata": {},
   "outputs": [],
   "source": [
    "results_df = pd.DataFrame(results_data)"
   ]
  },
  {
   "cell_type": "code",
   "execution_count": 20,
   "id": "eb430fd8-3913-4648-8f66-1463828e8ccd",
   "metadata": {},
   "outputs": [],
   "source": [
    "results_df.to_csv('SVM_trainingResults.csv', index=False)"
   ]
  },
  {
   "cell_type": "code",
   "execution_count": 21,
   "id": "32d2e2ab-3edf-4f80-a771-6ef09893c7ab",
   "metadata": {},
   "outputs": [
    {
     "name": "stdout",
     "output_type": "stream",
     "text": [
      "        Model  Training Time (s)  Testing Time (s)  Accuracy  Precision  \\\n",
      "0  SVM Linear        7207.852956        128.096489  0.859413   0.000000   \n",
      "1    SVM Poly        2981.159068        163.206758  0.870435   0.654033   \n",
      "2     SVM RBF       44011.238664       8853.889220  0.871176   0.693867   \n",
      "\n",
      "     Recall  F1-Score  \n",
      "0  0.000000  0.000000  \n",
      "1  0.166442  0.265355  \n",
      "2  0.149731  0.246310  \n"
     ]
    }
   ],
   "source": [
    "print(results_df)"
   ]
  }
 ],
 "metadata": {
  "kernelspec": {
   "display_name": "Python 3 (ipykernel)",
   "language": "python",
   "name": "python3"
  },
  "language_info": {
   "codemirror_mode": {
    "name": "ipython",
    "version": 3
   },
   "file_extension": ".py",
   "mimetype": "text/x-python",
   "name": "python",
   "nbconvert_exporter": "python",
   "pygments_lexer": "ipython3",
   "version": "3.9.13"
  }
 },
 "nbformat": 4,
 "nbformat_minor": 5
}
